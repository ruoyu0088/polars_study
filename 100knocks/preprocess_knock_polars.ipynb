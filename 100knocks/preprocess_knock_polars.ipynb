{
 "cells": [
  {
   "cell_type": "markdown",
   "metadata": {},
   "source": [
    "# データサイエンス100本ノック（構造化データ加工編） - Polars"
   ]
  },
  {
   "cell_type": "markdown",
   "metadata": {},
   "source": [
    "## はじめに"
   ]
  },
  {
   "cell_type": "markdown",
   "metadata": {},
   "source": [
    "[100knocks-preprocess](https://github.com/The-Japan-DataScientist-Society/100knocks-preprocess) からサンプルデータをダウンロードしてください。\n",
    "\n",
    "- 初めに以下のセルを実行してください\n",
    "- 必要なライブラリのインポートとデータベース（PostgreSQL）からのデータ読み込みを行います\n",
    "- pandas等、利用が想定されるライブラリは以下セルでインポートしています\n",
    "- その他利用したいライブラリがあれば適宜インストールしてください（\"!pip install ライブラリ名\"でインストールも可能）\n",
    "- 処理は複数回に分けても構いません\n",
    "- 名前、住所等はダミーデータであり、実在するものではありません"
   ]
  },
  {
   "cell_type": "code",
   "execution_count": 1,
   "metadata": {},
   "outputs": [],
   "source": [
    "import polars as pl\n",
    "pl.Config.set_fmt_str_lengths(100)\n",
    "\n",
    "dtypes = {\n",
    "    'customer_id': str,\n",
    "    'gender_cd': str,\n",
    "    'postal_cd': str,\n",
    "    'application_store_cd': str,\n",
    "    'status_cd': str,\n",
    "    'category_major_cd': str,\n",
    "    'category_medium_cd': str,\n",
    "    'category_small_cd': str,\n",
    "    'product_cd': str,\n",
    "    'store_cd': str,\n",
    "    'prefecture_cd': str,\n",
    "    'tel_no': str,\n",
    "    'postal_cd': str,\n",
    "    'street': str\n",
    "}\n",
    "df_customer = pl.read_csv(\"data/customer.csv\", dtypes=dtypes)\n",
    "df_category = pl.read_csv(\"data/category.csv\", dtypes=dtypes)\n",
    "df_product = pl.read_csv(\"data/product.csv\", dtypes=dtypes)\n",
    "df_receipt = pl.read_csv(\"data/receipt.csv\", dtypes=dtypes)\n",
    "df_store = pl.read_csv(\"data/store.csv\", dtypes=dtypes)\n",
    "df_geocode = pl.read_csv(\"data/geocode.csv\", dtypes=dtypes)"
   ]
  },
  {
   "cell_type": "markdown",
   "metadata": {},
   "source": [
    "## 演習問題 001 ~ 010"
   ]
  },
  {
   "cell_type": "markdown",
   "metadata": {},
   "source": [
    "### P-001\n",
    "\n",
    "レシート明細データ（df_receipt）から全項目の先頭10件を表示し、どのようなデータを保有しているか目視で確認せよ。"
   ]
  },
  {
   "cell_type": "code",
   "execution_count": 18,
   "metadata": {},
   "outputs": [
    {
     "data": {
      "text/html": [
       "<div><style>\n",
       ".dataframe > thead > tr,\n",
       ".dataframe > tbody > tr {\n",
       "  text-align: right;\n",
       "  white-space: pre-wrap;\n",
       "}\n",
       "</style>\n",
       "<small>shape: (5, 9)</small><table border=\"1\" class=\"dataframe\"><thead><tr><th>sales_ymd</th><th>sales_epoch</th><th>store_cd</th><th>receipt_no</th><th>receipt_sub_no</th><th>customer_id</th><th>product_cd</th><th>quantity</th><th>amount</th></tr><tr><td>i64</td><td>i64</td><td>str</td><td>i64</td><td>i64</td><td>str</td><td>str</td><td>i64</td><td>i64</td></tr></thead><tbody><tr><td>20181103</td><td>1541203200</td><td>&quot;S14006&quot;</td><td>112</td><td>1</td><td>&quot;CS006214000001&quot;</td><td>&quot;P070305012&quot;</td><td>1</td><td>158</td></tr><tr><td>20181118</td><td>1542499200</td><td>&quot;S13008&quot;</td><td>1132</td><td>2</td><td>&quot;CS008415000097&quot;</td><td>&quot;P070701017&quot;</td><td>1</td><td>81</td></tr><tr><td>20170712</td><td>1499817600</td><td>&quot;S14028&quot;</td><td>1102</td><td>1</td><td>&quot;CS028414000014&quot;</td><td>&quot;P060101005&quot;</td><td>1</td><td>170</td></tr><tr><td>20190205</td><td>1549324800</td><td>&quot;S14042&quot;</td><td>1132</td><td>1</td><td>&quot;ZZ000000000000&quot;</td><td>&quot;P050301001&quot;</td><td>1</td><td>25</td></tr><tr><td>20180821</td><td>1534809600</td><td>&quot;S14025&quot;</td><td>1102</td><td>2</td><td>&quot;CS025415000050&quot;</td><td>&quot;P060102007&quot;</td><td>1</td><td>90</td></tr></tbody></table></div>"
      ],
      "text/plain": [
       "shape: (5, 9)\n",
       "┌───────────┬─────────────┬──────────┬────────────┬───┬────────────────┬────────────┬──────────┬────────┐\n",
       "│ sales_ymd ┆ sales_epoch ┆ store_cd ┆ receipt_no ┆ … ┆ customer_id    ┆ product_cd ┆ quantity ┆ amount │\n",
       "│ ---       ┆ ---         ┆ ---      ┆ ---        ┆   ┆ ---            ┆ ---        ┆ ---      ┆ ---    │\n",
       "│ i64       ┆ i64         ┆ str      ┆ i64        ┆   ┆ str            ┆ str        ┆ i64      ┆ i64    │\n",
       "╞═══════════╪═════════════╪══════════╪════════════╪═══╪════════════════╪════════════╪══════════╪════════╡\n",
       "│ 20181103  ┆ 1541203200  ┆ S14006   ┆ 112        ┆ … ┆ CS006214000001 ┆ P070305012 ┆ 1        ┆ 158    │\n",
       "│ 20181118  ┆ 1542499200  ┆ S13008   ┆ 1132       ┆ … ┆ CS008415000097 ┆ P070701017 ┆ 1        ┆ 81     │\n",
       "│ 20170712  ┆ 1499817600  ┆ S14028   ┆ 1102       ┆ … ┆ CS028414000014 ┆ P060101005 ┆ 1        ┆ 170    │\n",
       "│ 20190205  ┆ 1549324800  ┆ S14042   ┆ 1132       ┆ … ┆ ZZ000000000000 ┆ P050301001 ┆ 1        ┆ 25     │\n",
       "│ 20180821  ┆ 1534809600  ┆ S14025   ┆ 1102       ┆ … ┆ CS025415000050 ┆ P060102007 ┆ 1        ┆ 90     │\n",
       "└───────────┴─────────────┴──────────┴────────────┴───┴────────────────┴────────────┴──────────┴────────┘"
      ]
     },
     "execution_count": 18,
     "metadata": {},
     "output_type": "execute_result"
    }
   ],
   "source": [
    "df_receipt.head(5)"
   ]
  },
  {
   "cell_type": "markdown",
   "metadata": {},
   "source": [
    "### P-002\n",
    "\n",
    "レシート明細データ（df_receipt）から売上年月日（sales_ymd）、顧客ID（customer_id）、商品コード（product_cd）、売上金額（amount）の順に列を指定し、10件表示せよ。"
   ]
  },
  {
   "cell_type": "code",
   "execution_count": 19,
   "metadata": {},
   "outputs": [
    {
     "data": {
      "text/html": [
       "<div><style>\n",
       ".dataframe > thead > tr,\n",
       ".dataframe > tbody > tr {\n",
       "  text-align: right;\n",
       "  white-space: pre-wrap;\n",
       "}\n",
       "</style>\n",
       "<small>shape: (5, 4)</small><table border=\"1\" class=\"dataframe\"><thead><tr><th>sales_ymd</th><th>customer_id</th><th>product_cd</th><th>amount</th></tr><tr><td>i64</td><td>str</td><td>str</td><td>i64</td></tr></thead><tbody><tr><td>20181103</td><td>&quot;CS006214000001&quot;</td><td>&quot;P070305012&quot;</td><td>158</td></tr><tr><td>20181118</td><td>&quot;CS008415000097&quot;</td><td>&quot;P070701017&quot;</td><td>81</td></tr><tr><td>20170712</td><td>&quot;CS028414000014&quot;</td><td>&quot;P060101005&quot;</td><td>170</td></tr><tr><td>20190205</td><td>&quot;ZZ000000000000&quot;</td><td>&quot;P050301001&quot;</td><td>25</td></tr><tr><td>20180821</td><td>&quot;CS025415000050&quot;</td><td>&quot;P060102007&quot;</td><td>90</td></tr></tbody></table></div>"
      ],
      "text/plain": [
       "shape: (5, 4)\n",
       "┌───────────┬────────────────┬────────────┬────────┐\n",
       "│ sales_ymd ┆ customer_id    ┆ product_cd ┆ amount │\n",
       "│ ---       ┆ ---            ┆ ---        ┆ ---    │\n",
       "│ i64       ┆ str            ┆ str        ┆ i64    │\n",
       "╞═══════════╪════════════════╪════════════╪════════╡\n",
       "│ 20181103  ┆ CS006214000001 ┆ P070305012 ┆ 158    │\n",
       "│ 20181118  ┆ CS008415000097 ┆ P070701017 ┆ 81     │\n",
       "│ 20170712  ┆ CS028414000014 ┆ P060101005 ┆ 170    │\n",
       "│ 20190205  ┆ ZZ000000000000 ┆ P050301001 ┆ 25     │\n",
       "│ 20180821  ┆ CS025415000050 ┆ P060102007 ┆ 90     │\n",
       "└───────────┴────────────────┴────────────┴────────┘"
      ]
     },
     "execution_count": 19,
     "metadata": {},
     "output_type": "execute_result"
    }
   ],
   "source": [
    "df_receipt.select('sales_ymd', 'customer_id', 'product_cd', 'amount').head(5)"
   ]
  },
  {
   "cell_type": "markdown",
   "metadata": {},
   "source": [
    "### P-003\n",
    "\n",
    "レシート明細データ（df_receipt）から売上年月日（sales_ymd）、顧客ID（customer_id）、商品コード（product_cd）、売上金額（amount）の順に列を指定し、10件表示せよ。ただし、sales_ymdをsales_dateに項目名を変更して抽出すること。"
   ]
  },
  {
   "cell_type": "code",
   "execution_count": 20,
   "metadata": {},
   "outputs": [
    {
     "data": {
      "text/html": [
       "<div><style>\n",
       ".dataframe > thead > tr,\n",
       ".dataframe > tbody > tr {\n",
       "  text-align: right;\n",
       "  white-space: pre-wrap;\n",
       "}\n",
       "</style>\n",
       "<small>shape: (5, 4)</small><table border=\"1\" class=\"dataframe\"><thead><tr><th>sales_date</th><th>customer_id</th><th>product_cd</th><th>amount</th></tr><tr><td>i64</td><td>str</td><td>str</td><td>i64</td></tr></thead><tbody><tr><td>20181103</td><td>&quot;CS006214000001&quot;</td><td>&quot;P070305012&quot;</td><td>158</td></tr><tr><td>20181118</td><td>&quot;CS008415000097&quot;</td><td>&quot;P070701017&quot;</td><td>81</td></tr><tr><td>20170712</td><td>&quot;CS028414000014&quot;</td><td>&quot;P060101005&quot;</td><td>170</td></tr><tr><td>20190205</td><td>&quot;ZZ000000000000&quot;</td><td>&quot;P050301001&quot;</td><td>25</td></tr><tr><td>20180821</td><td>&quot;CS025415000050&quot;</td><td>&quot;P060102007&quot;</td><td>90</td></tr></tbody></table></div>"
      ],
      "text/plain": [
       "shape: (5, 4)\n",
       "┌────────────┬────────────────┬────────────┬────────┐\n",
       "│ sales_date ┆ customer_id    ┆ product_cd ┆ amount │\n",
       "│ ---        ┆ ---            ┆ ---        ┆ ---    │\n",
       "│ i64        ┆ str            ┆ str        ┆ i64    │\n",
       "╞════════════╪════════════════╪════════════╪════════╡\n",
       "│ 20181103   ┆ CS006214000001 ┆ P070305012 ┆ 158    │\n",
       "│ 20181118   ┆ CS008415000097 ┆ P070701017 ┆ 81     │\n",
       "│ 20170712   ┆ CS028414000014 ┆ P060101005 ┆ 170    │\n",
       "│ 20190205   ┆ ZZ000000000000 ┆ P050301001 ┆ 25     │\n",
       "│ 20180821   ┆ CS025415000050 ┆ P060102007 ┆ 90     │\n",
       "└────────────┴────────────────┴────────────┴────────┘"
      ]
     },
     "execution_count": 20,
     "metadata": {},
     "output_type": "execute_result"
    }
   ],
   "source": [
    "df_receipt.select(pl.col('sales_ymd').alias('sales_date'), 'customer_id', 'product_cd', 'amount').head(5)"
   ]
  },
  {
   "cell_type": "code",
   "execution_count": 21,
   "metadata": {},
   "outputs": [
    {
     "data": {
      "text/html": [
       "<div><style>\n",
       ".dataframe > thead > tr,\n",
       ".dataframe > tbody > tr {\n",
       "  text-align: right;\n",
       "  white-space: pre-wrap;\n",
       "}\n",
       "</style>\n",
       "<small>shape: (5, 4)</small><table border=\"1\" class=\"dataframe\"><thead><tr><th>sales_date</th><th>customer_id</th><th>product_cd</th><th>amount</th></tr><tr><td>i64</td><td>str</td><td>str</td><td>i64</td></tr></thead><tbody><tr><td>20181103</td><td>&quot;CS006214000001&quot;</td><td>&quot;P070305012&quot;</td><td>158</td></tr><tr><td>20181118</td><td>&quot;CS008415000097&quot;</td><td>&quot;P070701017&quot;</td><td>81</td></tr><tr><td>20170712</td><td>&quot;CS028414000014&quot;</td><td>&quot;P060101005&quot;</td><td>170</td></tr><tr><td>20190205</td><td>&quot;ZZ000000000000&quot;</td><td>&quot;P050301001&quot;</td><td>25</td></tr><tr><td>20180821</td><td>&quot;CS025415000050&quot;</td><td>&quot;P060102007&quot;</td><td>90</td></tr></tbody></table></div>"
      ],
      "text/plain": [
       "shape: (5, 4)\n",
       "┌────────────┬────────────────┬────────────┬────────┐\n",
       "│ sales_date ┆ customer_id    ┆ product_cd ┆ amount │\n",
       "│ ---        ┆ ---            ┆ ---        ┆ ---    │\n",
       "│ i64        ┆ str            ┆ str        ┆ i64    │\n",
       "╞════════════╪════════════════╪════════════╪════════╡\n",
       "│ 20181103   ┆ CS006214000001 ┆ P070305012 ┆ 158    │\n",
       "│ 20181118   ┆ CS008415000097 ┆ P070701017 ┆ 81     │\n",
       "│ 20170712   ┆ CS028414000014 ┆ P060101005 ┆ 170    │\n",
       "│ 20190205   ┆ ZZ000000000000 ┆ P050301001 ┆ 25     │\n",
       "│ 20180821   ┆ CS025415000050 ┆ P060102007 ┆ 90     │\n",
       "└────────────┴────────────────┴────────────┴────────┘"
      ]
     },
     "execution_count": 21,
     "metadata": {},
     "output_type": "execute_result"
    }
   ],
   "source": [
    "df_receipt.select('sales_ymd', 'customer_id', 'product_cd', 'amount').rename({'sales_ymd':'sales_date'}).head(5)"
   ]
  },
  {
   "cell_type": "markdown",
   "metadata": {},
   "source": [
    "### P-004\n",
    "\n",
    "レシート明細データ（df_receipt）から売上日（sales_ymd）、顧客ID（customer_id）、商品コード（product_cd）、売上金額（amount）の順に列を指定し、以下の条件を満たすデータを抽出せよ。\n",
    "\n",
    "- 顧客ID（customer_id）が\"CS018205000001\""
   ]
  },
  {
   "cell_type": "code",
   "execution_count": 22,
   "metadata": {},
   "outputs": [
    {
     "data": {
      "text/html": [
       "<div><style>\n",
       ".dataframe > thead > tr,\n",
       ".dataframe > tbody > tr {\n",
       "  text-align: right;\n",
       "  white-space: pre-wrap;\n",
       "}\n",
       "</style>\n",
       "<small>shape: (5, 4)</small><table border=\"1\" class=\"dataframe\"><thead><tr><th>sales_ymd</th><th>customer_id</th><th>product_cd</th><th>amount</th></tr><tr><td>i64</td><td>str</td><td>str</td><td>i64</td></tr></thead><tbody><tr><td>20180911</td><td>&quot;CS018205000001&quot;</td><td>&quot;P071401012&quot;</td><td>2200</td></tr><tr><td>20180414</td><td>&quot;CS018205000001&quot;</td><td>&quot;P060104007&quot;</td><td>600</td></tr><tr><td>20170614</td><td>&quot;CS018205000001&quot;</td><td>&quot;P050206001&quot;</td><td>990</td></tr><tr><td>20170614</td><td>&quot;CS018205000001&quot;</td><td>&quot;P060702015&quot;</td><td>108</td></tr><tr><td>20190216</td><td>&quot;CS018205000001&quot;</td><td>&quot;P071005024&quot;</td><td>102</td></tr></tbody></table></div>"
      ],
      "text/plain": [
       "shape: (5, 4)\n",
       "┌───────────┬────────────────┬────────────┬────────┐\n",
       "│ sales_ymd ┆ customer_id    ┆ product_cd ┆ amount │\n",
       "│ ---       ┆ ---            ┆ ---        ┆ ---    │\n",
       "│ i64       ┆ str            ┆ str        ┆ i64    │\n",
       "╞═══════════╪════════════════╪════════════╪════════╡\n",
       "│ 20180911  ┆ CS018205000001 ┆ P071401012 ┆ 2200   │\n",
       "│ 20180414  ┆ CS018205000001 ┆ P060104007 ┆ 600    │\n",
       "│ 20170614  ┆ CS018205000001 ┆ P050206001 ┆ 990    │\n",
       "│ 20170614  ┆ CS018205000001 ┆ P060702015 ┆ 108    │\n",
       "│ 20190216  ┆ CS018205000001 ┆ P071005024 ┆ 102    │\n",
       "└───────────┴────────────────┴────────────┴────────┘"
      ]
     },
     "execution_count": 22,
     "metadata": {},
     "output_type": "execute_result"
    }
   ],
   "source": [
    "df_receipt.filter(pl.col.customer_id == 'CS018205000001').select('sales_ymd', 'customer_id', 'product_cd', 'amount').head(5)"
   ]
  },
  {
   "cell_type": "markdown",
   "metadata": {},
   "source": [
    "### P-005\n",
    "\n",
    "レシート明細データ（df_receipt）から売上日（sales_ymd）、顧客ID（customer_id）、商品コード（product_cd）、売上金額（amount）の順に列を指定し、以下の全ての条件を満たすデータを抽出せよ。\n",
    "\n",
    "- 顧客ID（customer_id）が\"CS018205000001\"\n",
    "- 売上金額（amount）が1,000以上"
   ]
  },
  {
   "cell_type": "code",
   "execution_count": 29,
   "metadata": {},
   "outputs": [
    {
     "data": {
      "text/html": [
       "<div><style>\n",
       ".dataframe > thead > tr,\n",
       ".dataframe > tbody > tr {\n",
       "  text-align: right;\n",
       "  white-space: pre-wrap;\n",
       "}\n",
       "</style>\n",
       "<small>shape: (3, 4)</small><table border=\"1\" class=\"dataframe\"><thead><tr><th>sales_ymd</th><th>customer_id</th><th>product_cd</th><th>amount</th></tr><tr><td>i64</td><td>str</td><td>str</td><td>i64</td></tr></thead><tbody><tr><td>20180911</td><td>&quot;CS018205000001&quot;</td><td>&quot;P071401012&quot;</td><td>2200</td></tr><tr><td>20190226</td><td>&quot;CS018205000001&quot;</td><td>&quot;P071401020&quot;</td><td>2200</td></tr><tr><td>20180911</td><td>&quot;CS018205000001&quot;</td><td>&quot;P071401005&quot;</td><td>1100</td></tr></tbody></table></div>"
      ],
      "text/plain": [
       "shape: (3, 4)\n",
       "┌───────────┬────────────────┬────────────┬────────┐\n",
       "│ sales_ymd ┆ customer_id    ┆ product_cd ┆ amount │\n",
       "│ ---       ┆ ---            ┆ ---        ┆ ---    │\n",
       "│ i64       ┆ str            ┆ str        ┆ i64    │\n",
       "╞═══════════╪════════════════╪════════════╪════════╡\n",
       "│ 20180911  ┆ CS018205000001 ┆ P071401012 ┆ 2200   │\n",
       "│ 20190226  ┆ CS018205000001 ┆ P071401020 ┆ 2200   │\n",
       "│ 20180911  ┆ CS018205000001 ┆ P071401005 ┆ 1100   │\n",
       "└───────────┴────────────────┴────────────┴────────┘"
      ]
     },
     "execution_count": 29,
     "metadata": {},
     "output_type": "execute_result"
    }
   ],
   "source": [
    "df_receipt.filter(\n",
    "    (pl.col.customer_id == 'CS018205000001') & (pl.col.amount >= 1000)\n",
    ").select(\n",
    "    'sales_ymd', 'customer_id', 'product_cd', 'amount'\n",
    ")"
   ]
  },
  {
   "cell_type": "code",
   "execution_count": 28,
   "metadata": {},
   "outputs": [
    {
     "data": {
      "text/html": [
       "<div><style>\n",
       ".dataframe > thead > tr,\n",
       ".dataframe > tbody > tr {\n",
       "  text-align: right;\n",
       "  white-space: pre-wrap;\n",
       "}\n",
       "</style>\n",
       "<small>shape: (3, 4)</small><table border=\"1\" class=\"dataframe\"><thead><tr><th>sales_ymd</th><th>customer_id</th><th>product_cd</th><th>amount</th></tr><tr><td>i64</td><td>str</td><td>str</td><td>i64</td></tr></thead><tbody><tr><td>20180911</td><td>&quot;CS018205000001&quot;</td><td>&quot;P071401012&quot;</td><td>2200</td></tr><tr><td>20190226</td><td>&quot;CS018205000001&quot;</td><td>&quot;P071401020&quot;</td><td>2200</td></tr><tr><td>20180911</td><td>&quot;CS018205000001&quot;</td><td>&quot;P071401005&quot;</td><td>1100</td></tr></tbody></table></div>"
      ],
      "text/plain": [
       "shape: (3, 4)\n",
       "┌───────────┬────────────────┬────────────┬────────┐\n",
       "│ sales_ymd ┆ customer_id    ┆ product_cd ┆ amount │\n",
       "│ ---       ┆ ---            ┆ ---        ┆ ---    │\n",
       "│ i64       ┆ str            ┆ str        ┆ i64    │\n",
       "╞═══════════╪════════════════╪════════════╪════════╡\n",
       "│ 20180911  ┆ CS018205000001 ┆ P071401012 ┆ 2200   │\n",
       "│ 20190226  ┆ CS018205000001 ┆ P071401020 ┆ 2200   │\n",
       "│ 20180911  ┆ CS018205000001 ┆ P071401005 ┆ 1100   │\n",
       "└───────────┴────────────────┴────────────┴────────┘"
      ]
     },
     "execution_count": 28,
     "metadata": {},
     "output_type": "execute_result"
    }
   ],
   "source": [
    "df_receipt.filter(\n",
    "    pl.col.customer_id.eq('CS018205000001').and_(pl.col.amount.ge(1000))\n",
    ").select(\n",
    "    'sales_ymd', 'customer_id', 'product_cd', 'amount'\n",
    ")"
   ]
  },
  {
   "cell_type": "markdown",
   "metadata": {},
   "source": [
    "### P-006\n",
    "\n",
    "レシート明細データ（df_receipt）から売上日（sales_ymd）、顧客ID（customer_id）、商品コード（product_cd）、売上数量（quantity）、売上金額（amount）の順に列を指定し、以下の全ての条件を満たすデータを抽出せよ。\n",
    "\n",
    "- 顧客ID（customer_id）が\"CS018205000001\"\n",
    "- 売上金額（amount）が1,000以上または売上数量（quantity）が5以上"
   ]
  },
  {
   "cell_type": "code",
   "execution_count": 30,
   "metadata": {},
   "outputs": [
    {
     "data": {
      "text/html": [
       "<div><style>\n",
       ".dataframe > thead > tr,\n",
       ".dataframe > tbody > tr {\n",
       "  text-align: right;\n",
       "  white-space: pre-wrap;\n",
       "}\n",
       "</style>\n",
       "<small>shape: (5, 5)</small><table border=\"1\" class=\"dataframe\"><thead><tr><th>sales_ymd</th><th>customer_id</th><th>product_cd</th><th>amount</th><th>quantity</th></tr><tr><td>i64</td><td>str</td><td>str</td><td>i64</td><td>i64</td></tr></thead><tbody><tr><td>20180911</td><td>&quot;CS018205000001&quot;</td><td>&quot;P071401012&quot;</td><td>2200</td><td>1</td></tr><tr><td>20180414</td><td>&quot;CS018205000001&quot;</td><td>&quot;P060104007&quot;</td><td>600</td><td>6</td></tr><tr><td>20170614</td><td>&quot;CS018205000001&quot;</td><td>&quot;P050206001&quot;</td><td>990</td><td>5</td></tr><tr><td>20190226</td><td>&quot;CS018205000001&quot;</td><td>&quot;P071401020&quot;</td><td>2200</td><td>1</td></tr><tr><td>20180911</td><td>&quot;CS018205000001&quot;</td><td>&quot;P071401005&quot;</td><td>1100</td><td>1</td></tr></tbody></table></div>"
      ],
      "text/plain": [
       "shape: (5, 5)\n",
       "┌───────────┬────────────────┬────────────┬────────┬──────────┐\n",
       "│ sales_ymd ┆ customer_id    ┆ product_cd ┆ amount ┆ quantity │\n",
       "│ ---       ┆ ---            ┆ ---        ┆ ---    ┆ ---      │\n",
       "│ i64       ┆ str            ┆ str        ┆ i64    ┆ i64      │\n",
       "╞═══════════╪════════════════╪════════════╪════════╪══════════╡\n",
       "│ 20180911  ┆ CS018205000001 ┆ P071401012 ┆ 2200   ┆ 1        │\n",
       "│ 20180414  ┆ CS018205000001 ┆ P060104007 ┆ 600    ┆ 6        │\n",
       "│ 20170614  ┆ CS018205000001 ┆ P050206001 ┆ 990    ┆ 5        │\n",
       "│ 20190226  ┆ CS018205000001 ┆ P071401020 ┆ 2200   ┆ 1        │\n",
       "│ 20180911  ┆ CS018205000001 ┆ P071401005 ┆ 1100   ┆ 1        │\n",
       "└───────────┴────────────────┴────────────┴────────┴──────────┘"
      ]
     },
     "execution_count": 30,
     "metadata": {},
     "output_type": "execute_result"
    }
   ],
   "source": [
    "df_receipt.filter(\n",
    "    pl.col.customer_id.eq('CS018205000001').and_(pl.col.amount.ge(1000).or_(pl.col.quantity >= 5))\n",
    ").select(\n",
    "    'sales_ymd', 'customer_id', 'product_cd', 'amount', 'quantity'\n",
    ")"
   ]
  },
  {
   "cell_type": "markdown",
   "metadata": {},
   "source": [
    "### P-007\n",
    "\n",
    "レシート明細データ（df_receipt）から売上日（sales_ymd）、顧客ID（customer_id）、商品コード（product_cd）、売上金額（amount）の順に列を指定し、以下の全ての条件を満たすデータを抽出せよ。\n",
    "\n",
    "- 顧客ID（customer_id）が\"CS018205000001\"\n",
    "- 売上金額（amount）が1,000以上2,000以下"
   ]
  },
  {
   "cell_type": "code",
   "execution_count": 34,
   "metadata": {},
   "outputs": [
    {
     "data": {
      "text/html": [
       "<div><style>\n",
       ".dataframe > thead > tr,\n",
       ".dataframe > tbody > tr {\n",
       "  text-align: right;\n",
       "  white-space: pre-wrap;\n",
       "}\n",
       "</style>\n",
       "<small>shape: (1, 4)</small><table border=\"1\" class=\"dataframe\"><thead><tr><th>sales_ymd</th><th>customer_id</th><th>product_cd</th><th>amount</th></tr><tr><td>i64</td><td>str</td><td>str</td><td>i64</td></tr></thead><tbody><tr><td>20180911</td><td>&quot;CS018205000001&quot;</td><td>&quot;P071401005&quot;</td><td>1100</td></tr></tbody></table></div>"
      ],
      "text/plain": [
       "shape: (1, 4)\n",
       "┌───────────┬────────────────┬────────────┬────────┐\n",
       "│ sales_ymd ┆ customer_id    ┆ product_cd ┆ amount │\n",
       "│ ---       ┆ ---            ┆ ---        ┆ ---    │\n",
       "│ i64       ┆ str            ┆ str        ┆ i64    │\n",
       "╞═══════════╪════════════════╪════════════╪════════╡\n",
       "│ 20180911  ┆ CS018205000001 ┆ P071401005 ┆ 1100   │\n",
       "└───────────┴────────────────┴────────────┴────────┘"
      ]
     },
     "execution_count": 34,
     "metadata": {},
     "output_type": "execute_result"
    }
   ],
   "source": [
    "df_receipt.filter(\n",
    "    (pl.col.customer_id == 'CS018205000001') & pl.col.amount.is_between(1000, 2000)\n",
    ").select(\n",
    "    'sales_ymd', 'customer_id', 'product_cd', 'amount'\n",
    ")"
   ]
  },
  {
   "cell_type": "markdown",
   "metadata": {},
   "source": [
    "### P-008\n",
    "\n",
    "レシート明細データ（df_receipt）から売上日（sales_ymd）、顧客ID（customer_id）、商品コード（product_cd）、売上金額（amount）の順に列を指定し、以下の全ての条件を満たすデータを抽出せよ。\n",
    "\n",
    "- 顧客ID（customer_id）が\"CS018205000001\"\n",
    "- 商品コード（product_cd）が\"P071401019\"以外"
   ]
  },
  {
   "cell_type": "code",
   "execution_count": 35,
   "metadata": {},
   "outputs": [
    {
     "data": {
      "text/html": [
       "<div><style>\n",
       ".dataframe > thead > tr,\n",
       ".dataframe > tbody > tr {\n",
       "  text-align: right;\n",
       "  white-space: pre-wrap;\n",
       "}\n",
       "</style>\n",
       "<small>shape: (12, 4)</small><table border=\"1\" class=\"dataframe\"><thead><tr><th>sales_ymd</th><th>customer_id</th><th>product_cd</th><th>amount</th></tr><tr><td>i64</td><td>str</td><td>str</td><td>i64</td></tr></thead><tbody><tr><td>20180911</td><td>&quot;CS018205000001&quot;</td><td>&quot;P071401012&quot;</td><td>2200</td></tr><tr><td>20180414</td><td>&quot;CS018205000001&quot;</td><td>&quot;P060104007&quot;</td><td>600</td></tr><tr><td>20170614</td><td>&quot;CS018205000001&quot;</td><td>&quot;P050206001&quot;</td><td>990</td></tr><tr><td>20170614</td><td>&quot;CS018205000001&quot;</td><td>&quot;P060702015&quot;</td><td>108</td></tr><tr><td>20190216</td><td>&quot;CS018205000001&quot;</td><td>&quot;P071005024&quot;</td><td>102</td></tr><tr><td>20180414</td><td>&quot;CS018205000001&quot;</td><td>&quot;P071101002&quot;</td><td>278</td></tr><tr><td>20190226</td><td>&quot;CS018205000001&quot;</td><td>&quot;P070902035&quot;</td><td>168</td></tr><tr><td>20190924</td><td>&quot;CS018205000001&quot;</td><td>&quot;P060805001&quot;</td><td>495</td></tr><tr><td>20190226</td><td>&quot;CS018205000001&quot;</td><td>&quot;P071401020&quot;</td><td>2200</td></tr><tr><td>20180911</td><td>&quot;CS018205000001&quot;</td><td>&quot;P071401005&quot;</td><td>1100</td></tr><tr><td>20190216</td><td>&quot;CS018205000001&quot;</td><td>&quot;P040101002&quot;</td><td>218</td></tr><tr><td>20190924</td><td>&quot;CS018205000001&quot;</td><td>&quot;P091503001&quot;</td><td>280</td></tr></tbody></table></div>"
      ],
      "text/plain": [
       "shape: (12, 4)\n",
       "┌───────────┬────────────────┬────────────┬────────┐\n",
       "│ sales_ymd ┆ customer_id    ┆ product_cd ┆ amount │\n",
       "│ ---       ┆ ---            ┆ ---        ┆ ---    │\n",
       "│ i64       ┆ str            ┆ str        ┆ i64    │\n",
       "╞═══════════╪════════════════╪════════════╪════════╡\n",
       "│ 20180911  ┆ CS018205000001 ┆ P071401012 ┆ 2200   │\n",
       "│ 20180414  ┆ CS018205000001 ┆ P060104007 ┆ 600    │\n",
       "│ 20170614  ┆ CS018205000001 ┆ P050206001 ┆ 990    │\n",
       "│ 20170614  ┆ CS018205000001 ┆ P060702015 ┆ 108    │\n",
       "│ …         ┆ …              ┆ …          ┆ …      │\n",
       "│ 20190226  ┆ CS018205000001 ┆ P071401020 ┆ 2200   │\n",
       "│ 20180911  ┆ CS018205000001 ┆ P071401005 ┆ 1100   │\n",
       "│ 20190216  ┆ CS018205000001 ┆ P040101002 ┆ 218    │\n",
       "│ 20190924  ┆ CS018205000001 ┆ P091503001 ┆ 280    │\n",
       "└───────────┴────────────────┴────────────┴────────┘"
      ]
     },
     "execution_count": 35,
     "metadata": {},
     "output_type": "execute_result"
    }
   ],
   "source": [
    "df_receipt.filter(\n",
    "    (pl.col.customer_id == 'CS018205000001') & (pl.col.product_cd != 'P071401019')\n",
    ").select(\n",
    "    'sales_ymd', 'customer_id', 'product_cd', 'amount'\n",
    ")"
   ]
  },
  {
   "cell_type": "markdown",
   "metadata": {},
   "source": [
    "### P-009\n",
    "\n",
    "以下の処理において、出力結果を変えずにORをANDに書き換えよ。\n",
    "\n",
    "```\n",
    "df_store.query('not(prefecture_cd == \"13\" | floor_area > 900)')\n",
    "```"
   ]
  },
  {
   "cell_type": "code",
   "execution_count": 36,
   "metadata": {},
   "outputs": [
    {
     "data": {
      "text/html": [
       "<div><style>\n",
       ".dataframe > thead > tr,\n",
       ".dataframe > tbody > tr {\n",
       "  text-align: right;\n",
       "  white-space: pre-wrap;\n",
       "}\n",
       "</style>\n",
       "<small>shape: (3, 10)</small><table border=\"1\" class=\"dataframe\"><thead><tr><th>store_cd</th><th>store_name</th><th>prefecture_cd</th><th>prefecture</th><th>address</th><th>address_kana</th><th>tel_no</th><th>longitude</th><th>latitude</th><th>floor_area</th></tr><tr><td>str</td><td>str</td><td>str</td><td>str</td><td>str</td><td>str</td><td>str</td><td>f64</td><td>f64</td><td>f64</td></tr></thead><tbody><tr><td>&quot;S14046&quot;</td><td>&quot;北山田店&quot;</td><td>&quot;14&quot;</td><td>&quot;神奈川県&quot;</td><td>&quot;神奈川県横浜市都筑区北山田一丁目&quot;</td><td>&quot;カナガワケンヨコハマシツヅキクキタヤマタイッチョウメ&quot;</td><td>&quot;045-123-4049&quot;</td><td>139.5916</td><td>35.56189</td><td>831.0</td></tr><tr><td>&quot;S14011&quot;</td><td>&quot;日吉本町店&quot;</td><td>&quot;14&quot;</td><td>&quot;神奈川県&quot;</td><td>&quot;神奈川県横浜市港北区日吉本町四丁目&quot;</td><td>&quot;カナガワケンヨコハマシコウホククヒヨシホンチョウヨンチョウメ&quot;</td><td>&quot;045-123-4033&quot;</td><td>139.6316</td><td>35.54655</td><td>890.0</td></tr><tr><td>&quot;S12013&quot;</td><td>&quot;習志野店&quot;</td><td>&quot;12&quot;</td><td>&quot;千葉県&quot;</td><td>&quot;千葉県習志野市芝園一丁目&quot;</td><td>&quot;チバケンナラシノシシバゾノイッチョウメ&quot;</td><td>&quot;047-123-4002&quot;</td><td>140.022</td><td>35.66122</td><td>808.0</td></tr></tbody></table></div>"
      ],
      "text/plain": [
       "shape: (3, 10)\n",
       "┌──────────┬────────────┬───────────────┬────────────┬───┬──────────────┬───────────┬──────────┬────────────┐\n",
       "│ store_cd ┆ store_name ┆ prefecture_cd ┆ prefecture ┆ … ┆ tel_no       ┆ longitude ┆ latitude ┆ floor_area │\n",
       "│ ---      ┆ ---        ┆ ---           ┆ ---        ┆   ┆ ---          ┆ ---       ┆ ---      ┆ ---        │\n",
       "│ str      ┆ str        ┆ str           ┆ str        ┆   ┆ str          ┆ f64       ┆ f64      ┆ f64        │\n",
       "╞══════════╪════════════╪═══════════════╪════════════╪═══╪══════════════╪═══════════╪══════════╪════════════╡\n",
       "│ S14046   ┆ 北山田店   ┆ 14            ┆ 神奈川県   ┆ … ┆ 045-123-4049 ┆ 139.5916  ┆ 35.56189 ┆ 831.0      │\n",
       "│ S14011   ┆ 日吉本町店 ┆ 14            ┆ 神奈川県   ┆ … ┆ 045-123-4033 ┆ 139.6316  ┆ 35.54655 ┆ 890.0      │\n",
       "│ S12013   ┆ 習志野店   ┆ 12            ┆ 千葉県     ┆ … ┆ 047-123-4002 ┆ 140.022   ┆ 35.66122 ┆ 808.0      │\n",
       "└──────────┴────────────┴───────────────┴────────────┴───┴──────────────┴───────────┴──────────┴────────────┘"
      ]
     },
     "execution_count": 36,
     "metadata": {},
     "output_type": "execute_result"
    }
   ],
   "source": [
    "df_store.filter(\n",
    "    (pl.col.prefecture_cd != '13') & (pl.col.floor_area <= 900)\n",
    ")"
   ]
  },
  {
   "cell_type": "markdown",
   "metadata": {},
   "source": [
    "### P-010\n",
    "\n",
    "店舗データ（df_store）から、店舗コード（store_cd）が\"S14\"で始まるものだけ全項目抽出し、10件表示せよ。"
   ]
  },
  {
   "cell_type": "code",
   "execution_count": 37,
   "metadata": {},
   "outputs": [
    {
     "data": {
      "text/html": [
       "<div><style>\n",
       ".dataframe > thead > tr,\n",
       ".dataframe > tbody > tr {\n",
       "  text-align: right;\n",
       "  white-space: pre-wrap;\n",
       "}\n",
       "</style>\n",
       "<small>shape: (5, 10)</small><table border=\"1\" class=\"dataframe\"><thead><tr><th>store_cd</th><th>store_name</th><th>prefecture_cd</th><th>prefecture</th><th>address</th><th>address_kana</th><th>tel_no</th><th>longitude</th><th>latitude</th><th>floor_area</th></tr><tr><td>str</td><td>str</td><td>str</td><td>str</td><td>str</td><td>str</td><td>str</td><td>f64</td><td>f64</td><td>f64</td></tr></thead><tbody><tr><td>&quot;S14010&quot;</td><td>&quot;菊名店&quot;</td><td>&quot;14&quot;</td><td>&quot;神奈川県&quot;</td><td>&quot;神奈川県横浜市港北区菊名一丁目&quot;</td><td>&quot;カナガワケンヨコハマシコウホククキクナイッチョウメ&quot;</td><td>&quot;045-123-4032&quot;</td><td>139.6326</td><td>35.50049</td><td>1732.0</td></tr><tr><td>&quot;S14033&quot;</td><td>&quot;阿久和店&quot;</td><td>&quot;14&quot;</td><td>&quot;神奈川県&quot;</td><td>&quot;神奈川県横浜市瀬谷区阿久和西一丁目&quot;</td><td>&quot;カナガワケンヨコハマシセヤクアクワニシイッチョウメ&quot;</td><td>&quot;045-123-4043&quot;</td><td>139.4961</td><td>35.45918</td><td>1495.0</td></tr><tr><td>&quot;S14036&quot;</td><td>&quot;相模原中央店&quot;</td><td>&quot;14&quot;</td><td>&quot;神奈川県&quot;</td><td>&quot;神奈川県相模原市中央二丁目&quot;</td><td>&quot;カナガワケンサガミハラシチュウオウニチョウメ&quot;</td><td>&quot;042-123-4045&quot;</td><td>139.3716</td><td>35.57327</td><td>1679.0</td></tr><tr><td>&quot;S14040&quot;</td><td>&quot;長津田店&quot;</td><td>&quot;14&quot;</td><td>&quot;神奈川県&quot;</td><td>&quot;神奈川県横浜市緑区長津田みなみ台五丁目&quot;</td><td>&quot;カナガワケンヨコハマシミドリクナガツタミナミダイゴチョウメ&quot;</td><td>&quot;045-123-4046&quot;</td><td>139.4994</td><td>35.52398</td><td>1548.0</td></tr><tr><td>&quot;S14050&quot;</td><td>&quot;阿久和西店&quot;</td><td>&quot;14&quot;</td><td>&quot;神奈川県&quot;</td><td>&quot;神奈川県横浜市瀬谷区阿久和西一丁目&quot;</td><td>&quot;カナガワケンヨコハマシセヤクアクワニシイッチョウメ&quot;</td><td>&quot;045-123-4053&quot;</td><td>139.4961</td><td>35.45918</td><td>1830.0</td></tr></tbody></table></div>"
      ],
      "text/plain": [
       "shape: (5, 10)\n",
       "┌──────────┬──────────────┬───────────────┬────────────┬───┬──────────────┬───────────┬──────────┬────────────┐\n",
       "│ store_cd ┆ store_name   ┆ prefecture_cd ┆ prefecture ┆ … ┆ tel_no       ┆ longitude ┆ latitude ┆ floor_area │\n",
       "│ ---      ┆ ---          ┆ ---           ┆ ---        ┆   ┆ ---          ┆ ---       ┆ ---      ┆ ---        │\n",
       "│ str      ┆ str          ┆ str           ┆ str        ┆   ┆ str          ┆ f64       ┆ f64      ┆ f64        │\n",
       "╞══════════╪══════════════╪═══════════════╪════════════╪═══╪══════════════╪═══════════╪══════════╪════════════╡\n",
       "│ S14010   ┆ 菊名店       ┆ 14            ┆ 神奈川県   ┆ … ┆ 045-123-4032 ┆ 139.6326  ┆ 35.50049 ┆ 1732.0     │\n",
       "│ S14033   ┆ 阿久和店     ┆ 14            ┆ 神奈川県   ┆ … ┆ 045-123-4043 ┆ 139.4961  ┆ 35.45918 ┆ 1495.0     │\n",
       "│ S14036   ┆ 相模原中央店 ┆ 14            ┆ 神奈川県   ┆ … ┆ 042-123-4045 ┆ 139.3716  ┆ 35.57327 ┆ 1679.0     │\n",
       "│ S14040   ┆ 長津田店     ┆ 14            ┆ 神奈川県   ┆ … ┆ 045-123-4046 ┆ 139.4994  ┆ 35.52398 ┆ 1548.0     │\n",
       "│ S14050   ┆ 阿久和西店   ┆ 14            ┆ 神奈川県   ┆ … ┆ 045-123-4053 ┆ 139.4961  ┆ 35.45918 ┆ 1830.0     │\n",
       "└──────────┴──────────────┴───────────────┴────────────┴───┴──────────────┴───────────┴──────────┴────────────┘"
      ]
     },
     "execution_count": 37,
     "metadata": {},
     "output_type": "execute_result"
    }
   ],
   "source": [
    "df_store.filter(pl.col.store_cd.str.starts_with('S14')).head(5)"
   ]
  },
  {
   "cell_type": "markdown",
   "metadata": {},
   "source": [
    "## 演習問題 011 ~ 020"
   ]
  },
  {
   "cell_type": "markdown",
   "metadata": {},
   "source": [
    "### P-011\n",
    "\n",
    "顧客データ（df_customer）から顧客ID（customer_id）の末尾が1のものだけ全項目抽出し、10件表示せよ。"
   ]
  },
  {
   "cell_type": "code",
   "execution_count": 38,
   "metadata": {},
   "outputs": [
    {
     "data": {
      "text/html": [
       "<div><style>\n",
       ".dataframe > thead > tr,\n",
       ".dataframe > tbody > tr {\n",
       "  text-align: right;\n",
       "  white-space: pre-wrap;\n",
       "}\n",
       "</style>\n",
       "<small>shape: (5, 11)</small><table border=\"1\" class=\"dataframe\"><thead><tr><th>customer_id</th><th>customer_name</th><th>gender_cd</th><th>gender</th><th>birth_day</th><th>age</th><th>postal_cd</th><th>address</th><th>application_store_cd</th><th>application_date</th><th>status_cd</th></tr><tr><td>str</td><td>str</td><td>str</td><td>str</td><td>str</td><td>i64</td><td>str</td><td>str</td><td>str</td><td>i64</td><td>str</td></tr></thead><tbody><tr><td>&quot;CS037613000071&quot;</td><td>&quot;六角 雅彦&quot;</td><td>&quot;9&quot;</td><td>&quot;不明&quot;</td><td>&quot;1952-04-01&quot;</td><td>66</td><td>&quot;136-0076&quot;</td><td>&quot;東京都江東区南砂**********&quot;</td><td>&quot;S13037&quot;</td><td>20150414</td><td>&quot;0-00000000-0&quot;</td></tr><tr><td>&quot;CS028811000001&quot;</td><td>&quot;堀井 かおり&quot;</td><td>&quot;1&quot;</td><td>&quot;女性&quot;</td><td>&quot;1933-03-27&quot;</td><td>86</td><td>&quot;245-0016&quot;</td><td>&quot;神奈川県横浜市泉区和泉町**********&quot;</td><td>&quot;S14028&quot;</td><td>20160115</td><td>&quot;0-00000000-0&quot;</td></tr><tr><td>&quot;CS040412000191&quot;</td><td>&quot;川井 郁恵&quot;</td><td>&quot;1&quot;</td><td>&quot;女性&quot;</td><td>&quot;1977-01-05&quot;</td><td>42</td><td>&quot;226-0021&quot;</td><td>&quot;神奈川県横浜市緑区北八朔町**********&quot;</td><td>&quot;S14040&quot;</td><td>20151101</td><td>&quot;1-20091025-4&quot;</td></tr><tr><td>&quot;CS028314000011&quot;</td><td>&quot;小菅 あおい&quot;</td><td>&quot;1&quot;</td><td>&quot;女性&quot;</td><td>&quot;1983-11-26&quot;</td><td>35</td><td>&quot;246-0038&quot;</td><td>&quot;神奈川県横浜市瀬谷区宮沢**********&quot;</td><td>&quot;S14028&quot;</td><td>20151123</td><td>&quot;1-20080426-5&quot;</td></tr><tr><td>&quot;CS039212000051&quot;</td><td>&quot;藤島 恵梨香&quot;</td><td>&quot;1&quot;</td><td>&quot;女性&quot;</td><td>&quot;1997-02-03&quot;</td><td>22</td><td>&quot;166-0001&quot;</td><td>&quot;東京都杉並区阿佐谷北**********&quot;</td><td>&quot;S13039&quot;</td><td>20171121</td><td>&quot;1-20100215-4&quot;</td></tr></tbody></table></div>"
      ],
      "text/plain": [
       "shape: (5, 11)\n",
       "┌───────────────┬───────────────┬───────────┬────────┬───┬───────────────┬───────────────┬──────────────┬──────────────┐\n",
       "│ customer_id   ┆ customer_name ┆ gender_cd ┆ gender ┆ … ┆ address       ┆ application_s ┆ application_ ┆ status_cd    │\n",
       "│ ---           ┆ ---           ┆ ---       ┆ ---    ┆   ┆ ---           ┆ tore_cd       ┆ date         ┆ ---          │\n",
       "│ str           ┆ str           ┆ str       ┆ str    ┆   ┆ str           ┆ ---           ┆ ---          ┆ str          │\n",
       "│               ┆               ┆           ┆        ┆   ┆               ┆ str           ┆ i64          ┆              │\n",
       "╞═══════════════╪═══════════════╪═══════════╪════════╪═══╪═══════════════╪═══════════════╪══════════════╪══════════════╡\n",
       "│ CS03761300007 ┆ 六角 雅彦     ┆ 9         ┆ 不明   ┆ … ┆ 東京都江東区  ┆ S13037        ┆ 20150414     ┆ 0-00000000-0 │\n",
       "│ 1             ┆               ┆           ┆        ┆   ┆ 南砂********* ┆               ┆              ┆              │\n",
       "│               ┆               ┆           ┆        ┆   ┆ *             ┆               ┆              ┆              │\n",
       "│ CS02881100000 ┆ 堀井 かおり   ┆ 1         ┆ 女性   ┆ … ┆ 神奈川県横浜  ┆ S14028        ┆ 20160115     ┆ 0-00000000-0 │\n",
       "│ 1             ┆               ┆           ┆        ┆   ┆ 市泉区和泉町* ┆               ┆              ┆              │\n",
       "│               ┆               ┆           ┆        ┆   ┆ *********     ┆               ┆              ┆              │\n",
       "│ CS04041200019 ┆ 川井 郁恵     ┆ 1         ┆ 女性   ┆ … ┆ 神奈川県横浜  ┆ S14040        ┆ 20151101     ┆ 1-20091025-4 │\n",
       "│ 1             ┆               ┆           ┆        ┆   ┆ 市緑区北八朔  ┆               ┆              ┆              │\n",
       "│               ┆               ┆           ┆        ┆   ┆ 町**********  ┆               ┆              ┆              │\n",
       "│ CS02831400001 ┆ 小菅 あおい   ┆ 1         ┆ 女性   ┆ … ┆ 神奈川県横浜  ┆ S14028        ┆ 20151123     ┆ 1-20080426-5 │\n",
       "│ 1             ┆               ┆           ┆        ┆   ┆ 市瀬谷区宮沢* ┆               ┆              ┆              │\n",
       "│               ┆               ┆           ┆        ┆   ┆ *********     ┆               ┆              ┆              │\n",
       "│ CS03921200005 ┆ 藤島 恵梨香   ┆ 1         ┆ 女性   ┆ … ┆ 東京都杉並区  ┆ S13039        ┆ 20171121     ┆ 1-20100215-4 │\n",
       "│ 1             ┆               ┆           ┆        ┆   ┆ 阿佐谷北***** ┆               ┆              ┆              │\n",
       "│               ┆               ┆           ┆        ┆   ┆ *****         ┆               ┆              ┆              │\n",
       "└───────────────┴───────────────┴───────────┴────────┴───┴───────────────┴───────────────┴──────────────┴──────────────┘"
      ]
     },
     "execution_count": 38,
     "metadata": {},
     "output_type": "execute_result"
    }
   ],
   "source": [
    "df_customer.filter(pl.col.customer_id.str.ends_with('1')).head(5)"
   ]
  },
  {
   "cell_type": "markdown",
   "metadata": {},
   "source": [
    "### P-012\n",
    "\n",
    "店舗データ（df_store）から、住所 (address) に\"横浜市\"が含まれるものだけ全項目表示せよ。"
   ]
  },
  {
   "cell_type": "code",
   "execution_count": 40,
   "metadata": {},
   "outputs": [
    {
     "data": {
      "text/html": [
       "<div><style>\n",
       ".dataframe > thead > tr,\n",
       ".dataframe > tbody > tr {\n",
       "  text-align: right;\n",
       "  white-space: pre-wrap;\n",
       "}\n",
       "</style>\n",
       "<small>shape: (11, 10)</small><table border=\"1\" class=\"dataframe\"><thead><tr><th>store_cd</th><th>store_name</th><th>prefecture_cd</th><th>prefecture</th><th>address</th><th>address_kana</th><th>tel_no</th><th>longitude</th><th>latitude</th><th>floor_area</th></tr><tr><td>str</td><td>str</td><td>str</td><td>str</td><td>str</td><td>str</td><td>str</td><td>f64</td><td>f64</td><td>f64</td></tr></thead><tbody><tr><td>&quot;S14010&quot;</td><td>&quot;菊名店&quot;</td><td>&quot;14&quot;</td><td>&quot;神奈川県&quot;</td><td>&quot;神奈川県横浜市港北区菊名一丁目&quot;</td><td>&quot;カナガワケンヨコハマシコウホククキクナイッチョウメ&quot;</td><td>&quot;045-123-4032&quot;</td><td>139.6326</td><td>35.50049</td><td>1732.0</td></tr><tr><td>&quot;S14033&quot;</td><td>&quot;阿久和店&quot;</td><td>&quot;14&quot;</td><td>&quot;神奈川県&quot;</td><td>&quot;神奈川県横浜市瀬谷区阿久和西一丁目&quot;</td><td>&quot;カナガワケンヨコハマシセヤクアクワニシイッチョウメ&quot;</td><td>&quot;045-123-4043&quot;</td><td>139.4961</td><td>35.45918</td><td>1495.0</td></tr><tr><td>&quot;S14040&quot;</td><td>&quot;長津田店&quot;</td><td>&quot;14&quot;</td><td>&quot;神奈川県&quot;</td><td>&quot;神奈川県横浜市緑区長津田みなみ台五丁目&quot;</td><td>&quot;カナガワケンヨコハマシミドリクナガツタミナミダイゴチョウメ&quot;</td><td>&quot;045-123-4046&quot;</td><td>139.4994</td><td>35.52398</td><td>1548.0</td></tr><tr><td>&quot;S14050&quot;</td><td>&quot;阿久和西店&quot;</td><td>&quot;14&quot;</td><td>&quot;神奈川県&quot;</td><td>&quot;神奈川県横浜市瀬谷区阿久和西一丁目&quot;</td><td>&quot;カナガワケンヨコハマシセヤクアクワニシイッチョウメ&quot;</td><td>&quot;045-123-4053&quot;</td><td>139.4961</td><td>35.45918</td><td>1830.0</td></tr><tr><td>&quot;S14028&quot;</td><td>&quot;二ツ橋店&quot;</td><td>&quot;14&quot;</td><td>&quot;神奈川県&quot;</td><td>&quot;神奈川県横浜市瀬谷区二ツ橋町&quot;</td><td>&quot;カナガワケンヨコハマシセヤクフタツバシチョウ&quot;</td><td>&quot;045-123-4042&quot;</td><td>139.4963</td><td>35.46304</td><td>1574.0</td></tr><tr><td>&quot;S14012&quot;</td><td>&quot;本牧和田店&quot;</td><td>&quot;14&quot;</td><td>&quot;神奈川県&quot;</td><td>&quot;神奈川県横浜市中区本牧和田&quot;</td><td>&quot;カナガワケンヨコハマシナカクホンモクワダ&quot;</td><td>&quot;045-123-4034&quot;</td><td>139.6582</td><td>35.42156</td><td>1341.0</td></tr><tr><td>&quot;S14046&quot;</td><td>&quot;北山田店&quot;</td><td>&quot;14&quot;</td><td>&quot;神奈川県&quot;</td><td>&quot;神奈川県横浜市都筑区北山田一丁目&quot;</td><td>&quot;カナガワケンヨコハマシツヅキクキタヤマタイッチョウメ&quot;</td><td>&quot;045-123-4049&quot;</td><td>139.5916</td><td>35.56189</td><td>831.0</td></tr><tr><td>&quot;S14011&quot;</td><td>&quot;日吉本町店&quot;</td><td>&quot;14&quot;</td><td>&quot;神奈川県&quot;</td><td>&quot;神奈川県横浜市港北区日吉本町四丁目&quot;</td><td>&quot;カナガワケンヨコハマシコウホククヒヨシホンチョウヨンチョウメ&quot;</td><td>&quot;045-123-4033&quot;</td><td>139.6316</td><td>35.54655</td><td>890.0</td></tr><tr><td>&quot;S14048&quot;</td><td>&quot;中川中央店&quot;</td><td>&quot;14&quot;</td><td>&quot;神奈川県&quot;</td><td>&quot;神奈川県横浜市都筑区中川中央二丁目&quot;</td><td>&quot;カナガワケンヨコハマシツヅキクナカガワチュウオウニチョウメ&quot;</td><td>&quot;045-123-4051&quot;</td><td>139.5758</td><td>35.54912</td><td>1657.0</td></tr><tr><td>&quot;S14042&quot;</td><td>&quot;新山下店&quot;</td><td>&quot;14&quot;</td><td>&quot;神奈川県&quot;</td><td>&quot;神奈川県横浜市中区新山下二丁目&quot;</td><td>&quot;カナガワケンヨコハマシナカクシンヤマシタニチョウメ&quot;</td><td>&quot;045-123-4047&quot;</td><td>139.6593</td><td>35.43894</td><td>1044.0</td></tr><tr><td>&quot;S14006&quot;</td><td>&quot;葛が谷店&quot;</td><td>&quot;14&quot;</td><td>&quot;神奈川県&quot;</td><td>&quot;神奈川県横浜市都筑区葛が谷&quot;</td><td>&quot;カナガワケンヨコハマシツヅキククズガヤ&quot;</td><td>&quot;045-123-4031&quot;</td><td>139.5633</td><td>35.53573</td><td>1886.0</td></tr></tbody></table></div>"
      ],
      "text/plain": [
       "shape: (11, 10)\n",
       "┌──────────┬────────────┬───────────────┬────────────┬───┬──────────────┬───────────┬──────────┬────────────┐\n",
       "│ store_cd ┆ store_name ┆ prefecture_cd ┆ prefecture ┆ … ┆ tel_no       ┆ longitude ┆ latitude ┆ floor_area │\n",
       "│ ---      ┆ ---        ┆ ---           ┆ ---        ┆   ┆ ---          ┆ ---       ┆ ---      ┆ ---        │\n",
       "│ str      ┆ str        ┆ str           ┆ str        ┆   ┆ str          ┆ f64       ┆ f64      ┆ f64        │\n",
       "╞══════════╪════════════╪═══════════════╪════════════╪═══╪══════════════╪═══════════╪══════════╪════════════╡\n",
       "│ S14010   ┆ 菊名店     ┆ 14            ┆ 神奈川県   ┆ … ┆ 045-123-4032 ┆ 139.6326  ┆ 35.50049 ┆ 1732.0     │\n",
       "│ S14033   ┆ 阿久和店   ┆ 14            ┆ 神奈川県   ┆ … ┆ 045-123-4043 ┆ 139.4961  ┆ 35.45918 ┆ 1495.0     │\n",
       "│ S14040   ┆ 長津田店   ┆ 14            ┆ 神奈川県   ┆ … ┆ 045-123-4046 ┆ 139.4994  ┆ 35.52398 ┆ 1548.0     │\n",
       "│ S14050   ┆ 阿久和西店 ┆ 14            ┆ 神奈川県   ┆ … ┆ 045-123-4053 ┆ 139.4961  ┆ 35.45918 ┆ 1830.0     │\n",
       "│ …        ┆ …          ┆ …             ┆ …          ┆ … ┆ …            ┆ …         ┆ …        ┆ …          │\n",
       "│ S14011   ┆ 日吉本町店 ┆ 14            ┆ 神奈川県   ┆ … ┆ 045-123-4033 ┆ 139.6316  ┆ 35.54655 ┆ 890.0      │\n",
       "│ S14048   ┆ 中川中央店 ┆ 14            ┆ 神奈川県   ┆ … ┆ 045-123-4051 ┆ 139.5758  ┆ 35.54912 ┆ 1657.0     │\n",
       "│ S14042   ┆ 新山下店   ┆ 14            ┆ 神奈川県   ┆ … ┆ 045-123-4047 ┆ 139.6593  ┆ 35.43894 ┆ 1044.0     │\n",
       "│ S14006   ┆ 葛が谷店   ┆ 14            ┆ 神奈川県   ┆ … ┆ 045-123-4031 ┆ 139.5633  ┆ 35.53573 ┆ 1886.0     │\n",
       "└──────────┴────────────┴───────────────┴────────────┴───┴──────────────┴───────────┴──────────┴────────────┘"
      ]
     },
     "execution_count": 40,
     "metadata": {},
     "output_type": "execute_result"
    }
   ],
   "source": [
    "df_store.filter(pl.col.address.str.contains(\"横浜市\"))"
   ]
  },
  {
   "cell_type": "markdown",
   "metadata": {},
   "source": [
    "### P-013\n",
    "\n",
    "顧客データ（df_customer）から、ステータスコード（status_cd）の先頭がアルファベットのA〜Fで始まるデータを全項目抽出し、10件表示せよ。"
   ]
  },
  {
   "cell_type": "code",
   "execution_count": 43,
   "metadata": {},
   "outputs": [
    {
     "data": {
      "text/html": [
       "<div><style>\n",
       ".dataframe > thead > tr,\n",
       ".dataframe > tbody > tr {\n",
       "  text-align: right;\n",
       "  white-space: pre-wrap;\n",
       "}\n",
       "</style>\n",
       "<small>shape: (5, 11)</small><table border=\"1\" class=\"dataframe\"><thead><tr><th>customer_id</th><th>customer_name</th><th>gender_cd</th><th>gender</th><th>birth_day</th><th>age</th><th>postal_cd</th><th>address</th><th>application_store_cd</th><th>application_date</th><th>status_cd</th></tr><tr><td>str</td><td>str</td><td>str</td><td>str</td><td>str</td><td>i64</td><td>str</td><td>str</td><td>str</td><td>i64</td><td>str</td></tr></thead><tbody><tr><td>&quot;CS031415000172&quot;</td><td>&quot;宇多田 貴美子&quot;</td><td>&quot;1&quot;</td><td>&quot;女性&quot;</td><td>&quot;1976-10-04&quot;</td><td>42</td><td>&quot;151-0053&quot;</td><td>&quot;東京都渋谷区代々木**********&quot;</td><td>&quot;S13031&quot;</td><td>20150529</td><td>&quot;D-20100325-C&quot;</td></tr><tr><td>&quot;CS015414000103&quot;</td><td>&quot;奥野 陽子&quot;</td><td>&quot;1&quot;</td><td>&quot;女性&quot;</td><td>&quot;1977-08-09&quot;</td><td>41</td><td>&quot;136-0073&quot;</td><td>&quot;東京都江東区北砂**********&quot;</td><td>&quot;S13015&quot;</td><td>20150722</td><td>&quot;B-20100609-B&quot;</td></tr><tr><td>&quot;CS011215000048&quot;</td><td>&quot;芦田 沙耶&quot;</td><td>&quot;1&quot;</td><td>&quot;女性&quot;</td><td>&quot;1992-02-01&quot;</td><td>27</td><td>&quot;223-0062&quot;</td><td>&quot;神奈川県横浜市港北区日吉本町**********&quot;</td><td>&quot;S14011&quot;</td><td>20150228</td><td>&quot;C-20100421-9&quot;</td></tr><tr><td>&quot;CS029415000023&quot;</td><td>&quot;梅田 里穂&quot;</td><td>&quot;1&quot;</td><td>&quot;女性&quot;</td><td>&quot;1976-01-17&quot;</td><td>43</td><td>&quot;279-0043&quot;</td><td>&quot;千葉県浦安市富士見**********&quot;</td><td>&quot;S12029&quot;</td><td>20150610</td><td>&quot;D-20100918-E&quot;</td></tr><tr><td>&quot;CS035415000029&quot;</td><td>&quot;寺沢 真希&quot;</td><td>&quot;9&quot;</td><td>&quot;不明&quot;</td><td>&quot;1977-09-27&quot;</td><td>41</td><td>&quot;158-0096&quot;</td><td>&quot;東京都世田谷区玉川台**********&quot;</td><td>&quot;S13035&quot;</td><td>20141220</td><td>&quot;F-20101029-F&quot;</td></tr></tbody></table></div>"
      ],
      "text/plain": [
       "shape: (5, 11)\n",
       "┌───────────────┬───────────────┬───────────┬────────┬───┬───────────────┬───────────────┬──────────────┬──────────────┐\n",
       "│ customer_id   ┆ customer_name ┆ gender_cd ┆ gender ┆ … ┆ address       ┆ application_s ┆ application_ ┆ status_cd    │\n",
       "│ ---           ┆ ---           ┆ ---       ┆ ---    ┆   ┆ ---           ┆ tore_cd       ┆ date         ┆ ---          │\n",
       "│ str           ┆ str           ┆ str       ┆ str    ┆   ┆ str           ┆ ---           ┆ ---          ┆ str          │\n",
       "│               ┆               ┆           ┆        ┆   ┆               ┆ str           ┆ i64          ┆              │\n",
       "╞═══════════════╪═══════════════╪═══════════╪════════╪═══╪═══════════════╪═══════════════╪══════════════╪══════════════╡\n",
       "│ CS03141500017 ┆ 宇多田 貴美子 ┆ 1         ┆ 女性   ┆ … ┆ 東京都渋谷区  ┆ S13031        ┆ 20150529     ┆ D-20100325-C │\n",
       "│ 2             ┆               ┆           ┆        ┆   ┆ 代々木******* ┆               ┆              ┆              │\n",
       "│               ┆               ┆           ┆        ┆   ┆ ***           ┆               ┆              ┆              │\n",
       "│ CS01541400010 ┆ 奥野 陽子     ┆ 1         ┆ 女性   ┆ … ┆ 東京都江東区  ┆ S13015        ┆ 20150722     ┆ B-20100609-B │\n",
       "│ 3             ┆               ┆           ┆        ┆   ┆ 北砂********* ┆               ┆              ┆              │\n",
       "│               ┆               ┆           ┆        ┆   ┆ *             ┆               ┆              ┆              │\n",
       "│ CS01121500004 ┆ 芦田 沙耶     ┆ 1         ┆ 女性   ┆ … ┆ 神奈川県横浜  ┆ S14011        ┆ 20150228     ┆ C-20100421-9 │\n",
       "│ 8             ┆               ┆           ┆        ┆   ┆ 市港北区日吉  ┆               ┆              ┆              │\n",
       "│               ┆               ┆           ┆        ┆   ┆ 本町********* ┆               ┆              ┆              │\n",
       "│               ┆               ┆           ┆        ┆   ┆ *             ┆               ┆              ┆              │\n",
       "│ CS02941500002 ┆ 梅田 里穂     ┆ 1         ┆ 女性   ┆ … ┆ 千葉県浦安市  ┆ S12029        ┆ 20150610     ┆ D-20100918-E │\n",
       "│ 3             ┆               ┆           ┆        ┆   ┆ 富士見******* ┆               ┆              ┆              │\n",
       "│               ┆               ┆           ┆        ┆   ┆ ***           ┆               ┆              ┆              │\n",
       "│ CS03541500002 ┆ 寺沢 真希     ┆ 9         ┆ 不明   ┆ … ┆ 東京都世田谷  ┆ S13035        ┆ 20141220     ┆ F-20101029-F │\n",
       "│ 9             ┆               ┆           ┆        ┆   ┆ 区玉川台***** ┆               ┆              ┆              │\n",
       "│               ┆               ┆           ┆        ┆   ┆ *****         ┆               ┆              ┆              │\n",
       "└───────────────┴───────────────┴───────────┴────────┴───┴───────────────┴───────────────┴──────────────┴──────────────┘"
      ]
     },
     "execution_count": 43,
     "metadata": {},
     "output_type": "execute_result"
    }
   ],
   "source": [
    "df_customer.filter(pl.col.status_cd.str.contains('^[A-F]')).head(5)"
   ]
  },
  {
   "cell_type": "markdown",
   "metadata": {},
   "source": [
    "### P-014\n",
    "\n",
    "顧客データ（df_customer）から、ステータスコード（status_cd）の末尾が数字の1〜9で終わるデータを全項目抽出し、10件表示せよ。"
   ]
  },
  {
   "cell_type": "code",
   "execution_count": 46,
   "metadata": {},
   "outputs": [
    {
     "data": {
      "text/html": [
       "<div><style>\n",
       ".dataframe > thead > tr,\n",
       ".dataframe > tbody > tr {\n",
       "  text-align: right;\n",
       "  white-space: pre-wrap;\n",
       "}\n",
       "</style>\n",
       "<small>shape: (5, 11)</small><table border=\"1\" class=\"dataframe\"><thead><tr><th>customer_id</th><th>customer_name</th><th>gender_cd</th><th>gender</th><th>birth_day</th><th>age</th><th>postal_cd</th><th>address</th><th>application_store_cd</th><th>application_date</th><th>status_cd</th></tr><tr><td>str</td><td>str</td><td>str</td><td>str</td><td>str</td><td>i64</td><td>str</td><td>str</td><td>str</td><td>i64</td><td>str</td></tr></thead><tbody><tr><td>&quot;CS001215000145&quot;</td><td>&quot;田崎 美紀&quot;</td><td>&quot;1&quot;</td><td>&quot;女性&quot;</td><td>&quot;1995-03-29&quot;</td><td>24</td><td>&quot;144-0055&quot;</td><td>&quot;東京都大田区仲六郷**********&quot;</td><td>&quot;S13001&quot;</td><td>20170605</td><td>&quot;6-20090929-2&quot;</td></tr><tr><td>&quot;CS033513000180&quot;</td><td>&quot;安斎 遥&quot;</td><td>&quot;1&quot;</td><td>&quot;女性&quot;</td><td>&quot;1962-07-11&quot;</td><td>56</td><td>&quot;241-0823&quot;</td><td>&quot;神奈川県横浜市旭区善部町**********&quot;</td><td>&quot;S14033&quot;</td><td>20150728</td><td>&quot;6-20080506-5&quot;</td></tr><tr><td>&quot;CS011215000048&quot;</td><td>&quot;芦田 沙耶&quot;</td><td>&quot;1&quot;</td><td>&quot;女性&quot;</td><td>&quot;1992-02-01&quot;</td><td>27</td><td>&quot;223-0062&quot;</td><td>&quot;神奈川県横浜市港北区日吉本町**********&quot;</td><td>&quot;S14011&quot;</td><td>20150228</td><td>&quot;C-20100421-9&quot;</td></tr><tr><td>&quot;CS040412000191&quot;</td><td>&quot;川井 郁恵&quot;</td><td>&quot;1&quot;</td><td>&quot;女性&quot;</td><td>&quot;1977-01-05&quot;</td><td>42</td><td>&quot;226-0021&quot;</td><td>&quot;神奈川県横浜市緑区北八朔町**********&quot;</td><td>&quot;S14040&quot;</td><td>20151101</td><td>&quot;1-20091025-4&quot;</td></tr><tr><td>&quot;CS009315000023&quot;</td><td>&quot;皆川 文世&quot;</td><td>&quot;1&quot;</td><td>&quot;女性&quot;</td><td>&quot;1980-04-15&quot;</td><td>38</td><td>&quot;154-0012&quot;</td><td>&quot;東京都世田谷区駒沢**********&quot;</td><td>&quot;S13009&quot;</td><td>20150319</td><td>&quot;5-20080322-1&quot;</td></tr></tbody></table></div>"
      ],
      "text/plain": [
       "shape: (5, 11)\n",
       "┌───────────────┬───────────────┬───────────┬────────┬───┬───────────────┬───────────────┬──────────────┬──────────────┐\n",
       "│ customer_id   ┆ customer_name ┆ gender_cd ┆ gender ┆ … ┆ address       ┆ application_s ┆ application_ ┆ status_cd    │\n",
       "│ ---           ┆ ---           ┆ ---       ┆ ---    ┆   ┆ ---           ┆ tore_cd       ┆ date         ┆ ---          │\n",
       "│ str           ┆ str           ┆ str       ┆ str    ┆   ┆ str           ┆ ---           ┆ ---          ┆ str          │\n",
       "│               ┆               ┆           ┆        ┆   ┆               ┆ str           ┆ i64          ┆              │\n",
       "╞═══════════════╪═══════════════╪═══════════╪════════╪═══╪═══════════════╪═══════════════╪══════════════╪══════════════╡\n",
       "│ CS00121500014 ┆ 田崎 美紀     ┆ 1         ┆ 女性   ┆ … ┆ 東京都大田区  ┆ S13001        ┆ 20170605     ┆ 6-20090929-2 │\n",
       "│ 5             ┆               ┆           ┆        ┆   ┆ 仲六郷******* ┆               ┆              ┆              │\n",
       "│               ┆               ┆           ┆        ┆   ┆ ***           ┆               ┆              ┆              │\n",
       "│ CS03351300018 ┆ 安斎 遥       ┆ 1         ┆ 女性   ┆ … ┆ 神奈川県横浜  ┆ S14033        ┆ 20150728     ┆ 6-20080506-5 │\n",
       "│ 0             ┆               ┆           ┆        ┆   ┆ 市旭区善部町* ┆               ┆              ┆              │\n",
       "│               ┆               ┆           ┆        ┆   ┆ *********     ┆               ┆              ┆              │\n",
       "│ CS01121500004 ┆ 芦田 沙耶     ┆ 1         ┆ 女性   ┆ … ┆ 神奈川県横浜  ┆ S14011        ┆ 20150228     ┆ C-20100421-9 │\n",
       "│ 8             ┆               ┆           ┆        ┆   ┆ 市港北区日吉  ┆               ┆              ┆              │\n",
       "│               ┆               ┆           ┆        ┆   ┆ 本町********* ┆               ┆              ┆              │\n",
       "│               ┆               ┆           ┆        ┆   ┆ *             ┆               ┆              ┆              │\n",
       "│ CS04041200019 ┆ 川井 郁恵     ┆ 1         ┆ 女性   ┆ … ┆ 神奈川県横浜  ┆ S14040        ┆ 20151101     ┆ 1-20091025-4 │\n",
       "│ 1             ┆               ┆           ┆        ┆   ┆ 市緑区北八朔  ┆               ┆              ┆              │\n",
       "│               ┆               ┆           ┆        ┆   ┆ 町**********  ┆               ┆              ┆              │\n",
       "│ CS00931500002 ┆ 皆川 文世     ┆ 1         ┆ 女性   ┆ … ┆ 東京都世田谷  ┆ S13009        ┆ 20150319     ┆ 5-20080322-1 │\n",
       "│ 3             ┆               ┆           ┆        ┆   ┆ 区駒沢******* ┆               ┆              ┆              │\n",
       "│               ┆               ┆           ┆        ┆   ┆ ***           ┆               ┆              ┆              │\n",
       "└───────────────┴───────────────┴───────────┴────────┴───┴───────────────┴───────────────┴──────────────┴──────────────┘"
      ]
     },
     "execution_count": 46,
     "metadata": {},
     "output_type": "execute_result"
    }
   ],
   "source": [
    "df_customer.filter(pl.col.status_cd.str.contains('[1-9]$')).head(5)"
   ]
  },
  {
   "cell_type": "markdown",
   "metadata": {},
   "source": [
    "### P-015\n",
    "\n",
    "顧客データ（df_customer）から、ステータスコード（status_cd）の先頭がアルファベットのA〜Fで始まり、末尾が数字の1〜9で終わるデータを全項目抽出し、10件表示せよ。"
   ]
  },
  {
   "cell_type": "code",
   "execution_count": 47,
   "metadata": {},
   "outputs": [
    {
     "data": {
      "text/html": [
       "<div><style>\n",
       ".dataframe > thead > tr,\n",
       ".dataframe > tbody > tr {\n",
       "  text-align: right;\n",
       "  white-space: pre-wrap;\n",
       "}\n",
       "</style>\n",
       "<small>shape: (5, 11)</small><table border=\"1\" class=\"dataframe\"><thead><tr><th>customer_id</th><th>customer_name</th><th>gender_cd</th><th>gender</th><th>birth_day</th><th>age</th><th>postal_cd</th><th>address</th><th>application_store_cd</th><th>application_date</th><th>status_cd</th></tr><tr><td>str</td><td>str</td><td>str</td><td>str</td><td>str</td><td>i64</td><td>str</td><td>str</td><td>str</td><td>i64</td><td>str</td></tr></thead><tbody><tr><td>&quot;CS011215000048&quot;</td><td>&quot;芦田 沙耶&quot;</td><td>&quot;1&quot;</td><td>&quot;女性&quot;</td><td>&quot;1992-02-01&quot;</td><td>27</td><td>&quot;223-0062&quot;</td><td>&quot;神奈川県横浜市港北区日吉本町**********&quot;</td><td>&quot;S14011&quot;</td><td>20150228</td><td>&quot;C-20100421-9&quot;</td></tr><tr><td>&quot;CS022513000105&quot;</td><td>&quot;島村 貴美子&quot;</td><td>&quot;1&quot;</td><td>&quot;女性&quot;</td><td>&quot;1962-03-12&quot;</td><td>57</td><td>&quot;249-0002&quot;</td><td>&quot;神奈川県逗子市山の根**********&quot;</td><td>&quot;S14022&quot;</td><td>20150320</td><td>&quot;A-20091115-7&quot;</td></tr><tr><td>&quot;CS001515000096&quot;</td><td>&quot;水野 陽子&quot;</td><td>&quot;9&quot;</td><td>&quot;不明&quot;</td><td>&quot;1960-11-29&quot;</td><td>58</td><td>&quot;144-0053&quot;</td><td>&quot;東京都大田区蒲田本町**********&quot;</td><td>&quot;S13001&quot;</td><td>20150614</td><td>&quot;A-20100724-7&quot;</td></tr><tr><td>&quot;CS013615000053&quot;</td><td>&quot;西脇 季衣&quot;</td><td>&quot;1&quot;</td><td>&quot;女性&quot;</td><td>&quot;1953-10-18&quot;</td><td>65</td><td>&quot;261-0026&quot;</td><td>&quot;千葉県千葉市美浜区幕張西**********&quot;</td><td>&quot;S12013&quot;</td><td>20150128</td><td>&quot;B-20100329-6&quot;</td></tr><tr><td>&quot;CS020412000161&quot;</td><td>&quot;小宮 薫&quot;</td><td>&quot;1&quot;</td><td>&quot;女性&quot;</td><td>&quot;1974-05-21&quot;</td><td>44</td><td>&quot;174-0042&quot;</td><td>&quot;東京都板橋区東坂下**********&quot;</td><td>&quot;S13020&quot;</td><td>20150822</td><td>&quot;B-20081021-3&quot;</td></tr></tbody></table></div>"
      ],
      "text/plain": [
       "shape: (5, 11)\n",
       "┌───────────────┬───────────────┬───────────┬────────┬───┬───────────────┬───────────────┬──────────────┬──────────────┐\n",
       "│ customer_id   ┆ customer_name ┆ gender_cd ┆ gender ┆ … ┆ address       ┆ application_s ┆ application_ ┆ status_cd    │\n",
       "│ ---           ┆ ---           ┆ ---       ┆ ---    ┆   ┆ ---           ┆ tore_cd       ┆ date         ┆ ---          │\n",
       "│ str           ┆ str           ┆ str       ┆ str    ┆   ┆ str           ┆ ---           ┆ ---          ┆ str          │\n",
       "│               ┆               ┆           ┆        ┆   ┆               ┆ str           ┆ i64          ┆              │\n",
       "╞═══════════════╪═══════════════╪═══════════╪════════╪═══╪═══════════════╪═══════════════╪══════════════╪══════════════╡\n",
       "│ CS01121500004 ┆ 芦田 沙耶     ┆ 1         ┆ 女性   ┆ … ┆ 神奈川県横浜  ┆ S14011        ┆ 20150228     ┆ C-20100421-9 │\n",
       "│ 8             ┆               ┆           ┆        ┆   ┆ 市港北区日吉  ┆               ┆              ┆              │\n",
       "│               ┆               ┆           ┆        ┆   ┆ 本町********* ┆               ┆              ┆              │\n",
       "│               ┆               ┆           ┆        ┆   ┆ *             ┆               ┆              ┆              │\n",
       "│ CS02251300010 ┆ 島村 貴美子   ┆ 1         ┆ 女性   ┆ … ┆ 神奈川県逗子  ┆ S14022        ┆ 20150320     ┆ A-20091115-7 │\n",
       "│ 5             ┆               ┆           ┆        ┆   ┆ 市山の根***** ┆               ┆              ┆              │\n",
       "│               ┆               ┆           ┆        ┆   ┆ *****         ┆               ┆              ┆              │\n",
       "│ CS00151500009 ┆ 水野 陽子     ┆ 9         ┆ 不明   ┆ … ┆ 東京都大田区  ┆ S13001        ┆ 20150614     ┆ A-20100724-7 │\n",
       "│ 6             ┆               ┆           ┆        ┆   ┆ 蒲田本町***** ┆               ┆              ┆              │\n",
       "│               ┆               ┆           ┆        ┆   ┆ *****         ┆               ┆              ┆              │\n",
       "│ CS01361500005 ┆ 西脇 季衣     ┆ 1         ┆ 女性   ┆ … ┆ 千葉県千葉市  ┆ S12013        ┆ 20150128     ┆ B-20100329-6 │\n",
       "│ 3             ┆               ┆           ┆        ┆   ┆ 美浜区幕張西* ┆               ┆              ┆              │\n",
       "│               ┆               ┆           ┆        ┆   ┆ *********     ┆               ┆              ┆              │\n",
       "│ CS02041200016 ┆ 小宮 薫       ┆ 1         ┆ 女性   ┆ … ┆ 東京都板橋区  ┆ S13020        ┆ 20150822     ┆ B-20081021-3 │\n",
       "│ 1             ┆               ┆           ┆        ┆   ┆ 東坂下******* ┆               ┆              ┆              │\n",
       "│               ┆               ┆           ┆        ┆   ┆ ***           ┆               ┆              ┆              │\n",
       "└───────────────┴───────────────┴───────────┴────────┴───┴───────────────┴───────────────┴──────────────┴──────────────┘"
      ]
     },
     "execution_count": 47,
     "metadata": {},
     "output_type": "execute_result"
    }
   ],
   "source": [
    "df_customer.filter(pl.col.status_cd.str.contains('^[A-F].*[1-9]$')).head(5)"
   ]
  },
  {
   "cell_type": "markdown",
   "metadata": {},
   "source": [
    "### P-016\n",
    "\n",
    "店舗データ（df_store）から、電話番号（tel_no）が3桁-3桁-4桁のデータを全項目表示せよ。"
   ]
  },
  {
   "cell_type": "code",
   "execution_count": 48,
   "metadata": {},
   "outputs": [
    {
     "data": {
      "text/html": [
       "<div><style>\n",
       ".dataframe > thead > tr,\n",
       ".dataframe > tbody > tr {\n",
       "  text-align: right;\n",
       "  white-space: pre-wrap;\n",
       "}\n",
       "</style>\n",
       "<small>shape: (34, 10)</small><table border=\"1\" class=\"dataframe\"><thead><tr><th>store_cd</th><th>store_name</th><th>prefecture_cd</th><th>prefecture</th><th>address</th><th>address_kana</th><th>tel_no</th><th>longitude</th><th>latitude</th><th>floor_area</th></tr><tr><td>str</td><td>str</td><td>str</td><td>str</td><td>str</td><td>str</td><td>str</td><td>f64</td><td>f64</td><td>f64</td></tr></thead><tbody><tr><td>&quot;S12014&quot;</td><td>&quot;千草台店&quot;</td><td>&quot;12&quot;</td><td>&quot;千葉県&quot;</td><td>&quot;千葉県千葉市稲毛区千草台一丁目&quot;</td><td>&quot;チバケンチバシイナゲクチグサダイイッチョウメ&quot;</td><td>&quot;043-123-4003&quot;</td><td>140.118</td><td>35.63559</td><td>1698.0</td></tr><tr><td>&quot;S13002&quot;</td><td>&quot;国分寺店&quot;</td><td>&quot;13&quot;</td><td>&quot;東京都&quot;</td><td>&quot;東京都国分寺市本多二丁目&quot;</td><td>&quot;トウキョウトコクブンジシホンダニチョウメ&quot;</td><td>&quot;042-123-4008&quot;</td><td>139.4802</td><td>35.70566</td><td>1735.0</td></tr><tr><td>&quot;S14010&quot;</td><td>&quot;菊名店&quot;</td><td>&quot;14&quot;</td><td>&quot;神奈川県&quot;</td><td>&quot;神奈川県横浜市港北区菊名一丁目&quot;</td><td>&quot;カナガワケンヨコハマシコウホククキクナイッチョウメ&quot;</td><td>&quot;045-123-4032&quot;</td><td>139.6326</td><td>35.50049</td><td>1732.0</td></tr><tr><td>&quot;S14033&quot;</td><td>&quot;阿久和店&quot;</td><td>&quot;14&quot;</td><td>&quot;神奈川県&quot;</td><td>&quot;神奈川県横浜市瀬谷区阿久和西一丁目&quot;</td><td>&quot;カナガワケンヨコハマシセヤクアクワニシイッチョウメ&quot;</td><td>&quot;045-123-4043&quot;</td><td>139.4961</td><td>35.45918</td><td>1495.0</td></tr><tr><td>&quot;S14036&quot;</td><td>&quot;相模原中央店&quot;</td><td>&quot;14&quot;</td><td>&quot;神奈川県&quot;</td><td>&quot;神奈川県相模原市中央二丁目&quot;</td><td>&quot;カナガワケンサガミハラシチュウオウニチョウメ&quot;</td><td>&quot;042-123-4045&quot;</td><td>139.3716</td><td>35.57327</td><td>1679.0</td></tr><tr><td>&quot;S14040&quot;</td><td>&quot;長津田店&quot;</td><td>&quot;14&quot;</td><td>&quot;神奈川県&quot;</td><td>&quot;神奈川県横浜市緑区長津田みなみ台五丁目&quot;</td><td>&quot;カナガワケンヨコハマシミドリクナガツタミナミダイゴチョウメ&quot;</td><td>&quot;045-123-4046&quot;</td><td>139.4994</td><td>35.52398</td><td>1548.0</td></tr><tr><td>&quot;S14050&quot;</td><td>&quot;阿久和西店&quot;</td><td>&quot;14&quot;</td><td>&quot;神奈川県&quot;</td><td>&quot;神奈川県横浜市瀬谷区阿久和西一丁目&quot;</td><td>&quot;カナガワケンヨコハマシセヤクアクワニシイッチョウメ&quot;</td><td>&quot;045-123-4053&quot;</td><td>139.4961</td><td>35.45918</td><td>1830.0</td></tr><tr><td>&quot;S13052&quot;</td><td>&quot;森野店&quot;</td><td>&quot;13&quot;</td><td>&quot;東京都&quot;</td><td>&quot;東京都町田市森野三丁目&quot;</td><td>&quot;トウキョウトマチダシモリノサンチョウメ&quot;</td><td>&quot;042-123-4030&quot;</td><td>139.4383</td><td>35.55293</td><td>1087.0</td></tr><tr><td>&quot;S14028&quot;</td><td>&quot;二ツ橋店&quot;</td><td>&quot;14&quot;</td><td>&quot;神奈川県&quot;</td><td>&quot;神奈川県横浜市瀬谷区二ツ橋町&quot;</td><td>&quot;カナガワケンヨコハマシセヤクフタツバシチョウ&quot;</td><td>&quot;045-123-4042&quot;</td><td>139.4963</td><td>35.46304</td><td>1574.0</td></tr><tr><td>&quot;S14012&quot;</td><td>&quot;本牧和田店&quot;</td><td>&quot;14&quot;</td><td>&quot;神奈川県&quot;</td><td>&quot;神奈川県横浜市中区本牧和田&quot;</td><td>&quot;カナガワケンヨコハマシナカクホンモクワダ&quot;</td><td>&quot;045-123-4034&quot;</td><td>139.6582</td><td>35.42156</td><td>1341.0</td></tr><tr><td>&quot;S14046&quot;</td><td>&quot;北山田店&quot;</td><td>&quot;14&quot;</td><td>&quot;神奈川県&quot;</td><td>&quot;神奈川県横浜市都筑区北山田一丁目&quot;</td><td>&quot;カナガワケンヨコハマシツヅキクキタヤマタイッチョウメ&quot;</td><td>&quot;045-123-4049&quot;</td><td>139.5916</td><td>35.56189</td><td>831.0</td></tr><tr><td>&quot;S14022&quot;</td><td>&quot;逗子店&quot;</td><td>&quot;14&quot;</td><td>&quot;神奈川県&quot;</td><td>&quot;神奈川県逗子市逗子一丁目&quot;</td><td>&quot;カナガワケンズシシズシイッチョウメ&quot;</td><td>&quot;046-123-4036&quot;</td><td>139.5789</td><td>35.29642</td><td>1838.0</td></tr><tr><td>&hellip;</td><td>&hellip;</td><td>&hellip;</td><td>&hellip;</td><td>&hellip;</td><td>&hellip;</td><td>&hellip;</td><td>&hellip;</td><td>&hellip;</td><td>&hellip;</td></tr><tr><td>&quot;S14027&quot;</td><td>&quot;南藤沢店&quot;</td><td>&quot;14&quot;</td><td>&quot;神奈川県&quot;</td><td>&quot;神奈川県藤沢市南藤沢&quot;</td><td>&quot;カナガワケンフジサワシミナミフジサワ&quot;</td><td>&quot;046-123-4041&quot;</td><td>139.4896</td><td>35.33762</td><td>1521.0</td></tr><tr><td>&quot;S14021&quot;</td><td>&quot;伊勢原店&quot;</td><td>&quot;14&quot;</td><td>&quot;神奈川県&quot;</td><td>&quot;神奈川県伊勢原市伊勢原四丁目&quot;</td><td>&quot;カナガワケンイセハラシイセハラヨンチョウメ&quot;</td><td>&quot;046-123-4035&quot;</td><td>139.3129</td><td>35.40169</td><td>962.0</td></tr><tr><td>&quot;S14047&quot;</td><td>&quot;相模原店&quot;</td><td>&quot;14&quot;</td><td>&quot;神奈川県&quot;</td><td>&quot;神奈川県相模原市千代田六丁目&quot;</td><td>&quot;カナガワケンサガミハラシチヨダロクチョウメ&quot;</td><td>&quot;042-123-4050&quot;</td><td>139.3748</td><td>35.55959</td><td>1047.0</td></tr><tr><td>&quot;S12013&quot;</td><td>&quot;習志野店&quot;</td><td>&quot;12&quot;</td><td>&quot;千葉県&quot;</td><td>&quot;千葉県習志野市芝園一丁目&quot;</td><td>&quot;チバケンナラシノシシバゾノイッチョウメ&quot;</td><td>&quot;047-123-4002&quot;</td><td>140.022</td><td>35.66122</td><td>808.0</td></tr><tr><td>&quot;S14042&quot;</td><td>&quot;新山下店&quot;</td><td>&quot;14&quot;</td><td>&quot;神奈川県&quot;</td><td>&quot;神奈川県横浜市中区新山下二丁目&quot;</td><td>&quot;カナガワケンヨコハマシナカクシンヤマシタニチョウメ&quot;</td><td>&quot;045-123-4047&quot;</td><td>139.6593</td><td>35.43894</td><td>1044.0</td></tr><tr><td>&quot;S12030&quot;</td><td>&quot;八幡店&quot;</td><td>&quot;12&quot;</td><td>&quot;千葉県&quot;</td><td>&quot;千葉県市川市八幡三丁目&quot;</td><td>&quot;チバケンイチカワシヤワタサンチョウメ&quot;</td><td>&quot;047-123-4005&quot;</td><td>139.924</td><td>35.72318</td><td>1162.0</td></tr><tr><td>&quot;S14025&quot;</td><td>&quot;大和店&quot;</td><td>&quot;14&quot;</td><td>&quot;神奈川県&quot;</td><td>&quot;神奈川県大和市下和田&quot;</td><td>&quot;カナガワケンヤマトシシモワダ&quot;</td><td>&quot;046-123-4039&quot;</td><td>139.468</td><td>35.43414</td><td>1011.0</td></tr><tr><td>&quot;S14045&quot;</td><td>&quot;厚木店&quot;</td><td>&quot;14&quot;</td><td>&quot;神奈川県&quot;</td><td>&quot;神奈川県厚木市中町二丁目&quot;</td><td>&quot;カナガワケンアツギシナカチョウニチョウメ&quot;</td><td>&quot;046-123-4048&quot;</td><td>139.3651</td><td>35.44182</td><td>980.0</td></tr><tr><td>&quot;S12029&quot;</td><td>&quot;東野店&quot;</td><td>&quot;12&quot;</td><td>&quot;千葉県&quot;</td><td>&quot;千葉県浦安市東野一丁目&quot;</td><td>&quot;チバケンウラヤスシヒガシノイッチョウメ&quot;</td><td>&quot;047-123-4004&quot;</td><td>139.8968</td><td>35.65086</td><td>1101.0</td></tr><tr><td>&quot;S12053&quot;</td><td>&quot;高洲店&quot;</td><td>&quot;12&quot;</td><td>&quot;千葉県&quot;</td><td>&quot;千葉県浦安市高洲五丁目&quot;</td><td>&quot;チバケンウラヤスシタカスゴチョウメ&quot;</td><td>&quot;047-123-4006&quot;</td><td>139.9176</td><td>35.63755</td><td>1555.0</td></tr><tr><td>&quot;S14024&quot;</td><td>&quot;三田店&quot;</td><td>&quot;14&quot;</td><td>&quot;神奈川県&quot;</td><td>&quot;神奈川県川崎市多摩区三田四丁目&quot;</td><td>&quot;カナガワケンカワサキシタマクミタヨンチョウメ&quot;</td><td>&quot;044-123-4038&quot;</td><td>139.5424</td><td>35.6077</td><td>972.0</td></tr><tr><td>&quot;S14006&quot;</td><td>&quot;葛が谷店&quot;</td><td>&quot;14&quot;</td><td>&quot;神奈川県&quot;</td><td>&quot;神奈川県横浜市都筑区葛が谷&quot;</td><td>&quot;カナガワケンヨコハマシツヅキククズガヤ&quot;</td><td>&quot;045-123-4031&quot;</td><td>139.5633</td><td>35.53573</td><td>1886.0</td></tr></tbody></table></div>"
      ],
      "text/plain": [
       "shape: (34, 10)\n",
       "┌──────────┬────────────┬───────────────┬────────────┬───┬──────────────┬───────────┬──────────┬────────────┐\n",
       "│ store_cd ┆ store_name ┆ prefecture_cd ┆ prefecture ┆ … ┆ tel_no       ┆ longitude ┆ latitude ┆ floor_area │\n",
       "│ ---      ┆ ---        ┆ ---           ┆ ---        ┆   ┆ ---          ┆ ---       ┆ ---      ┆ ---        │\n",
       "│ str      ┆ str        ┆ str           ┆ str        ┆   ┆ str          ┆ f64       ┆ f64      ┆ f64        │\n",
       "╞══════════╪════════════╪═══════════════╪════════════╪═══╪══════════════╪═══════════╪══════════╪════════════╡\n",
       "│ S12014   ┆ 千草台店   ┆ 12            ┆ 千葉県     ┆ … ┆ 043-123-4003 ┆ 140.118   ┆ 35.63559 ┆ 1698.0     │\n",
       "│ S13002   ┆ 国分寺店   ┆ 13            ┆ 東京都     ┆ … ┆ 042-123-4008 ┆ 139.4802  ┆ 35.70566 ┆ 1735.0     │\n",
       "│ S14010   ┆ 菊名店     ┆ 14            ┆ 神奈川県   ┆ … ┆ 045-123-4032 ┆ 139.6326  ┆ 35.50049 ┆ 1732.0     │\n",
       "│ S14033   ┆ 阿久和店   ┆ 14            ┆ 神奈川県   ┆ … ┆ 045-123-4043 ┆ 139.4961  ┆ 35.45918 ┆ 1495.0     │\n",
       "│ …        ┆ …          ┆ …             ┆ …          ┆ … ┆ …            ┆ …         ┆ …        ┆ …          │\n",
       "│ S12029   ┆ 東野店     ┆ 12            ┆ 千葉県     ┆ … ┆ 047-123-4004 ┆ 139.8968  ┆ 35.65086 ┆ 1101.0     │\n",
       "│ S12053   ┆ 高洲店     ┆ 12            ┆ 千葉県     ┆ … ┆ 047-123-4006 ┆ 139.9176  ┆ 35.63755 ┆ 1555.0     │\n",
       "│ S14024   ┆ 三田店     ┆ 14            ┆ 神奈川県   ┆ … ┆ 044-123-4038 ┆ 139.5424  ┆ 35.6077  ┆ 972.0      │\n",
       "│ S14006   ┆ 葛が谷店   ┆ 14            ┆ 神奈川県   ┆ … ┆ 045-123-4031 ┆ 139.5633  ┆ 35.53573 ┆ 1886.0     │\n",
       "└──────────┴────────────┴───────────────┴────────────┴───┴──────────────┴───────────┴──────────┴────────────┘"
      ]
     },
     "execution_count": 48,
     "metadata": {},
     "output_type": "execute_result"
    }
   ],
   "source": [
    "df_store.filter(pl.col.tel_no.str.contains(r'^\\d{3}-\\d{3}-\\d{4}$'))"
   ]
  },
  {
   "cell_type": "markdown",
   "metadata": {},
   "source": [
    "### P-017\n",
    "\n",
    "顧客データ（df_customer）を生年月日（birth_day）で高齢順にソートし、先頭から全項目を10件表示せよ。"
   ]
  },
  {
   "cell_type": "code",
   "execution_count": 53,
   "metadata": {},
   "outputs": [
    {
     "data": {
      "text/html": [
       "<div><style>\n",
       ".dataframe > thead > tr,\n",
       ".dataframe > tbody > tr {\n",
       "  text-align: right;\n",
       "  white-space: pre-wrap;\n",
       "}\n",
       "</style>\n",
       "<small>shape: (5, 11)</small><table border=\"1\" class=\"dataframe\"><thead><tr><th>customer_id</th><th>customer_name</th><th>gender_cd</th><th>gender</th><th>birth_day</th><th>age</th><th>postal_cd</th><th>address</th><th>application_store_cd</th><th>application_date</th><th>status_cd</th></tr><tr><td>str</td><td>str</td><td>str</td><td>str</td><td>str</td><td>i64</td><td>str</td><td>str</td><td>str</td><td>i64</td><td>str</td></tr></thead><tbody><tr><td>&quot;CS003813000014&quot;</td><td>&quot;村山 菜々美&quot;</td><td>&quot;1&quot;</td><td>&quot;女性&quot;</td><td>&quot;1928-11-26&quot;</td><td>90</td><td>&quot;182-0007&quot;</td><td>&quot;東京都調布市菊野台**********&quot;</td><td>&quot;S13003&quot;</td><td>20160214</td><td>&quot;0-00000000-0&quot;</td></tr><tr><td>&quot;CS026813000004&quot;</td><td>&quot;吉村 朝陽&quot;</td><td>&quot;1&quot;</td><td>&quot;女性&quot;</td><td>&quot;1928-12-14&quot;</td><td>90</td><td>&quot;251-0043&quot;</td><td>&quot;神奈川県藤沢市辻堂元町**********&quot;</td><td>&quot;S14026&quot;</td><td>20150723</td><td>&quot;0-00000000-0&quot;</td></tr><tr><td>&quot;CS018811000003&quot;</td><td>&quot;熊沢 美里&quot;</td><td>&quot;1&quot;</td><td>&quot;女性&quot;</td><td>&quot;1929-01-07&quot;</td><td>90</td><td>&quot;204-0004&quot;</td><td>&quot;東京都清瀬市野塩**********&quot;</td><td>&quot;S13018&quot;</td><td>20150403</td><td>&quot;0-00000000-0&quot;</td></tr><tr><td>&quot;CS027803000004&quot;</td><td>&quot;内村 拓郎&quot;</td><td>&quot;0&quot;</td><td>&quot;男性&quot;</td><td>&quot;1929-01-12&quot;</td><td>90</td><td>&quot;251-0031&quot;</td><td>&quot;神奈川県藤沢市鵠沼藤が谷**********&quot;</td><td>&quot;S14027&quot;</td><td>20151227</td><td>&quot;0-00000000-0&quot;</td></tr><tr><td>&quot;CS013801000003&quot;</td><td>&quot;天野 拓郎&quot;</td><td>&quot;0&quot;</td><td>&quot;男性&quot;</td><td>&quot;1929-01-15&quot;</td><td>90</td><td>&quot;274-0824&quot;</td><td>&quot;千葉県船橋市前原東**********&quot;</td><td>&quot;S12013&quot;</td><td>20160120</td><td>&quot;0-00000000-0&quot;</td></tr></tbody></table></div>"
      ],
      "text/plain": [
       "shape: (5, 11)\n",
       "┌───────────────┬───────────────┬───────────┬────────┬───┬───────────────┬───────────────┬──────────────┬──────────────┐\n",
       "│ customer_id   ┆ customer_name ┆ gender_cd ┆ gender ┆ … ┆ address       ┆ application_s ┆ application_ ┆ status_cd    │\n",
       "│ ---           ┆ ---           ┆ ---       ┆ ---    ┆   ┆ ---           ┆ tore_cd       ┆ date         ┆ ---          │\n",
       "│ str           ┆ str           ┆ str       ┆ str    ┆   ┆ str           ┆ ---           ┆ ---          ┆ str          │\n",
       "│               ┆               ┆           ┆        ┆   ┆               ┆ str           ┆ i64          ┆              │\n",
       "╞═══════════════╪═══════════════╪═══════════╪════════╪═══╪═══════════════╪═══════════════╪══════════════╪══════════════╡\n",
       "│ CS00381300001 ┆ 村山 菜々美   ┆ 1         ┆ 女性   ┆ … ┆ 東京都調布市  ┆ S13003        ┆ 20160214     ┆ 0-00000000-0 │\n",
       "│ 4             ┆               ┆           ┆        ┆   ┆ 菊野台******* ┆               ┆              ┆              │\n",
       "│               ┆               ┆           ┆        ┆   ┆ ***           ┆               ┆              ┆              │\n",
       "│ CS02681300000 ┆ 吉村 朝陽     ┆ 1         ┆ 女性   ┆ … ┆ 神奈川県藤沢  ┆ S14026        ┆ 20150723     ┆ 0-00000000-0 │\n",
       "│ 4             ┆               ┆           ┆        ┆   ┆ 市辻堂元町*** ┆               ┆              ┆              │\n",
       "│               ┆               ┆           ┆        ┆   ┆ *******       ┆               ┆              ┆              │\n",
       "│ CS01881100000 ┆ 熊沢 美里     ┆ 1         ┆ 女性   ┆ … ┆ 東京都清瀬市  ┆ S13018        ┆ 20150403     ┆ 0-00000000-0 │\n",
       "│ 3             ┆               ┆           ┆        ┆   ┆ 野塩********* ┆               ┆              ┆              │\n",
       "│               ┆               ┆           ┆        ┆   ┆ *             ┆               ┆              ┆              │\n",
       "│ CS02780300000 ┆ 内村 拓郎     ┆ 0         ┆ 男性   ┆ … ┆ 神奈川県藤沢  ┆ S14027        ┆ 20151227     ┆ 0-00000000-0 │\n",
       "│ 4             ┆               ┆           ┆        ┆   ┆ 市鵠沼藤が谷* ┆               ┆              ┆              │\n",
       "│               ┆               ┆           ┆        ┆   ┆ *********     ┆               ┆              ┆              │\n",
       "│ CS01380100000 ┆ 天野 拓郎     ┆ 0         ┆ 男性   ┆ … ┆ 千葉県船橋市  ┆ S12013        ┆ 20160120     ┆ 0-00000000-0 │\n",
       "│ 3             ┆               ┆           ┆        ┆   ┆ 前原東******* ┆               ┆              ┆              │\n",
       "│               ┆               ┆           ┆        ┆   ┆ ***           ┆               ┆              ┆              │\n",
       "└───────────────┴───────────────┴───────────┴────────┴───┴───────────────┴───────────────┴──────────────┴──────────────┘"
      ]
     },
     "execution_count": 53,
     "metadata": {},
     "output_type": "execute_result"
    }
   ],
   "source": [
    "df_customer.sort(by='birth_day', descending=False).head()"
   ]
  },
  {
   "cell_type": "code",
   "execution_count": 52,
   "metadata": {},
   "outputs": [
    {
     "data": {
      "text/html": [
       "<div><style>\n",
       ".dataframe > thead > tr,\n",
       ".dataframe > tbody > tr {\n",
       "  text-align: right;\n",
       "  white-space: pre-wrap;\n",
       "}\n",
       "</style>\n",
       "<small>shape: (5, 3)</small><table border=\"1\" class=\"dataframe\"><thead><tr><th>customer_name</th><th>birth_day</th><th>age</th></tr><tr><td>str</td><td>str</td><td>i64</td></tr></thead><tbody><tr><td>&quot;村山 菜々美&quot;</td><td>&quot;1928-11-26&quot;</td><td>90</td></tr><tr><td>&quot;吉村 朝陽&quot;</td><td>&quot;1928-12-14&quot;</td><td>90</td></tr><tr><td>&quot;熊沢 美里&quot;</td><td>&quot;1929-01-07&quot;</td><td>90</td></tr><tr><td>&quot;内村 拓郎&quot;</td><td>&quot;1929-01-12&quot;</td><td>90</td></tr><tr><td>&quot;天野 拓郎&quot;</td><td>&quot;1929-01-15&quot;</td><td>90</td></tr></tbody></table></div>"
      ],
      "text/plain": [
       "shape: (5, 3)\n",
       "┌───────────────┬────────────┬─────┐\n",
       "│ customer_name ┆ birth_day  ┆ age │\n",
       "│ ---           ┆ ---        ┆ --- │\n",
       "│ str           ┆ str        ┆ i64 │\n",
       "╞═══════════════╪════════════╪═════╡\n",
       "│ 村山 菜々美   ┆ 1928-11-26 ┆ 90  │\n",
       "│ 吉村 朝陽     ┆ 1928-12-14 ┆ 90  │\n",
       "│ 熊沢 美里     ┆ 1929-01-07 ┆ 90  │\n",
       "│ 内村 拓郎     ┆ 1929-01-12 ┆ 90  │\n",
       "│ 天野 拓郎     ┆ 1929-01-15 ┆ 90  │\n",
       "└───────────────┴────────────┴─────┘"
      ]
     },
     "execution_count": 52,
     "metadata": {},
     "output_type": "execute_result"
    }
   ],
   "source": [
    "df_customer.select(pl.col('customer_name', 'birth_day', 'age').sort_by('birth_day')).head()"
   ]
  },
  {
   "cell_type": "markdown",
   "metadata": {},
   "source": [
    "### P-018\n",
    "\n",
    "顧客データ（df_customer）を生年月日（birth_day）で若い順にソートし、先頭から全項目を10件表示せよ。"
   ]
  },
  {
   "cell_type": "code",
   "execution_count": 54,
   "metadata": {},
   "outputs": [
    {
     "data": {
      "text/html": [
       "<div><style>\n",
       ".dataframe > thead > tr,\n",
       ".dataframe > tbody > tr {\n",
       "  text-align: right;\n",
       "  white-space: pre-wrap;\n",
       "}\n",
       "</style>\n",
       "<small>shape: (5, 11)</small><table border=\"1\" class=\"dataframe\"><thead><tr><th>customer_id</th><th>customer_name</th><th>gender_cd</th><th>gender</th><th>birth_day</th><th>age</th><th>postal_cd</th><th>address</th><th>application_store_cd</th><th>application_date</th><th>status_cd</th></tr><tr><td>str</td><td>str</td><td>str</td><td>str</td><td>str</td><td>i64</td><td>str</td><td>str</td><td>str</td><td>i64</td><td>str</td></tr></thead><tbody><tr><td>&quot;CS035114000004&quot;</td><td>&quot;大村 美里&quot;</td><td>&quot;1&quot;</td><td>&quot;女性&quot;</td><td>&quot;2007-11-25&quot;</td><td>11</td><td>&quot;156-0053&quot;</td><td>&quot;東京都世田谷区桜**********&quot;</td><td>&quot;S13035&quot;</td><td>20150619</td><td>&quot;6-20091205-6&quot;</td></tr><tr><td>&quot;CS022103000002&quot;</td><td>&quot;福山 はじめ&quot;</td><td>&quot;9&quot;</td><td>&quot;不明&quot;</td><td>&quot;2007-10-02&quot;</td><td>11</td><td>&quot;249-0006&quot;</td><td>&quot;神奈川県逗子市逗子**********&quot;</td><td>&quot;S14022&quot;</td><td>20160909</td><td>&quot;0-00000000-0&quot;</td></tr><tr><td>&quot;CS002113000009&quot;</td><td>&quot;柴田 真悠子&quot;</td><td>&quot;1&quot;</td><td>&quot;女性&quot;</td><td>&quot;2007-09-17&quot;</td><td>11</td><td>&quot;184-0014&quot;</td><td>&quot;東京都小金井市貫井南町**********&quot;</td><td>&quot;S13002&quot;</td><td>20160304</td><td>&quot;0-00000000-0&quot;</td></tr><tr><td>&quot;CS004115000014&quot;</td><td>&quot;松井 京子&quot;</td><td>&quot;1&quot;</td><td>&quot;女性&quot;</td><td>&quot;2007-08-09&quot;</td><td>11</td><td>&quot;165-0031&quot;</td><td>&quot;東京都中野区上鷺宮**********&quot;</td><td>&quot;S13004&quot;</td><td>20161120</td><td>&quot;1-20081231-1&quot;</td></tr><tr><td>&quot;CS002114000010&quot;</td><td>&quot;山内 遥&quot;</td><td>&quot;1&quot;</td><td>&quot;女性&quot;</td><td>&quot;2007-06-03&quot;</td><td>11</td><td>&quot;184-0015&quot;</td><td>&quot;東京都小金井市貫井北町**********&quot;</td><td>&quot;S13002&quot;</td><td>20160920</td><td>&quot;6-20100510-1&quot;</td></tr></tbody></table></div>"
      ],
      "text/plain": [
       "shape: (5, 11)\n",
       "┌───────────────┬───────────────┬───────────┬────────┬───┬───────────────┬───────────────┬──────────────┬──────────────┐\n",
       "│ customer_id   ┆ customer_name ┆ gender_cd ┆ gender ┆ … ┆ address       ┆ application_s ┆ application_ ┆ status_cd    │\n",
       "│ ---           ┆ ---           ┆ ---       ┆ ---    ┆   ┆ ---           ┆ tore_cd       ┆ date         ┆ ---          │\n",
       "│ str           ┆ str           ┆ str       ┆ str    ┆   ┆ str           ┆ ---           ┆ ---          ┆ str          │\n",
       "│               ┆               ┆           ┆        ┆   ┆               ┆ str           ┆ i64          ┆              │\n",
       "╞═══════════════╪═══════════════╪═══════════╪════════╪═══╪═══════════════╪═══════════════╪══════════════╪══════════════╡\n",
       "│ CS03511400000 ┆ 大村 美里     ┆ 1         ┆ 女性   ┆ … ┆ 東京都世田谷  ┆ S13035        ┆ 20150619     ┆ 6-20091205-6 │\n",
       "│ 4             ┆               ┆           ┆        ┆   ┆ 区桜********* ┆               ┆              ┆              │\n",
       "│               ┆               ┆           ┆        ┆   ┆ *             ┆               ┆              ┆              │\n",
       "│ CS02210300000 ┆ 福山 はじめ   ┆ 9         ┆ 不明   ┆ … ┆ 神奈川県逗子  ┆ S14022        ┆ 20160909     ┆ 0-00000000-0 │\n",
       "│ 2             ┆               ┆           ┆        ┆   ┆ 市逗子******* ┆               ┆              ┆              │\n",
       "│               ┆               ┆           ┆        ┆   ┆ ***           ┆               ┆              ┆              │\n",
       "│ CS00211300000 ┆ 柴田 真悠子   ┆ 1         ┆ 女性   ┆ … ┆ 東京都小金井  ┆ S13002        ┆ 20160304     ┆ 0-00000000-0 │\n",
       "│ 9             ┆               ┆           ┆        ┆   ┆ 市貫井南町*** ┆               ┆              ┆              │\n",
       "│               ┆               ┆           ┆        ┆   ┆ *******       ┆               ┆              ┆              │\n",
       "│ CS00411500001 ┆ 松井 京子     ┆ 1         ┆ 女性   ┆ … ┆ 東京都中野区  ┆ S13004        ┆ 20161120     ┆ 1-20081231-1 │\n",
       "│ 4             ┆               ┆           ┆        ┆   ┆ 上鷺宮******* ┆               ┆              ┆              │\n",
       "│               ┆               ┆           ┆        ┆   ┆ ***           ┆               ┆              ┆              │\n",
       "│ CS00211400001 ┆ 山内 遥       ┆ 1         ┆ 女性   ┆ … ┆ 東京都小金井  ┆ S13002        ┆ 20160920     ┆ 6-20100510-1 │\n",
       "│ 0             ┆               ┆           ┆        ┆   ┆ 市貫井北町*** ┆               ┆              ┆              │\n",
       "│               ┆               ┆           ┆        ┆   ┆ *******       ┆               ┆              ┆              │\n",
       "└───────────────┴───────────────┴───────────┴────────┴───┴───────────────┴───────────────┴──────────────┴──────────────┘"
      ]
     },
     "execution_count": 54,
     "metadata": {},
     "output_type": "execute_result"
    }
   ],
   "source": [
    "df_customer.sort(by='birth_day', descending=True).head()"
   ]
  },
  {
   "cell_type": "markdown",
   "metadata": {},
   "source": [
    "### P-019\n",
    "\n",
    "レシート明細データ（df_receipt）に対し、1件あたりの売上金額（amount）が高い順にランクを付与し、先頭から10件表示せよ。項目は顧客ID（customer_id）、売上金額（amount）、付与したランクを表示させること。なお、売上金額（amount）が等しい場合は同一順位を付与するものとする。"
   ]
  },
  {
   "cell_type": "code",
   "execution_count": 75,
   "metadata": {},
   "outputs": [
    {
     "data": {
      "text/html": [
       "<div><style>\n",
       ".dataframe > thead > tr,\n",
       ".dataframe > tbody > tr {\n",
       "  text-align: right;\n",
       "  white-space: pre-wrap;\n",
       "}\n",
       "</style>\n",
       "<small>shape: (10, 3)</small><table border=\"1\" class=\"dataframe\"><thead><tr><th>customer_id</th><th>amount</th><th>rank</th></tr><tr><td>str</td><td>i64</td><td>u32</td></tr></thead><tbody><tr><td>&quot;CS011415000006&quot;</td><td>10925</td><td>1</td></tr><tr><td>&quot;ZZ000000000000&quot;</td><td>6800</td><td>2</td></tr><tr><td>&quot;CS028605000002&quot;</td><td>5780</td><td>3</td></tr><tr><td>&quot;CS015515000034&quot;</td><td>5480</td><td>4</td></tr><tr><td>&quot;ZZ000000000000&quot;</td><td>5480</td><td>4</td></tr><tr><td>&quot;ZZ000000000000&quot;</td><td>5480</td><td>4</td></tr><tr><td>&quot;ZZ000000000000&quot;</td><td>5440</td><td>7</td></tr><tr><td>&quot;CS021515000089&quot;</td><td>5440</td><td>7</td></tr><tr><td>&quot;CS015515000083&quot;</td><td>5280</td><td>9</td></tr><tr><td>&quot;CS017414000114&quot;</td><td>5280</td><td>9</td></tr></tbody></table></div>"
      ],
      "text/plain": [
       "shape: (10, 3)\n",
       "┌────────────────┬────────┬──────┐\n",
       "│ customer_id    ┆ amount ┆ rank │\n",
       "│ ---            ┆ ---    ┆ ---  │\n",
       "│ str            ┆ i64    ┆ u32  │\n",
       "╞════════════════╪════════╪══════╡\n",
       "│ CS011415000006 ┆ 10925  ┆ 1    │\n",
       "│ ZZ000000000000 ┆ 6800   ┆ 2    │\n",
       "│ CS028605000002 ┆ 5780   ┆ 3    │\n",
       "│ CS015515000034 ┆ 5480   ┆ 4    │\n",
       "│ …              ┆ …      ┆ …    │\n",
       "│ ZZ000000000000 ┆ 5440   ┆ 7    │\n",
       "│ CS021515000089 ┆ 5440   ┆ 7    │\n",
       "│ CS015515000083 ┆ 5280   ┆ 9    │\n",
       "│ CS017414000114 ┆ 5280   ┆ 9    │\n",
       "└────────────────┴────────┴──────┘"
      ]
     },
     "execution_count": 75,
     "metadata": {},
     "output_type": "execute_result"
    }
   ],
   "source": [
    "df_receipt.select(\n",
    "    pl.col('customer_id', 'amount').sort_by('amount', descending=True)\n",
    ").with_columns(pl.col.amount.rank(method='min', descending=True).alias('rank')\n",
    ").head(10)"
   ]
  },
  {
   "cell_type": "markdown",
   "metadata": {},
   "source": [
    "### P-020\n",
    "\n",
    "レシート明細データ（df_receipt）に対し、1件あたりの売上金額（amount）が高い順にランクを付与し、先頭から10件表示せよ。項目は顧客ID（customer_id）、売上金額（amount）、付与したランクを表示させること。なお、売上金額（amount）が等しい場合でも別順位を付与すること。"
   ]
  },
  {
   "cell_type": "code",
   "execution_count": 79,
   "metadata": {},
   "outputs": [
    {
     "data": {
      "text/html": [
       "<div><style>\n",
       ".dataframe > thead > tr,\n",
       ".dataframe > tbody > tr {\n",
       "  text-align: right;\n",
       "  white-space: pre-wrap;\n",
       "}\n",
       "</style>\n",
       "<small>shape: (10, 3)</small><table border=\"1\" class=\"dataframe\"><thead><tr><th>customer_id</th><th>amount</th><th>rank</th></tr><tr><td>str</td><td>i64</td><td>u32</td></tr></thead><tbody><tr><td>&quot;CS011415000006&quot;</td><td>10925</td><td>1</td></tr><tr><td>&quot;ZZ000000000000&quot;</td><td>6800</td><td>2</td></tr><tr><td>&quot;CS028605000002&quot;</td><td>5780</td><td>3</td></tr><tr><td>&quot;CS015515000034&quot;</td><td>5480</td><td>4</td></tr><tr><td>&quot;ZZ000000000000&quot;</td><td>5480</td><td>5</td></tr><tr><td>&quot;ZZ000000000000&quot;</td><td>5480</td><td>6</td></tr><tr><td>&quot;ZZ000000000000&quot;</td><td>5440</td><td>7</td></tr><tr><td>&quot;CS021515000089&quot;</td><td>5440</td><td>8</td></tr><tr><td>&quot;CS015515000083&quot;</td><td>5280</td><td>9</td></tr><tr><td>&quot;CS017414000114&quot;</td><td>5280</td><td>10</td></tr></tbody></table></div>"
      ],
      "text/plain": [
       "shape: (10, 3)\n",
       "┌────────────────┬────────┬──────┐\n",
       "│ customer_id    ┆ amount ┆ rank │\n",
       "│ ---            ┆ ---    ┆ ---  │\n",
       "│ str            ┆ i64    ┆ u32  │\n",
       "╞════════════════╪════════╪══════╡\n",
       "│ CS011415000006 ┆ 10925  ┆ 1    │\n",
       "│ ZZ000000000000 ┆ 6800   ┆ 2    │\n",
       "│ CS028605000002 ┆ 5780   ┆ 3    │\n",
       "│ CS015515000034 ┆ 5480   ┆ 4    │\n",
       "│ …              ┆ …      ┆ …    │\n",
       "│ ZZ000000000000 ┆ 5440   ┆ 7    │\n",
       "│ CS021515000089 ┆ 5440   ┆ 8    │\n",
       "│ CS015515000083 ┆ 5280   ┆ 9    │\n",
       "│ CS017414000114 ┆ 5280   ┆ 10   │\n",
       "└────────────────┴────────┴──────┘"
      ]
     },
     "execution_count": 79,
     "metadata": {},
     "output_type": "execute_result"
    }
   ],
   "source": [
    "df_receipt.select(\n",
    "    pl.col('customer_id', 'amount').sort_by('amount', descending=True)\n",
    ").with_columns(pl.col.amount.rank(method='ordinal', descending=True).alias('rank')\n",
    ").head(10)"
   ]
  },
  {
   "cell_type": "markdown",
   "metadata": {},
   "source": [
    "## 演習問題 021 ~ 030"
   ]
  },
  {
   "cell_type": "markdown",
   "metadata": {},
   "source": [
    "### P-021\n",
    "\n",
    "レシート明細データ（df_receipt）に対し、件数をカウントせよ。"
   ]
  },
  {
   "cell_type": "code",
   "execution_count": 80,
   "metadata": {},
   "outputs": [
    {
     "data": {
      "text/plain": [
       "104681"
      ]
     },
     "execution_count": 80,
     "metadata": {},
     "output_type": "execute_result"
    }
   ],
   "source": [
    "df_receipt.shape[0]"
   ]
  },
  {
   "cell_type": "code",
   "execution_count": 82,
   "metadata": {},
   "outputs": [
    {
     "data": {
      "text/plain": [
       "104681"
      ]
     },
     "execution_count": 82,
     "metadata": {},
     "output_type": "execute_result"
    }
   ],
   "source": [
    "len(df_receipt)"
   ]
  },
  {
   "cell_type": "markdown",
   "metadata": {},
   "source": [
    "### P-022\n",
    "\n",
    "レシート明細データ（df_receipt）の顧客ID（customer_id）に対し、ユニーク件数をカウントせよ。"
   ]
  },
  {
   "cell_type": "code",
   "execution_count": 84,
   "metadata": {},
   "outputs": [
    {
     "data": {
      "text/plain": [
       "8307"
      ]
     },
     "execution_count": 84,
     "metadata": {},
     "output_type": "execute_result"
    }
   ],
   "source": [
    "df_receipt.select(pl.col.customer_id.n_unique()).item()"
   ]
  },
  {
   "cell_type": "markdown",
   "metadata": {},
   "source": [
    "### P-023\n",
    "\n",
    "レシート明細データ（df_receipt）に対し、店舗コード（store_cd）ごとに売上金額（amount）と売上数量（quantity）を合計せよ。"
   ]
  },
  {
   "cell_type": "code",
   "execution_count": 91,
   "metadata": {},
   "outputs": [
    {
     "data": {
      "text/html": [
       "<div><style>\n",
       ".dataframe > thead > tr,\n",
       ".dataframe > tbody > tr {\n",
       "  text-align: right;\n",
       "  white-space: pre-wrap;\n",
       "}\n",
       "</style>\n",
       "<small>shape: (5, 3)</small><table border=\"1\" class=\"dataframe\"><thead><tr><th>store_cd</th><th>amount</th><th>quantity</th></tr><tr><td>str</td><td>i64</td><td>i64</td></tr></thead><tbody><tr><td>&quot;S12007&quot;</td><td>638761</td><td>2099</td></tr><tr><td>&quot;S12013&quot;</td><td>787513</td><td>2425</td></tr><tr><td>&quot;S12014&quot;</td><td>725167</td><td>2358</td></tr><tr><td>&quot;S12029&quot;</td><td>794741</td><td>2555</td></tr><tr><td>&quot;S12030&quot;</td><td>684402</td><td>2403</td></tr></tbody></table></div>"
      ],
      "text/plain": [
       "shape: (5, 3)\n",
       "┌──────────┬────────┬──────────┐\n",
       "│ store_cd ┆ amount ┆ quantity │\n",
       "│ ---      ┆ ---    ┆ ---      │\n",
       "│ str      ┆ i64    ┆ i64      │\n",
       "╞══════════╪════════╪══════════╡\n",
       "│ S12007   ┆ 638761 ┆ 2099     │\n",
       "│ S12013   ┆ 787513 ┆ 2425     │\n",
       "│ S12014   ┆ 725167 ┆ 2358     │\n",
       "│ S12029   ┆ 794741 ┆ 2555     │\n",
       "│ S12030   ┆ 684402 ┆ 2403     │\n",
       "└──────────┴────────┴──────────┘"
      ]
     },
     "execution_count": 91,
     "metadata": {},
     "output_type": "execute_result"
    }
   ],
   "source": [
    "df_receipt.group_by('store_cd').agg(pl.col('amount', 'quantity').sum()).sort(by='store_cd').head()"
   ]
  },
  {
   "cell_type": "markdown",
   "metadata": {},
   "source": [
    "### P-024\n",
    "\n",
    "レシート明細データ（df_receipt）に対し、顧客ID（customer_id）ごとに最も新しい売上年月日（sales_ymd）を求め、10件表示せよ。"
   ]
  },
  {
   "cell_type": "code",
   "execution_count": 100,
   "metadata": {},
   "outputs": [
    {
     "data": {
      "text/html": [
       "<div><style>\n",
       ".dataframe > thead > tr,\n",
       ".dataframe > tbody > tr {\n",
       "  text-align: right;\n",
       "  white-space: pre-wrap;\n",
       "}\n",
       "</style>\n",
       "<small>shape: (5, 2)</small><table border=\"1\" class=\"dataframe\"><thead><tr><th>customer_id</th><th>sales_ymd</th></tr><tr><td>str</td><td>i64</td></tr></thead><tbody><tr><td>&quot;CS006214000001&quot;</td><td>20190908</td></tr><tr><td>&quot;CS008415000097&quot;</td><td>20190417</td></tr><tr><td>&quot;CS028414000014&quot;</td><td>20191023</td></tr><tr><td>&quot;ZZ000000000000&quot;</td><td>20191031</td></tr><tr><td>&quot;CS025415000050&quot;</td><td>20191008</td></tr></tbody></table></div>"
      ],
      "text/plain": [
       "shape: (5, 2)\n",
       "┌────────────────┬───────────┐\n",
       "│ customer_id    ┆ sales_ymd │\n",
       "│ ---            ┆ ---       │\n",
       "│ str            ┆ i64       │\n",
       "╞════════════════╪═══════════╡\n",
       "│ CS006214000001 ┆ 20190908  │\n",
       "│ CS008415000097 ┆ 20190417  │\n",
       "│ CS028414000014 ┆ 20191023  │\n",
       "│ ZZ000000000000 ┆ 20191031  │\n",
       "│ CS025415000050 ┆ 20191008  │\n",
       "└────────────────┴───────────┘"
      ]
     },
     "execution_count": 100,
     "metadata": {},
     "output_type": "execute_result"
    }
   ],
   "source": [
    "df_receipt.group_by(\n",
    "    pl.col.customer_id, maintain_order=True\n",
    ").agg(\n",
    "    pl.col('sales_ymd').max()\n",
    ").head()"
   ]
  },
  {
   "cell_type": "code",
   "execution_count": 102,
   "metadata": {},
   "outputs": [
    {
     "data": {
      "text/html": [
       "<div><style>\n",
       ".dataframe > thead > tr,\n",
       ".dataframe > tbody > tr {\n",
       "  text-align: right;\n",
       "  white-space: pre-wrap;\n",
       "}\n",
       "</style>\n",
       "<small>shape: (5, 9)</small><table border=\"1\" class=\"dataframe\"><thead><tr><th>customer_id</th><th>sales_ymd</th><th>sales_epoch</th><th>store_cd</th><th>receipt_no</th><th>receipt_sub_no</th><th>product_cd</th><th>quantity</th><th>amount</th></tr><tr><td>str</td><td>i64</td><td>i64</td><td>str</td><td>i64</td><td>i64</td><td>str</td><td>i64</td><td>i64</td></tr></thead><tbody><tr><td>&quot;CS006214000001&quot;</td><td>20190908</td><td>1567900800</td><td>&quot;S14006&quot;</td><td>112</td><td>1</td><td>&quot;P071302010&quot;</td><td>1</td><td>770</td></tr><tr><td>&quot;CS008415000097&quot;</td><td>20190417</td><td>1555459200</td><td>&quot;S13008&quot;</td><td>1192</td><td>1</td><td>&quot;P090405001&quot;</td><td>1</td><td>200</td></tr><tr><td>&quot;CS028414000014&quot;</td><td>20191023</td><td>1571788800</td><td>&quot;S14028&quot;</td><td>1122</td><td>2</td><td>&quot;P070301019&quot;</td><td>1</td><td>225</td></tr><tr><td>&quot;ZZ000000000000&quot;</td><td>20191031</td><td>1572480000</td><td>&quot;S13019&quot;</td><td>112</td><td>1</td><td>&quot;P080102015&quot;</td><td>1</td><td>30</td></tr><tr><td>&quot;CS025415000050&quot;</td><td>20191008</td><td>1570492800</td><td>&quot;S14025&quot;</td><td>1182</td><td>2</td><td>&quot;P080801009&quot;</td><td>1</td><td>258</td></tr></tbody></table></div>"
      ],
      "text/plain": [
       "shape: (5, 9)\n",
       "┌────────────────┬───────────┬─────────────┬──────────┬───┬────────────────┬────────────┬──────────┬────────┐\n",
       "│ customer_id    ┆ sales_ymd ┆ sales_epoch ┆ store_cd ┆ … ┆ receipt_sub_no ┆ product_cd ┆ quantity ┆ amount │\n",
       "│ ---            ┆ ---       ┆ ---         ┆ ---      ┆   ┆ ---            ┆ ---        ┆ ---      ┆ ---    │\n",
       "│ str            ┆ i64       ┆ i64         ┆ str      ┆   ┆ i64            ┆ str        ┆ i64      ┆ i64    │\n",
       "╞════════════════╪═══════════╪═════════════╪══════════╪═══╪════════════════╪════════════╪══════════╪════════╡\n",
       "│ CS006214000001 ┆ 20190908  ┆ 1567900800  ┆ S14006   ┆ … ┆ 1              ┆ P071302010 ┆ 1        ┆ 770    │\n",
       "│ CS008415000097 ┆ 20190417  ┆ 1555459200  ┆ S13008   ┆ … ┆ 1              ┆ P090405001 ┆ 1        ┆ 200    │\n",
       "│ CS028414000014 ┆ 20191023  ┆ 1571788800  ┆ S14028   ┆ … ┆ 2              ┆ P070301019 ┆ 1        ┆ 225    │\n",
       "│ ZZ000000000000 ┆ 20191031  ┆ 1572480000  ┆ S13019   ┆ … ┆ 1              ┆ P080102015 ┆ 1        ┆ 30     │\n",
       "│ CS025415000050 ┆ 20191008  ┆ 1570492800  ┆ S14025   ┆ … ┆ 2              ┆ P080801009 ┆ 1        ┆ 258    │\n",
       "└────────────────┴───────────┴─────────────┴──────────┴───┴────────────────┴────────────┴──────────┴────────┘"
      ]
     },
     "execution_count": 102,
     "metadata": {},
     "output_type": "execute_result"
    }
   ],
   "source": [
    "df_receipt.group_by(\n",
    "    pl.col.customer_id, maintain_order=True\n",
    ").agg(\n",
    "    pl.all().sort_by('sales_ymd', descending=True).first()\n",
    ").head()"
   ]
  },
  {
   "cell_type": "code",
   "execution_count": 105,
   "metadata": {},
   "outputs": [
    {
     "data": {
      "text/html": [
       "<div><style>\n",
       ".dataframe > thead > tr,\n",
       ".dataframe > tbody > tr {\n",
       "  text-align: right;\n",
       "  white-space: pre-wrap;\n",
       "}\n",
       "</style>\n",
       "<small>shape: (5, 9)</small><table border=\"1\" class=\"dataframe\"><thead><tr><th>customer_id</th><th>sales_ymd</th><th>sales_epoch</th><th>store_cd</th><th>receipt_no</th><th>receipt_sub_no</th><th>product_cd</th><th>quantity</th><th>amount</th></tr><tr><td>str</td><td>i64</td><td>i64</td><td>str</td><td>i64</td><td>i64</td><td>str</td><td>i64</td><td>i64</td></tr></thead><tbody><tr><td>&quot;CS006214000001&quot;</td><td>20190908</td><td>1567900800</td><td>&quot;S14006&quot;</td><td>112</td><td>1</td><td>&quot;P071302010&quot;</td><td>1</td><td>770</td></tr><tr><td>&quot;CS008415000097&quot;</td><td>20190417</td><td>1555459200</td><td>&quot;S13008&quot;</td><td>1192</td><td>1</td><td>&quot;P090405001&quot;</td><td>1</td><td>200</td></tr><tr><td>&quot;CS028414000014&quot;</td><td>20191023</td><td>1571788800</td><td>&quot;S14028&quot;</td><td>1122</td><td>2</td><td>&quot;P070301019&quot;</td><td>1</td><td>225</td></tr><tr><td>&quot;ZZ000000000000&quot;</td><td>20191031</td><td>1572480000</td><td>&quot;S13019&quot;</td><td>112</td><td>1</td><td>&quot;P080102015&quot;</td><td>1</td><td>30</td></tr><tr><td>&quot;CS025415000050&quot;</td><td>20191008</td><td>1570492800</td><td>&quot;S14025&quot;</td><td>1182</td><td>2</td><td>&quot;P080801009&quot;</td><td>1</td><td>258</td></tr></tbody></table></div>"
      ],
      "text/plain": [
       "shape: (5, 9)\n",
       "┌────────────────┬───────────┬─────────────┬──────────┬───┬────────────────┬────────────┬──────────┬────────┐\n",
       "│ customer_id    ┆ sales_ymd ┆ sales_epoch ┆ store_cd ┆ … ┆ receipt_sub_no ┆ product_cd ┆ quantity ┆ amount │\n",
       "│ ---            ┆ ---       ┆ ---         ┆ ---      ┆   ┆ ---            ┆ ---        ┆ ---      ┆ ---    │\n",
       "│ str            ┆ i64       ┆ i64         ┆ str      ┆   ┆ i64            ┆ str        ┆ i64      ┆ i64    │\n",
       "╞════════════════╪═══════════╪═════════════╪══════════╪═══╪════════════════╪════════════╪══════════╪════════╡\n",
       "│ CS006214000001 ┆ 20190908  ┆ 1567900800  ┆ S14006   ┆ … ┆ 1              ┆ P071302010 ┆ 1        ┆ 770    │\n",
       "│ CS008415000097 ┆ 20190417  ┆ 1555459200  ┆ S13008   ┆ … ┆ 1              ┆ P090405001 ┆ 1        ┆ 200    │\n",
       "│ CS028414000014 ┆ 20191023  ┆ 1571788800  ┆ S14028   ┆ … ┆ 2              ┆ P070301019 ┆ 1        ┆ 225    │\n",
       "│ ZZ000000000000 ┆ 20191031  ┆ 1572480000  ┆ S13019   ┆ … ┆ 1              ┆ P080102015 ┆ 1        ┆ 30     │\n",
       "│ CS025415000050 ┆ 20191008  ┆ 1570492800  ┆ S14025   ┆ … ┆ 2              ┆ P080801009 ┆ 1        ┆ 258    │\n",
       "└────────────────┴───────────┴─────────────┴──────────┴───┴────────────────┴────────────┴──────────┴────────┘"
      ]
     },
     "execution_count": 105,
     "metadata": {},
     "output_type": "execute_result"
    }
   ],
   "source": [
    "df_receipt.group_by(\n",
    "    pl.col.customer_id, maintain_order=True\n",
    ").agg(\n",
    "    pl.all().get(pl.col.sales_ymd.arg_max())\n",
    ").head()"
   ]
  },
  {
   "cell_type": "markdown",
   "metadata": {},
   "source": [
    "### P-025\n",
    "\n",
    "レシート明細データ（df_receipt）に対し、顧客ID（customer_id）ごとに最も古い売上年月日（sales_ymd）を求め、10件表示せよ。"
   ]
  },
  {
   "cell_type": "code",
   "execution_count": 3,
   "metadata": {},
   "outputs": [
    {
     "data": {
      "text/html": [
       "<div><style>\n",
       ".dataframe > thead > tr,\n",
       ".dataframe > tbody > tr {\n",
       "  text-align: right;\n",
       "  white-space: pre-wrap;\n",
       "}\n",
       "</style>\n",
       "<small>shape: (5, 2)</small><table border=\"1\" class=\"dataframe\"><thead><tr><th>customer_id</th><th>sales_ymd</th></tr><tr><td>str</td><td>i64</td></tr></thead><tbody><tr><td>&quot;CS006214000001&quot;</td><td>20170509</td></tr><tr><td>&quot;CS008415000097&quot;</td><td>20170328</td></tr><tr><td>&quot;CS028414000014&quot;</td><td>20170403</td></tr><tr><td>&quot;ZZ000000000000&quot;</td><td>20170101</td></tr><tr><td>&quot;CS025415000050&quot;</td><td>20170619</td></tr></tbody></table></div>"
      ],
      "text/plain": [
       "shape: (5, 2)\n",
       "┌────────────────┬───────────┐\n",
       "│ customer_id    ┆ sales_ymd │\n",
       "│ ---            ┆ ---       │\n",
       "│ str            ┆ i64       │\n",
       "╞════════════════╪═══════════╡\n",
       "│ CS006214000001 ┆ 20170509  │\n",
       "│ CS008415000097 ┆ 20170328  │\n",
       "│ CS028414000014 ┆ 20170403  │\n",
       "│ ZZ000000000000 ┆ 20170101  │\n",
       "│ CS025415000050 ┆ 20170619  │\n",
       "└────────────────┴───────────┘"
      ]
     },
     "execution_count": 3,
     "metadata": {},
     "output_type": "execute_result"
    }
   ],
   "source": [
    "df_receipt.group_by(\n",
    "    pl.col.customer_id, maintain_order=True\n",
    ").agg(\n",
    "    pl.col('sales_ymd').min()\n",
    ").head()"
   ]
  },
  {
   "cell_type": "markdown",
   "metadata": {},
   "source": [
    "### P-026\n",
    "\n",
    "レシート明細データ（df_receipt）に対し、顧客ID（customer_id）ごとに最も新しい売上年月日（sales_ymd）と古い売上年月日を求め、両者が異なるデータを10件表示せよ。"
   ]
  },
  {
   "cell_type": "code",
   "execution_count": 5,
   "metadata": {},
   "outputs": [
    {
     "data": {
      "text/html": [
       "<div><style>\n",
       ".dataframe > thead > tr,\n",
       ".dataframe > tbody > tr {\n",
       "  text-align: right;\n",
       "  white-space: pre-wrap;\n",
       "}\n",
       "</style>\n",
       "<small>shape: (5, 3)</small><table border=\"1\" class=\"dataframe\"><thead><tr><th>customer_id</th><th>sales_ymd_min</th><th>sales_ymd_max</th></tr><tr><td>str</td><td>i64</td><td>i64</td></tr></thead><tbody><tr><td>&quot;CS006214000001&quot;</td><td>20170509</td><td>20190908</td></tr><tr><td>&quot;CS008415000097&quot;</td><td>20170328</td><td>20190417</td></tr><tr><td>&quot;CS028414000014&quot;</td><td>20170403</td><td>20191023</td></tr><tr><td>&quot;ZZ000000000000&quot;</td><td>20170101</td><td>20191031</td></tr><tr><td>&quot;CS025415000050&quot;</td><td>20170619</td><td>20191008</td></tr></tbody></table></div>"
      ],
      "text/plain": [
       "shape: (5, 3)\n",
       "┌────────────────┬───────────────┬───────────────┐\n",
       "│ customer_id    ┆ sales_ymd_min ┆ sales_ymd_max │\n",
       "│ ---            ┆ ---           ┆ ---           │\n",
       "│ str            ┆ i64           ┆ i64           │\n",
       "╞════════════════╪═══════════════╪═══════════════╡\n",
       "│ CS006214000001 ┆ 20170509      ┆ 20190908      │\n",
       "│ CS008415000097 ┆ 20170328      ┆ 20190417      │\n",
       "│ CS028414000014 ┆ 20170403      ┆ 20191023      │\n",
       "│ ZZ000000000000 ┆ 20170101      ┆ 20191031      │\n",
       "│ CS025415000050 ┆ 20170619      ┆ 20191008      │\n",
       "└────────────────┴───────────────┴───────────────┘"
      ]
     },
     "execution_count": 5,
     "metadata": {},
     "output_type": "execute_result"
    }
   ],
   "source": [
    "df_receipt.lazy().group_by(\n",
    "    'customer_id', maintain_order=True\n",
    ").agg(\n",
    "    pl.col.sales_ymd.min().alias('sales_ymd_min'),\n",
    "    pl.col.sales_ymd.max().alias('sales_ymd_max'),    \n",
    ").filter(\n",
    "    pl.col.sales_ymd_min != pl.col.sales_ymd_max\n",
    ").head(5).collect()"
   ]
  },
  {
   "cell_type": "markdown",
   "metadata": {},
   "source": [
    "### P-027\n",
    "\n",
    "レシート明細データ（df_receipt）に対し、店舗コード（store_cd）ごとに売上金額（amount）の平均を計算し、降順でTOP5を表示せよ。"
   ]
  },
  {
   "cell_type": "code",
   "execution_count": 6,
   "metadata": {},
   "outputs": [
    {
     "data": {
      "text/html": [
       "<div><style>\n",
       ".dataframe > thead > tr,\n",
       ".dataframe > tbody > tr {\n",
       "  text-align: right;\n",
       "  white-space: pre-wrap;\n",
       "}\n",
       "</style>\n",
       "<small>shape: (5, 2)</small><table border=\"1\" class=\"dataframe\"><thead><tr><th>store_cd</th><th>amount</th></tr><tr><td>str</td><td>f64</td></tr></thead><tbody><tr><td>&quot;S13052&quot;</td><td>402.86747</td></tr><tr><td>&quot;S13015&quot;</td><td>351.11196</td></tr><tr><td>&quot;S13003&quot;</td><td>350.915519</td></tr><tr><td>&quot;S14010&quot;</td><td>348.791262</td></tr><tr><td>&quot;S13001&quot;</td><td>348.470386</td></tr></tbody></table></div>"
      ],
      "text/plain": [
       "shape: (5, 2)\n",
       "┌──────────┬────────────┐\n",
       "│ store_cd ┆ amount     │\n",
       "│ ---      ┆ ---        │\n",
       "│ str      ┆ f64        │\n",
       "╞══════════╪════════════╡\n",
       "│ S13052   ┆ 402.86747  │\n",
       "│ S13015   ┆ 351.11196  │\n",
       "│ S13003   ┆ 350.915519 │\n",
       "│ S14010   ┆ 348.791262 │\n",
       "│ S13001   ┆ 348.470386 │\n",
       "└──────────┴────────────┘"
      ]
     },
     "execution_count": 6,
     "metadata": {},
     "output_type": "execute_result"
    }
   ],
   "source": [
    "df_receipt.group_by('store_cd').agg(\n",
    "    pl.col.amount.mean()\n",
    ").sort(by='amount', descending=True).head(5)"
   ]
  },
  {
   "cell_type": "markdown",
   "metadata": {},
   "source": [
    "### P-028\n",
    "\n",
    "レシート明細データ（df_receipt）に対し、店舗コード（store_cd）ごとに売上金額（amount）の中央値を計算し、降順でTOP5を表示せよ。"
   ]
  },
  {
   "cell_type": "code",
   "execution_count": 7,
   "metadata": {},
   "outputs": [
    {
     "data": {
      "text/html": [
       "<div><style>\n",
       ".dataframe > thead > tr,\n",
       ".dataframe > tbody > tr {\n",
       "  text-align: right;\n",
       "  white-space: pre-wrap;\n",
       "}\n",
       "</style>\n",
       "<small>shape: (5, 2)</small><table border=\"1\" class=\"dataframe\"><thead><tr><th>store_cd</th><th>amount</th></tr><tr><td>str</td><td>f64</td></tr></thead><tbody><tr><td>&quot;S13052&quot;</td><td>190.0</td></tr><tr><td>&quot;S14010&quot;</td><td>188.0</td></tr><tr><td>&quot;S14050&quot;</td><td>185.0</td></tr><tr><td>&quot;S13003&quot;</td><td>180.0</td></tr><tr><td>&quot;S13018&quot;</td><td>180.0</td></tr></tbody></table></div>"
      ],
      "text/plain": [
       "shape: (5, 2)\n",
       "┌──────────┬────────┐\n",
       "│ store_cd ┆ amount │\n",
       "│ ---      ┆ ---    │\n",
       "│ str      ┆ f64    │\n",
       "╞══════════╪════════╡\n",
       "│ S13052   ┆ 190.0  │\n",
       "│ S14010   ┆ 188.0  │\n",
       "│ S14050   ┆ 185.0  │\n",
       "│ S13003   ┆ 180.0  │\n",
       "│ S13018   ┆ 180.0  │\n",
       "└──────────┴────────┘"
      ]
     },
     "execution_count": 7,
     "metadata": {},
     "output_type": "execute_result"
    }
   ],
   "source": [
    "df_receipt.group_by('store_cd').agg(\n",
    "    pl.col.amount.median()\n",
    ").sort(by='amount', descending=True).head(5)"
   ]
  },
  {
   "cell_type": "markdown",
   "metadata": {},
   "source": [
    "### P-029\n",
    "\n",
    "レシート明細データ（df_receipt）に対し、店舗コード（store_cd）ごとに商品コード（product_cd）の最頻値を求め、10件表示させよ。"
   ]
  },
  {
   "cell_type": "code",
   "execution_count": 34,
   "metadata": {},
   "outputs": [
    {
     "data": {
      "text/html": [
       "<div><style>\n",
       ".dataframe > thead > tr,\n",
       ".dataframe > tbody > tr {\n",
       "  text-align: right;\n",
       "  white-space: pre-wrap;\n",
       "}\n",
       "</style>\n",
       "<small>shape: (10, 3)</small><table border=\"1\" class=\"dataframe\"><thead><tr><th>store_cd</th><th>product_cd</th><th>count</th></tr><tr><td>str</td><td>list[str]</td><td>u32</td></tr></thead><tbody><tr><td>&quot;S12007&quot;</td><td>[&quot;P060303001&quot;]</td><td>72</td></tr><tr><td>&quot;S12013&quot;</td><td>[&quot;P060303001&quot;]</td><td>107</td></tr><tr><td>&quot;S12014&quot;</td><td>[&quot;P060303001&quot;]</td><td>65</td></tr><tr><td>&quot;S12029&quot;</td><td>[&quot;P060303001&quot;]</td><td>92</td></tr><tr><td>&quot;S12030&quot;</td><td>[&quot;P060303001&quot;]</td><td>115</td></tr><tr><td>&quot;S13001&quot;</td><td>[&quot;P060303001&quot;]</td><td>67</td></tr><tr><td>&quot;S13002&quot;</td><td>[&quot;P060303001&quot;]</td><td>78</td></tr><tr><td>&quot;S13003&quot;</td><td>[&quot;P071401001&quot;]</td><td>65</td></tr><tr><td>&quot;S13004&quot;</td><td>[&quot;P060303001&quot;]</td><td>88</td></tr><tr><td>&quot;S13005&quot;</td><td>[&quot;P040503001&quot;]</td><td>36</td></tr></tbody></table></div>"
      ],
      "text/plain": [
       "shape: (10, 3)\n",
       "┌──────────┬────────────────┬───────┐\n",
       "│ store_cd ┆ product_cd     ┆ count │\n",
       "│ ---      ┆ ---            ┆ ---   │\n",
       "│ str      ┆ list[str]      ┆ u32   │\n",
       "╞══════════╪════════════════╪═══════╡\n",
       "│ S12007   ┆ [\"P060303001\"] ┆ 72    │\n",
       "│ S12013   ┆ [\"P060303001\"] ┆ 107   │\n",
       "│ S12014   ┆ [\"P060303001\"] ┆ 65    │\n",
       "│ S12029   ┆ [\"P060303001\"] ┆ 92    │\n",
       "│ …        ┆ …              ┆ …     │\n",
       "│ S13002   ┆ [\"P060303001\"] ┆ 78    │\n",
       "│ S13003   ┆ [\"P071401001\"] ┆ 65    │\n",
       "│ S13004   ┆ [\"P060303001\"] ┆ 88    │\n",
       "│ S13005   ┆ [\"P040503001\"] ┆ 36    │\n",
       "└──────────┴────────────────┴───────┘"
      ]
     },
     "execution_count": 34,
     "metadata": {},
     "output_type": "execute_result"
    }
   ],
   "source": [
    "mode = pl.col.product_cd.mode()\n",
    "df_receipt.group_by('store_cd').agg(\n",
    "    mode,\n",
    "    (pl.col.product_cd == mode.first()).sum().alias('count')\n",
    ").sort(by='store_cd').head(10)"
   ]
  },
  {
   "cell_type": "code",
   "execution_count": 21,
   "metadata": {},
   "outputs": [
    {
     "data": {
      "text/html": [
       "<div><style>\n",
       ".dataframe > thead > tr,\n",
       ".dataframe > tbody > tr {\n",
       "  text-align: right;\n",
       "  white-space: pre-wrap;\n",
       "}\n",
       "</style>\n",
       "<small>shape: (10, 3)</small><table border=\"1\" class=\"dataframe\"><thead><tr><th>store_cd</th><th>product_cd</th><th>count</th></tr><tr><td>str</td><td>str</td><td>u32</td></tr></thead><tbody><tr><td>&quot;S12007&quot;</td><td>&quot;P060303001&quot;</td><td>72</td></tr><tr><td>&quot;S12013&quot;</td><td>&quot;P060303001&quot;</td><td>107</td></tr><tr><td>&quot;S12014&quot;</td><td>&quot;P060303001&quot;</td><td>65</td></tr><tr><td>&quot;S12029&quot;</td><td>&quot;P060303001&quot;</td><td>92</td></tr><tr><td>&quot;S12030&quot;</td><td>&quot;P060303001&quot;</td><td>115</td></tr><tr><td>&quot;S13001&quot;</td><td>&quot;P060303001&quot;</td><td>67</td></tr><tr><td>&quot;S13002&quot;</td><td>&quot;P060303001&quot;</td><td>78</td></tr><tr><td>&quot;S13003&quot;</td><td>&quot;P071401001&quot;</td><td>65</td></tr><tr><td>&quot;S13004&quot;</td><td>&quot;P060303001&quot;</td><td>88</td></tr><tr><td>&quot;S13005&quot;</td><td>&quot;P040503001&quot;</td><td>36</td></tr></tbody></table></div>"
      ],
      "text/plain": [
       "shape: (10, 3)\n",
       "┌──────────┬────────────┬───────┐\n",
       "│ store_cd ┆ product_cd ┆ count │\n",
       "│ ---      ┆ ---        ┆ ---   │\n",
       "│ str      ┆ str        ┆ u32   │\n",
       "╞══════════╪════════════╪═══════╡\n",
       "│ S12007   ┆ P060303001 ┆ 72    │\n",
       "│ S12013   ┆ P060303001 ┆ 107   │\n",
       "│ S12014   ┆ P060303001 ┆ 65    │\n",
       "│ S12029   ┆ P060303001 ┆ 92    │\n",
       "│ …        ┆ …          ┆ …     │\n",
       "│ S13002   ┆ P060303001 ┆ 78    │\n",
       "│ S13003   ┆ P071401001 ┆ 65    │\n",
       "│ S13004   ┆ P060303001 ┆ 88    │\n",
       "│ S13005   ┆ P040503001 ┆ 36    │\n",
       "└──────────┴────────────┴───────┘"
      ]
     },
     "execution_count": 21,
     "metadata": {},
     "output_type": "execute_result"
    }
   ],
   "source": [
    "df_receipt.group_by('store_cd', 'product_cd').agg(\n",
    "    pl.count()\n",
    ").filter(\n",
    "    (pl.col.count == pl.col.count.max()).over('store_cd')\n",
    ").sort(by='store_cd').head(10)"
   ]
  },
  {
   "cell_type": "markdown",
   "metadata": {},
   "source": [
    "### P-030\n",
    "\n",
    "レシート明細データ（df_receipt）に対し、店舗コード（store_cd）ごとに売上金額（amount）の分散を計算し、降順で5件表示せよ。"
   ]
  },
  {
   "cell_type": "code",
   "execution_count": 36,
   "metadata": {},
   "outputs": [
    {
     "data": {
      "text/html": [
       "<div><style>\n",
       ".dataframe > thead > tr,\n",
       ".dataframe > tbody > tr {\n",
       "  text-align: right;\n",
       "  white-space: pre-wrap;\n",
       "}\n",
       "</style>\n",
       "<small>shape: (5, 2)</small><table border=\"1\" class=\"dataframe\"><thead><tr><th>store_cd</th><th>vars_amount</th></tr><tr><td>str</td><td>f64</td></tr></thead><tbody><tr><td>&quot;S13052&quot;</td><td>440088.701311</td></tr><tr><td>&quot;S14011&quot;</td><td>306314.558164</td></tr><tr><td>&quot;S14034&quot;</td><td>296920.081011</td></tr><tr><td>&quot;S13001&quot;</td><td>295431.993329</td></tr><tr><td>&quot;S13015&quot;</td><td>295294.361116</td></tr></tbody></table></div>"
      ],
      "text/plain": [
       "shape: (5, 2)\n",
       "┌──────────┬───────────────┐\n",
       "│ store_cd ┆ vars_amount   │\n",
       "│ ---      ┆ ---           │\n",
       "│ str      ┆ f64           │\n",
       "╞══════════╪═══════════════╡\n",
       "│ S13052   ┆ 440088.701311 │\n",
       "│ S14011   ┆ 306314.558164 │\n",
       "│ S14034   ┆ 296920.081011 │\n",
       "│ S13001   ┆ 295431.993329 │\n",
       "│ S13015   ┆ 295294.361116 │\n",
       "└──────────┴───────────────┘"
      ]
     },
     "execution_count": 36,
     "metadata": {},
     "output_type": "execute_result"
    }
   ],
   "source": [
    "df_receipt.group_by('store_cd').agg(\n",
    "    vars_amount = pl.col.amount.var(ddof=0)\n",
    ").sort(by='vars_amount', descending=True).head()"
   ]
  },
  {
   "cell_type": "markdown",
   "metadata": {},
   "source": [
    "## 演習問題 031 ~ 040"
   ]
  },
  {
   "cell_type": "markdown",
   "metadata": {},
   "source": [
    "### P-031\n",
    "\n",
    "レシート明細データ（df_receipt）に対し、店舗コード（store_cd）ごとに売上金額（amount）の標準偏差を計算し、降順で5件表示せよ。"
   ]
  },
  {
   "cell_type": "code",
   "execution_count": 38,
   "metadata": {},
   "outputs": [
    {
     "data": {
      "text/html": [
       "<div><style>\n",
       ".dataframe > thead > tr,\n",
       ".dataframe > tbody > tr {\n",
       "  text-align: right;\n",
       "  white-space: pre-wrap;\n",
       "}\n",
       "</style>\n",
       "<small>shape: (5, 2)</small><table border=\"1\" class=\"dataframe\"><thead><tr><th>store_cd</th><th>std_amount</th></tr><tr><td>str</td><td>f64</td></tr></thead><tbody><tr><td>&quot;S13052&quot;</td><td>663.391816</td></tr><tr><td>&quot;S14011&quot;</td><td>553.456916</td></tr><tr><td>&quot;S14034&quot;</td><td>544.903736</td></tr><tr><td>&quot;S13001&quot;</td><td>543.536561</td></tr><tr><td>&quot;S13015&quot;</td><td>543.409938</td></tr></tbody></table></div>"
      ],
      "text/plain": [
       "shape: (5, 2)\n",
       "┌──────────┬────────────┐\n",
       "│ store_cd ┆ std_amount │\n",
       "│ ---      ┆ ---        │\n",
       "│ str      ┆ f64        │\n",
       "╞══════════╪════════════╡\n",
       "│ S13052   ┆ 663.391816 │\n",
       "│ S14011   ┆ 553.456916 │\n",
       "│ S14034   ┆ 544.903736 │\n",
       "│ S13001   ┆ 543.536561 │\n",
       "│ S13015   ┆ 543.409938 │\n",
       "└──────────┴────────────┘"
      ]
     },
     "execution_count": 38,
     "metadata": {},
     "output_type": "execute_result"
    }
   ],
   "source": [
    "df_receipt.group_by('store_cd').agg(\n",
    "    std_amount = pl.col.amount.std(ddof=0)\n",
    ").sort(by='std_amount', descending=True).head()"
   ]
  },
  {
   "cell_type": "markdown",
   "metadata": {},
   "source": [
    "### P-032\n",
    "\n",
    "レシート明細データ（df_receipt）の売上金額（amount）について、25％刻みでパーセンタイル値を求めよ。"
   ]
  },
  {
   "cell_type": "code",
   "execution_count": 41,
   "metadata": {},
   "outputs": [
    {
     "data": {
      "text/html": [
       "<div><style>\n",
       ".dataframe > thead > tr,\n",
       ".dataframe > tbody > tr {\n",
       "  text-align: right;\n",
       "  white-space: pre-wrap;\n",
       "}\n",
       "</style>\n",
       "<small>shape: (1, 4)</small><table border=\"1\" class=\"dataframe\"><thead><tr><th>amount_25per</th><th>amount_50per</th><th>amount_75per</th><th>amount_100per</th></tr><tr><td>f64</td><td>f64</td><td>f64</td><td>f64</td></tr></thead><tbody><tr><td>102.0</td><td>170.0</td><td>288.0</td><td>10925.0</td></tr></tbody></table></div>"
      ],
      "text/plain": [
       "shape: (1, 4)\n",
       "┌──────────────┬──────────────┬──────────────┬───────────────┐\n",
       "│ amount_25per ┆ amount_50per ┆ amount_75per ┆ amount_100per │\n",
       "│ ---          ┆ ---          ┆ ---          ┆ ---           │\n",
       "│ f64          ┆ f64          ┆ f64          ┆ f64           │\n",
       "╞══════════════╪══════════════╪══════════════╪═══════════════╡\n",
       "│ 102.0        ┆ 170.0        ┆ 288.0        ┆ 10925.0       │\n",
       "└──────────────┴──────────────┴──────────────┴───────────────┘"
      ]
     },
     "execution_count": 41,
     "metadata": {},
     "output_type": "execute_result"
    }
   ],
   "source": [
    "df_receipt.select(\n",
    "    **{f'amount_{per}per': pl.col.amount.quantile(per / 100) for per in [25, 50, 75, 100]}\n",
    ")"
   ]
  },
  {
   "cell_type": "markdown",
   "metadata": {},
   "source": [
    "### P-033\n",
    "\n",
    "レシート明細データ（df_receipt）に対し、店舗コード（store_cd）ごとに売上金額（amount）の平均を計算し、330以上のものを抽出せよ。"
   ]
  },
  {
   "cell_type": "code",
   "execution_count": 44,
   "metadata": {},
   "outputs": [
    {
     "data": {
      "text/html": [
       "<div><style>\n",
       ".dataframe > thead > tr,\n",
       ".dataframe > tbody > tr {\n",
       "  text-align: right;\n",
       "  white-space: pre-wrap;\n",
       "}\n",
       "</style>\n",
       "<small>shape: (13, 2)</small><table border=\"1\" class=\"dataframe\"><thead><tr><th>store_cd</th><th>avg_amount</th></tr><tr><td>str</td><td>f64</td></tr></thead><tbody><tr><td>&quot;S13003&quot;</td><td>350.915519</td></tr><tr><td>&quot;S13020&quot;</td><td>337.879932</td></tr><tr><td>&quot;S14026&quot;</td><td>332.340588</td></tr><tr><td>&quot;S13015&quot;</td><td>351.11196</td></tr><tr><td>&quot;S14045&quot;</td><td>330.082073</td></tr><tr><td>&quot;S13019&quot;</td><td>330.208616</td></tr><tr><td>&quot;S14011&quot;</td><td>335.718333</td></tr><tr><td>&quot;S13004&quot;</td><td>330.943949</td></tr><tr><td>&quot;S14010&quot;</td><td>348.791262</td></tr><tr><td>&quot;S12013&quot;</td><td>330.19413</td></tr><tr><td>&quot;S13001&quot;</td><td>348.470386</td></tr><tr><td>&quot;S14047&quot;</td><td>330.077073</td></tr><tr><td>&quot;S13052&quot;</td><td>402.86747</td></tr></tbody></table></div>"
      ],
      "text/plain": [
       "shape: (13, 2)\n",
       "┌──────────┬────────────┐\n",
       "│ store_cd ┆ avg_amount │\n",
       "│ ---      ┆ ---        │\n",
       "│ str      ┆ f64        │\n",
       "╞══════════╪════════════╡\n",
       "│ S13003   ┆ 350.915519 │\n",
       "│ S13020   ┆ 337.879932 │\n",
       "│ S14026   ┆ 332.340588 │\n",
       "│ S13015   ┆ 351.11196  │\n",
       "│ …        ┆ …          │\n",
       "│ S12013   ┆ 330.19413  │\n",
       "│ S13001   ┆ 348.470386 │\n",
       "│ S14047   ┆ 330.077073 │\n",
       "│ S13052   ┆ 402.86747  │\n",
       "└──────────┴────────────┘"
      ]
     },
     "execution_count": 44,
     "metadata": {},
     "output_type": "execute_result"
    }
   ],
   "source": [
    "df_receipt.group_by('store_cd', maintain_order=True).agg(\n",
    "    avg_amount = pl.col.amount.mean()\n",
    ").filter(pl.col.avg_amount >= 330)"
   ]
  },
  {
   "cell_type": "markdown",
   "metadata": {},
   "source": [
    "### P-034\n",
    "\n",
    "レシート明細データ（df_receipt）に対し、顧客ID（customer_id）ごとに売上金額（amount）を合計して全顧客の平均を求めよ。ただし、顧客IDが\"Z\"から始まるものは非会員を表すため、除外して計算すること。"
   ]
  },
  {
   "cell_type": "code",
   "execution_count": 48,
   "metadata": {},
   "outputs": [
    {
     "data": {
      "text/plain": [
       "2547.742234529256"
      ]
     },
     "execution_count": 48,
     "metadata": {},
     "output_type": "execute_result"
    }
   ],
   "source": [
    "df_receipt.filter(\n",
    "    pl.col.customer_id.str.starts_with('Z').not_()\n",
    ").group_by('customer_id').agg(\n",
    "    pl.col.amount.sum()\n",
    ").select(pl.col.amount.mean()).item()"
   ]
  },
  {
   "cell_type": "markdown",
   "metadata": {},
   "source": [
    "### P-035\n",
    "\n",
    "レシート明細データ（df_receipt）に対し、顧客ID（customer_id）ごとに売上金額（amount）を合計して全顧客の平均を求め、平均以上に買い物をしている顧客を抽出し、10件表示せよ。ただし、顧客IDが\"Z\"から始まるものは非会員を表すため、除外して計算すること。"
   ]
  },
  {
   "cell_type": "code",
   "execution_count": 54,
   "metadata": {},
   "outputs": [
    {
     "data": {
      "text/html": [
       "<div><style>\n",
       ".dataframe > thead > tr,\n",
       ".dataframe > tbody > tr {\n",
       "  text-align: right;\n",
       "  white-space: pre-wrap;\n",
       "}\n",
       "</style>\n",
       "<small>shape: (10, 2)</small><table border=\"1\" class=\"dataframe\"><thead><tr><th>customer_id</th><th>sum_amount</th></tr><tr><td>str</td><td>i64</td></tr></thead><tbody><tr><td>&quot;CS030214000025&quot;</td><td>3333</td></tr><tr><td>&quot;CS008515000084&quot;</td><td>8064</td></tr><tr><td>&quot;CS020113000002&quot;</td><td>5775</td></tr><tr><td>&quot;CS020415000197&quot;</td><td>8426</td></tr><tr><td>&quot;CS035415000205&quot;</td><td>7630</td></tr><tr><td>&quot;CS020514000069&quot;</td><td>2654</td></tr><tr><td>&quot;CS001605000009&quot;</td><td>18925</td></tr><tr><td>&quot;CS011115000004&quot;</td><td>3351</td></tr><tr><td>&quot;CS018414000116&quot;</td><td>4837</td></tr><tr><td>&quot;CS002515000386&quot;</td><td>3452</td></tr></tbody></table></div>"
      ],
      "text/plain": [
       "shape: (10, 2)\n",
       "┌────────────────┬────────────┐\n",
       "│ customer_id    ┆ sum_amount │\n",
       "│ ---            ┆ ---        │\n",
       "│ str            ┆ i64        │\n",
       "╞════════════════╪════════════╡\n",
       "│ CS030214000025 ┆ 3333       │\n",
       "│ CS008515000084 ┆ 8064       │\n",
       "│ CS020113000002 ┆ 5775       │\n",
       "│ CS020415000197 ┆ 8426       │\n",
       "│ …              ┆ …          │\n",
       "│ CS001605000009 ┆ 18925      │\n",
       "│ CS011115000004 ┆ 3351       │\n",
       "│ CS018414000116 ┆ 4837       │\n",
       "│ CS002515000386 ┆ 3452       │\n",
       "└────────────────┴────────────┘"
      ]
     },
     "execution_count": 54,
     "metadata": {},
     "output_type": "execute_result"
    }
   ],
   "source": [
    "df_receipt.lazy().filter(\n",
    "    pl.col.customer_id.str.starts_with('Z').not_()\n",
    ").group_by('customer_id').agg(\n",
    "    sum_amount = pl.col.amount.sum()\n",
    ").filter(\n",
    "    pl.col.sum_amount >= pl.col.sum_amount.mean()\n",
    ").collect().head(10)"
   ]
  },
  {
   "cell_type": "markdown",
   "metadata": {},
   "source": [
    "### P-036\n",
    "\n",
    "レシート明細データ（df_receipt）と店舗データ（df_store）を内部結合し、レシート明細データの全項目と店舗データの店舗名（store_name）を10件表示せよ。"
   ]
  },
  {
   "cell_type": "code",
   "execution_count": 55,
   "metadata": {},
   "outputs": [
    {
     "data": {
      "text/html": [
       "<div><style>\n",
       ".dataframe > thead > tr,\n",
       ".dataframe > tbody > tr {\n",
       "  text-align: right;\n",
       "  white-space: pre-wrap;\n",
       "}\n",
       "</style>\n",
       "<small>shape: (10, 10)</small><table border=\"1\" class=\"dataframe\"><thead><tr><th>sales_ymd</th><th>sales_epoch</th><th>store_cd</th><th>receipt_no</th><th>receipt_sub_no</th><th>customer_id</th><th>product_cd</th><th>quantity</th><th>amount</th><th>store_name</th></tr><tr><td>i64</td><td>i64</td><td>str</td><td>i64</td><td>i64</td><td>str</td><td>str</td><td>i64</td><td>i64</td><td>str</td></tr></thead><tbody><tr><td>20181103</td><td>1541203200</td><td>&quot;S14006&quot;</td><td>112</td><td>1</td><td>&quot;CS006214000001&quot;</td><td>&quot;P070305012&quot;</td><td>1</td><td>158</td><td>&quot;葛が谷店&quot;</td></tr><tr><td>20181118</td><td>1542499200</td><td>&quot;S13008&quot;</td><td>1132</td><td>2</td><td>&quot;CS008415000097&quot;</td><td>&quot;P070701017&quot;</td><td>1</td><td>81</td><td>&quot;成城店&quot;</td></tr><tr><td>20170712</td><td>1499817600</td><td>&quot;S14028&quot;</td><td>1102</td><td>1</td><td>&quot;CS028414000014&quot;</td><td>&quot;P060101005&quot;</td><td>1</td><td>170</td><td>&quot;二ツ橋店&quot;</td></tr><tr><td>20190205</td><td>1549324800</td><td>&quot;S14042&quot;</td><td>1132</td><td>1</td><td>&quot;ZZ000000000000&quot;</td><td>&quot;P050301001&quot;</td><td>1</td><td>25</td><td>&quot;新山下店&quot;</td></tr><tr><td>20180821</td><td>1534809600</td><td>&quot;S14025&quot;</td><td>1102</td><td>2</td><td>&quot;CS025415000050&quot;</td><td>&quot;P060102007&quot;</td><td>1</td><td>90</td><td>&quot;大和店&quot;</td></tr><tr><td>20190605</td><td>1559692800</td><td>&quot;S13003&quot;</td><td>1112</td><td>1</td><td>&quot;CS003515000195&quot;</td><td>&quot;P050102002&quot;</td><td>1</td><td>138</td><td>&quot;狛江店&quot;</td></tr><tr><td>20181205</td><td>1543968000</td><td>&quot;S14024&quot;</td><td>1102</td><td>2</td><td>&quot;CS024514000042&quot;</td><td>&quot;P080101005&quot;</td><td>1</td><td>30</td><td>&quot;三田店&quot;</td></tr><tr><td>20190922</td><td>1569110400</td><td>&quot;S14040&quot;</td><td>1102</td><td>1</td><td>&quot;CS040415000178&quot;</td><td>&quot;P070501004&quot;</td><td>1</td><td>128</td><td>&quot;長津田店&quot;</td></tr><tr><td>20170504</td><td>1493856000</td><td>&quot;S13020&quot;</td><td>1112</td><td>2</td><td>&quot;ZZ000000000000&quot;</td><td>&quot;P071302010&quot;</td><td>1</td><td>770</td><td>&quot;十条仲原店&quot;</td></tr><tr><td>20191010</td><td>1570665600</td><td>&quot;S14027&quot;</td><td>1102</td><td>1</td><td>&quot;CS027514000015&quot;</td><td>&quot;P071101003&quot;</td><td>1</td><td>680</td><td>&quot;南藤沢店&quot;</td></tr></tbody></table></div>"
      ],
      "text/plain": [
       "shape: (10, 10)\n",
       "┌───────────┬─────────────┬──────────┬────────────┬───┬────────────┬──────────┬────────┬────────────┐\n",
       "│ sales_ymd ┆ sales_epoch ┆ store_cd ┆ receipt_no ┆ … ┆ product_cd ┆ quantity ┆ amount ┆ store_name │\n",
       "│ ---       ┆ ---         ┆ ---      ┆ ---        ┆   ┆ ---        ┆ ---      ┆ ---    ┆ ---        │\n",
       "│ i64       ┆ i64         ┆ str      ┆ i64        ┆   ┆ str        ┆ i64      ┆ i64    ┆ str        │\n",
       "╞═══════════╪═════════════╪══════════╪════════════╪═══╪════════════╪══════════╪════════╪════════════╡\n",
       "│ 20181103  ┆ 1541203200  ┆ S14006   ┆ 112        ┆ … ┆ P070305012 ┆ 1        ┆ 158    ┆ 葛が谷店   │\n",
       "│ 20181118  ┆ 1542499200  ┆ S13008   ┆ 1132       ┆ … ┆ P070701017 ┆ 1        ┆ 81     ┆ 成城店     │\n",
       "│ 20170712  ┆ 1499817600  ┆ S14028   ┆ 1102       ┆ … ┆ P060101005 ┆ 1        ┆ 170    ┆ 二ツ橋店   │\n",
       "│ 20190205  ┆ 1549324800  ┆ S14042   ┆ 1132       ┆ … ┆ P050301001 ┆ 1        ┆ 25     ┆ 新山下店   │\n",
       "│ …         ┆ …           ┆ …        ┆ …          ┆ … ┆ …          ┆ …        ┆ …      ┆ …          │\n",
       "│ 20181205  ┆ 1543968000  ┆ S14024   ┆ 1102       ┆ … ┆ P080101005 ┆ 1        ┆ 30     ┆ 三田店     │\n",
       "│ 20190922  ┆ 1569110400  ┆ S14040   ┆ 1102       ┆ … ┆ P070501004 ┆ 1        ┆ 128    ┆ 長津田店   │\n",
       "│ 20170504  ┆ 1493856000  ┆ S13020   ┆ 1112       ┆ … ┆ P071302010 ┆ 1        ┆ 770    ┆ 十条仲原店 │\n",
       "│ 20191010  ┆ 1570665600  ┆ S14027   ┆ 1102       ┆ … ┆ P071101003 ┆ 1        ┆ 680    ┆ 南藤沢店   │\n",
       "└───────────┴─────────────┴──────────┴────────────┴───┴────────────┴──────────┴────────┴────────────┘"
      ]
     },
     "execution_count": 55,
     "metadata": {},
     "output_type": "execute_result"
    }
   ],
   "source": [
    "df_receipt.join(df_store.select('store_cd', 'store_name'), on='store_cd').head(10)"
   ]
  },
  {
   "cell_type": "markdown",
   "metadata": {},
   "source": [
    "### P-037\n",
    "\n",
    "商品データ（df_product）とカテゴリデータ（df_category）を内部結合し、商品データの全項目とカテゴリデータのカテゴリ小区分名（category_small_name）を10件表示せよ。"
   ]
  },
  {
   "cell_type": "code",
   "execution_count": 56,
   "metadata": {},
   "outputs": [
    {
     "data": {
      "text/html": [
       "<div><style>\n",
       ".dataframe > thead > tr,\n",
       ".dataframe > tbody > tr {\n",
       "  text-align: right;\n",
       "  white-space: pre-wrap;\n",
       "}\n",
       "</style>\n",
       "<small>shape: (10, 7)</small><table border=\"1\" class=\"dataframe\"><thead><tr><th>product_cd</th><th>category_major_cd</th><th>category_medium_cd</th><th>category_small_cd</th><th>unit_price</th><th>unit_cost</th><th>category_small_name</th></tr><tr><td>str</td><td>str</td><td>str</td><td>str</td><td>i64</td><td>i64</td><td>str</td></tr></thead><tbody><tr><td>&quot;P040101001&quot;</td><td>&quot;04&quot;</td><td>&quot;0401&quot;</td><td>&quot;040101&quot;</td><td>198</td><td>149</td><td>&quot;弁当類&quot;</td></tr><tr><td>&quot;P040101002&quot;</td><td>&quot;04&quot;</td><td>&quot;0401&quot;</td><td>&quot;040101&quot;</td><td>218</td><td>164</td><td>&quot;弁当類&quot;</td></tr><tr><td>&quot;P040101003&quot;</td><td>&quot;04&quot;</td><td>&quot;0401&quot;</td><td>&quot;040101&quot;</td><td>230</td><td>173</td><td>&quot;弁当類&quot;</td></tr><tr><td>&quot;P040101004&quot;</td><td>&quot;04&quot;</td><td>&quot;0401&quot;</td><td>&quot;040101&quot;</td><td>248</td><td>186</td><td>&quot;弁当類&quot;</td></tr><tr><td>&quot;P040101005&quot;</td><td>&quot;04&quot;</td><td>&quot;0401&quot;</td><td>&quot;040101&quot;</td><td>268</td><td>201</td><td>&quot;弁当類&quot;</td></tr><tr><td>&quot;P040101006&quot;</td><td>&quot;04&quot;</td><td>&quot;0401&quot;</td><td>&quot;040101&quot;</td><td>298</td><td>224</td><td>&quot;弁当類&quot;</td></tr><tr><td>&quot;P040101007&quot;</td><td>&quot;04&quot;</td><td>&quot;0401&quot;</td><td>&quot;040101&quot;</td><td>338</td><td>254</td><td>&quot;弁当類&quot;</td></tr><tr><td>&quot;P040101008&quot;</td><td>&quot;04&quot;</td><td>&quot;0401&quot;</td><td>&quot;040101&quot;</td><td>420</td><td>315</td><td>&quot;弁当類&quot;</td></tr><tr><td>&quot;P040101009&quot;</td><td>&quot;04&quot;</td><td>&quot;0401&quot;</td><td>&quot;040101&quot;</td><td>498</td><td>374</td><td>&quot;弁当類&quot;</td></tr><tr><td>&quot;P040101010&quot;</td><td>&quot;04&quot;</td><td>&quot;0401&quot;</td><td>&quot;040101&quot;</td><td>580</td><td>435</td><td>&quot;弁当類&quot;</td></tr></tbody></table></div>"
      ],
      "text/plain": [
       "shape: (10, 7)\n",
       "┌────────────┬───────────────────┬────────────────────┬───────────────────┬────────────┬───────────┬───────────────────┐\n",
       "│ product_cd ┆ category_major_cd ┆ category_medium_cd ┆ category_small_cd ┆ unit_price ┆ unit_cost ┆ category_small_na │\n",
       "│ ---        ┆ ---               ┆ ---                ┆ ---               ┆ ---        ┆ ---       ┆ me                │\n",
       "│ str        ┆ str               ┆ str                ┆ str               ┆ i64        ┆ i64       ┆ ---               │\n",
       "│            ┆                   ┆                    ┆                   ┆            ┆           ┆ str               │\n",
       "╞════════════╪═══════════════════╪════════════════════╪═══════════════════╪════════════╪═══════════╪═══════════════════╡\n",
       "│ P040101001 ┆ 04                ┆ 0401               ┆ 040101            ┆ 198        ┆ 149       ┆ 弁当類            │\n",
       "│ P040101002 ┆ 04                ┆ 0401               ┆ 040101            ┆ 218        ┆ 164       ┆ 弁当類            │\n",
       "│ P040101003 ┆ 04                ┆ 0401               ┆ 040101            ┆ 230        ┆ 173       ┆ 弁当類            │\n",
       "│ P040101004 ┆ 04                ┆ 0401               ┆ 040101            ┆ 248        ┆ 186       ┆ 弁当類            │\n",
       "│ …          ┆ …                 ┆ …                  ┆ …                 ┆ …          ┆ …         ┆ …                 │\n",
       "│ P040101007 ┆ 04                ┆ 0401               ┆ 040101            ┆ 338        ┆ 254       ┆ 弁当類            │\n",
       "│ P040101008 ┆ 04                ┆ 0401               ┆ 040101            ┆ 420        ┆ 315       ┆ 弁当類            │\n",
       "│ P040101009 ┆ 04                ┆ 0401               ┆ 040101            ┆ 498        ┆ 374       ┆ 弁当類            │\n",
       "│ P040101010 ┆ 04                ┆ 0401               ┆ 040101            ┆ 580        ┆ 435       ┆ 弁当類            │\n",
       "└────────────┴───────────────────┴────────────────────┴───────────────────┴────────────┴───────────┴───────────────────┘"
      ]
     },
     "execution_count": 56,
     "metadata": {},
     "output_type": "execute_result"
    }
   ],
   "source": [
    "df_product.join(df_category.select('category_small_cd', 'category_small_name'), on='category_small_cd').head(10)"
   ]
  },
  {
   "cell_type": "markdown",
   "metadata": {},
   "source": [
    "### P-038\n",
    "\n",
    "顧客データ（df_customer）とレシート明細データ（df_receipt）から、顧客ごとの売上金額合計を求め、10件表示せよ。ただし、売上実績がない顧客については売上金額を0として表示させること。また、顧客は性別コード（gender_cd）が女性（1）であるものを対象とし、非会員（顧客IDが\"Z\"から始まるもの）は除外すること。"
   ]
  },
  {
   "cell_type": "code",
   "execution_count": 68,
   "metadata": {},
   "outputs": [
    {
     "data": {
      "text/html": [
       "<div><style>\n",
       ".dataframe > thead > tr,\n",
       ".dataframe > tbody > tr {\n",
       "  text-align: right;\n",
       "  white-space: pre-wrap;\n",
       "}\n",
       "</style>\n",
       "<small>shape: (10, 2)</small><table border=\"1\" class=\"dataframe\"><thead><tr><th>customer_id</th><th>sum_amount</th></tr><tr><td>str</td><td>i64</td></tr></thead><tbody><tr><td>&quot;CS021313000114&quot;</td><td>0</td></tr><tr><td>&quot;CS031415000172&quot;</td><td>5088</td></tr><tr><td>&quot;CS028811000001&quot;</td><td>0</td></tr><tr><td>&quot;CS001215000145&quot;</td><td>875</td></tr><tr><td>&quot;CS015414000103&quot;</td><td>3122</td></tr><tr><td>&quot;CS033513000180&quot;</td><td>868</td></tr><tr><td>&quot;CS035614000014&quot;</td><td>0</td></tr><tr><td>&quot;CS011215000048&quot;</td><td>3444</td></tr><tr><td>&quot;CS009413000079&quot;</td><td>0</td></tr><tr><td>&quot;CS040412000191&quot;</td><td>210</td></tr></tbody></table></div>"
      ],
      "text/plain": [
       "shape: (10, 2)\n",
       "┌────────────────┬────────────┐\n",
       "│ customer_id    ┆ sum_amount │\n",
       "│ ---            ┆ ---        │\n",
       "│ str            ┆ i64        │\n",
       "╞════════════════╪════════════╡\n",
       "│ CS021313000114 ┆ 0          │\n",
       "│ CS031415000172 ┆ 5088       │\n",
       "│ CS028811000001 ┆ 0          │\n",
       "│ CS001215000145 ┆ 875        │\n",
       "│ …              ┆ …          │\n",
       "│ CS035614000014 ┆ 0          │\n",
       "│ CS011215000048 ┆ 3444       │\n",
       "│ CS009413000079 ┆ 0          │\n",
       "│ CS040412000191 ┆ 210        │\n",
       "└────────────────┴────────────┘"
      ]
     },
     "execution_count": 68,
     "metadata": {},
     "output_type": "execute_result"
    }
   ],
   "source": [
    "df_customer.lazy().filter(\n",
    "    (pl.col.gender_cd == \"1\") & (pl.col.customer_id.str.starts_with('Z').not_())\n",
    ").select(\n",
    "    'customer_id'\n",
    ").join(\n",
    "    df_receipt.lazy().group_by('customer_id').agg(\n",
    "        sum_amount = pl.col.amount.sum()\n",
    "    ),\n",
    "    on='customer_id',\n",
    "    how='left'\n",
    ").with_columns(\n",
    "    pl.col.sum_amount.fill_null(0)\n",
    ").head(10).collect()"
   ]
  },
  {
   "cell_type": "markdown",
   "metadata": {},
   "source": [
    "### P-039\n",
    "\n",
    "レシート明細データ（df_receipt）から、売上日数の多い顧客の上位20件を抽出したデータと、売上金額合計の多い顧客の上位20件を抽出したデータをそれぞれ作成し、さらにその2つを完全外部結合せよ。ただし、非会員（顧客IDが\"Z\"から始まるもの）は除外すること。"
   ]
  },
  {
   "cell_type": "code",
   "execution_count": 86,
   "metadata": {},
   "outputs": [
    {
     "data": {
      "text/html": [
       "<div><style>\n",
       ".dataframe > thead > tr,\n",
       ".dataframe > tbody > tr {\n",
       "  text-align: right;\n",
       "  white-space: pre-wrap;\n",
       "}\n",
       "</style>\n",
       "<small>shape: (34, 3)</small><table border=\"1\" class=\"dataframe\"><thead><tr><th>customer_id</th><th>come_days</th><th>buy_amount</th></tr><tr><td>str</td><td>u32</td><td>i64</td></tr></thead><tbody><tr><td>&quot;CS017415000097&quot;</td><td>20</td><td>23086</td></tr><tr><td>&quot;CS015415000185&quot;</td><td>22</td><td>20153</td></tr><tr><td>&quot;CS031414000051&quot;</td><td>19</td><td>19202</td></tr><tr><td>&quot;CS028415000007&quot;</td><td>21</td><td>19127</td></tr><tr><td>&quot;CS001605000009&quot;</td><td>null</td><td>18925</td></tr><tr><td>&quot;CS010214000010&quot;</td><td>22</td><td>18585</td></tr><tr><td>&quot;CS016415000141&quot;</td><td>20</td><td>18372</td></tr><tr><td>&quot;CS006515000023&quot;</td><td>null</td><td>18372</td></tr><tr><td>&quot;CS011414000106&quot;</td><td>null</td><td>18338</td></tr><tr><td>&quot;CS038415000104&quot;</td><td>null</td><td>17847</td></tr><tr><td>&quot;CS035414000024&quot;</td><td>null</td><td>17615</td></tr><tr><td>&quot;CS021515000089&quot;</td><td>null</td><td>17580</td></tr><tr><td>&hellip;</td><td>&hellip;</td><td>&hellip;</td></tr><tr><td>&quot;CS021515000056&quot;</td><td>18</td><td>null</td></tr><tr><td>&quot;CS022515000028&quot;</td><td>18</td><td>null</td></tr><tr><td>&quot;CS021515000211&quot;</td><td>18</td><td>null</td></tr><tr><td>&quot;CS022515000226&quot;</td><td>19</td><td>null</td></tr><tr><td>&quot;CS007515000107&quot;</td><td>18</td><td>null</td></tr><tr><td>&quot;CS014214000023&quot;</td><td>19</td><td>null</td></tr><tr><td>&quot;CS014415000077&quot;</td><td>18</td><td>null</td></tr><tr><td>&quot;CS010214000002&quot;</td><td>21</td><td>null</td></tr><tr><td>&quot;CS021514000045&quot;</td><td>19</td><td>null</td></tr><tr><td>&quot;CS039414000052&quot;</td><td>19</td><td>null</td></tr><tr><td>&quot;CS031414000073&quot;</td><td>18</td><td>null</td></tr><tr><td>&quot;CS021515000172&quot;</td><td>19</td><td>null</td></tr></tbody></table></div>"
      ],
      "text/plain": [
       "shape: (34, 3)\n",
       "┌────────────────┬───────────┬────────────┐\n",
       "│ customer_id    ┆ come_days ┆ buy_amount │\n",
       "│ ---            ┆ ---       ┆ ---        │\n",
       "│ str            ┆ u32       ┆ i64        │\n",
       "╞════════════════╪═══════════╪════════════╡\n",
       "│ CS017415000097 ┆ 20        ┆ 23086      │\n",
       "│ CS015415000185 ┆ 22        ┆ 20153      │\n",
       "│ CS031414000051 ┆ 19        ┆ 19202      │\n",
       "│ CS028415000007 ┆ 21        ┆ 19127      │\n",
       "│ …              ┆ …         ┆ …          │\n",
       "│ CS021514000045 ┆ 19        ┆ null       │\n",
       "│ CS039414000052 ┆ 19        ┆ null       │\n",
       "│ CS031414000073 ┆ 18        ┆ null       │\n",
       "│ CS021515000172 ┆ 19        ┆ null       │\n",
       "└────────────────┴───────────┴────────────┘"
      ]
     },
     "execution_count": 86,
     "metadata": {},
     "output_type": "execute_result"
    }
   ],
   "source": [
    "df_data = df_receipt.filter(\n",
    "    pl.col.customer_id.str.starts_with('Z').not_()\n",
    ")\n",
    "\n",
    "group = df_data.group_by('customer_id')\n",
    "\n",
    "df_cnt = group.agg(\n",
    "    come_days = pl.col.sales_ymd.n_unique()\n",
    ").top_k(20, by='come_days')\n",
    "\n",
    "df_sum = group.agg(\n",
    "    buy_amount = pl.col.amount.sum()\n",
    ").top_k(20, by='buy_amount')\n",
    "\n",
    "df_cnt.join(df_sum, on='customer_id', how='outer_coalesce')"
   ]
  },
  {
   "cell_type": "markdown",
   "metadata": {},
   "source": [
    "### P-040\n",
    "\n",
    "全ての店舗と全ての商品を組み合わせたデータを作成したい。店舗データ（df_store）と商品データ（df_product）を直積し、件数を計算せよ。"
   ]
  },
  {
   "cell_type": "code",
   "execution_count": 92,
   "metadata": {},
   "outputs": [
    {
     "data": {
      "text/plain": [
       "531590"
      ]
     },
     "execution_count": 92,
     "metadata": {},
     "output_type": "execute_result"
    }
   ],
   "source": [
    "df_store.join(df_product, how='cross').select(pl.count()).item()"
   ]
  },
  {
   "cell_type": "markdown",
   "metadata": {},
   "source": [
    "## 演習問題 041 ~ 050"
   ]
  },
  {
   "cell_type": "markdown",
   "metadata": {},
   "source": [
    "### P-041\n",
    "\n",
    "レシート明細データ（df_receipt）の売上金額（amount）を日付（sales_ymd）ごとに集計し、前回売上があった日からの売上金額増減を計算せよ。そして結果を10件表示せよ。"
   ]
  },
  {
   "cell_type": "code",
   "execution_count": 100,
   "metadata": {},
   "outputs": [
    {
     "data": {
      "text/html": [
       "<div><style>\n",
       ".dataframe > thead > tr,\n",
       ".dataframe > tbody > tr {\n",
       "  text-align: right;\n",
       "  white-space: pre-wrap;\n",
       "}\n",
       "</style>\n",
       "<small>shape: (10, 5)</small><table border=\"1\" class=\"dataframe\"><thead><tr><th>sales_ymd</th><th>amount</th><th>lag_sales_ymd</th><th>lag_amount</th><th>diff_amount</th></tr><tr><td>i64</td><td>i64</td><td>i64</td><td>i64</td><td>i64</td></tr></thead><tbody><tr><td>20170101</td><td>33723</td><td>null</td><td>null</td><td>null</td></tr><tr><td>20170102</td><td>24165</td><td>20170101</td><td>33723</td><td>-9558</td></tr><tr><td>20170103</td><td>27503</td><td>20170102</td><td>24165</td><td>3338</td></tr><tr><td>20170104</td><td>36165</td><td>20170103</td><td>27503</td><td>8662</td></tr><tr><td>20170105</td><td>37830</td><td>20170104</td><td>36165</td><td>1665</td></tr><tr><td>20170106</td><td>32387</td><td>20170105</td><td>37830</td><td>-5443</td></tr><tr><td>20170107</td><td>23415</td><td>20170106</td><td>32387</td><td>-8972</td></tr><tr><td>20170108</td><td>24737</td><td>20170107</td><td>23415</td><td>1322</td></tr><tr><td>20170109</td><td>26718</td><td>20170108</td><td>24737</td><td>1981</td></tr><tr><td>20170110</td><td>20143</td><td>20170109</td><td>26718</td><td>-6575</td></tr></tbody></table></div>"
      ],
      "text/plain": [
       "shape: (10, 5)\n",
       "┌───────────┬────────┬───────────────┬────────────┬─────────────┐\n",
       "│ sales_ymd ┆ amount ┆ lag_sales_ymd ┆ lag_amount ┆ diff_amount │\n",
       "│ ---       ┆ ---    ┆ ---           ┆ ---        ┆ ---         │\n",
       "│ i64       ┆ i64    ┆ i64           ┆ i64        ┆ i64         │\n",
       "╞═══════════╪════════╪═══════════════╪════════════╪═════════════╡\n",
       "│ 20170101  ┆ 33723  ┆ null          ┆ null       ┆ null        │\n",
       "│ 20170102  ┆ 24165  ┆ 20170101      ┆ 33723      ┆ -9558       │\n",
       "│ 20170103  ┆ 27503  ┆ 20170102      ┆ 24165      ┆ 3338        │\n",
       "│ 20170104  ┆ 36165  ┆ 20170103      ┆ 27503      ┆ 8662        │\n",
       "│ …         ┆ …      ┆ …             ┆ …          ┆ …           │\n",
       "│ 20170107  ┆ 23415  ┆ 20170106      ┆ 32387      ┆ -8972       │\n",
       "│ 20170108  ┆ 24737  ┆ 20170107      ┆ 23415      ┆ 1322        │\n",
       "│ 20170109  ┆ 26718  ┆ 20170108      ┆ 24737      ┆ 1981        │\n",
       "│ 20170110  ┆ 20143  ┆ 20170109      ┆ 26718      ┆ -6575       │\n",
       "└───────────┴────────┴───────────────┴────────────┴─────────────┘"
      ]
     },
     "execution_count": 100,
     "metadata": {},
     "output_type": "execute_result"
    }
   ],
   "source": [
    "df_receipt.lazy().group_by('sales_ymd').agg(\n",
    "    pl.col.amount.sum()\n",
    ").sort(\n",
    "    by='sales_ymd'\n",
    ").with_columns(\n",
    "    pl.all().shift().name.prefix('lag_')    \n",
    ").with_columns(\n",
    "    diff_amount = pl.col.amount - pl.col.lag_amount\n",
    ").head(10).collect()"
   ]
  },
  {
   "cell_type": "markdown",
   "metadata": {},
   "source": [
    "### P-042\n",
    "\n",
    "レシート明細データ（df_receipt）の売上金額（amount）を日付（sales_ymd）ごとに集計し、各日付のデータに対し、前回、前々回、3回前に売上があった日のデータを結合せよ。そして結果を10件表示せよ。"
   ]
  },
  {
   "cell_type": "code",
   "execution_count": 11,
   "metadata": {
    "scrolled": true
   },
   "outputs": [
    {
     "data": {
      "text/html": [
       "<div><style>\n",
       ".dataframe > thead > tr,\n",
       ".dataframe > tbody > tr {\n",
       "  text-align: right;\n",
       "  white-space: pre-wrap;\n",
       "}\n",
       "</style>\n",
       "<small>shape: (10, 4)</small><table border=\"1\" class=\"dataframe\"><thead><tr><th>sales_ymd</th><th>amount</th><th>sales_ymd_lag</th><th>amount_lag</th></tr><tr><td>i64</td><td>i64</td><td>i64</td><td>i64</td></tr></thead><tbody><tr><td>20170101</td><td>33723</td><td>null</td><td>null</td></tr><tr><td>20170102</td><td>24165</td><td>20170101</td><td>33723</td></tr><tr><td>20170103</td><td>27503</td><td>20170101</td><td>33723</td></tr><tr><td>20170103</td><td>27503</td><td>20170102</td><td>24165</td></tr><tr><td>20170104</td><td>36165</td><td>20170101</td><td>33723</td></tr><tr><td>20170104</td><td>36165</td><td>20170102</td><td>24165</td></tr><tr><td>20170104</td><td>36165</td><td>20170103</td><td>27503</td></tr><tr><td>20170105</td><td>37830</td><td>20170102</td><td>24165</td></tr><tr><td>20170105</td><td>37830</td><td>20170103</td><td>27503</td></tr><tr><td>20170105</td><td>37830</td><td>20170104</td><td>36165</td></tr></tbody></table></div>"
      ],
      "text/plain": [
       "shape: (10, 4)\n",
       "┌───────────┬────────┬───────────────┬────────────┐\n",
       "│ sales_ymd ┆ amount ┆ sales_ymd_lag ┆ amount_lag │\n",
       "│ ---       ┆ ---    ┆ ---           ┆ ---        │\n",
       "│ i64       ┆ i64    ┆ i64           ┆ i64        │\n",
       "╞═══════════╪════════╪═══════════════╪════════════╡\n",
       "│ 20170101  ┆ 33723  ┆ null          ┆ null       │\n",
       "│ 20170102  ┆ 24165  ┆ 20170101      ┆ 33723      │\n",
       "│ 20170103  ┆ 27503  ┆ 20170101      ┆ 33723      │\n",
       "│ 20170103  ┆ 27503  ┆ 20170102      ┆ 24165      │\n",
       "│ 20170104  ┆ 36165  ┆ 20170101      ┆ 33723      │\n",
       "│ 20170104  ┆ 36165  ┆ 20170102      ┆ 24165      │\n",
       "│ 20170104  ┆ 36165  ┆ 20170103      ┆ 27503      │\n",
       "│ 20170105  ┆ 37830  ┆ 20170102      ┆ 24165      │\n",
       "│ 20170105  ┆ 37830  ┆ 20170103      ┆ 27503      │\n",
       "│ 20170105  ┆ 37830  ┆ 20170104      ┆ 36165      │\n",
       "└───────────┴────────┴───────────────┴────────────┘"
      ]
     },
     "execution_count": 11,
     "metadata": {},
     "output_type": "execute_result"
    }
   ],
   "source": [
    "df_tmp = df_receipt.group_by(\n",
    "    'sales_ymd'\n",
    ").agg(\n",
    "    pl.col.amount.sum()\n",
    ").sort(\n",
    "    by='sales_ymd'\n",
    ").with_columns(\n",
    "    index=pl.int_range(0, pl.len(), dtype=pl.Int32)\n",
    ")\n",
    "\n",
    "df_rolling = df_tmp.rolling('index', period='3i', offset='-4i').agg(\n",
    "    pl.col.sales_ymd, \n",
    "    pl.col.amount\n",
    ")\n",
    "\n",
    "df_tmp.join(\n",
    "    df_rolling, on='index', suffix='_lag'\n",
    ").explode(\n",
    "    pl.col('^*._lag$')\n",
    ").drop(\n",
    "    'index'\n",
    ").head(10)"
   ]
  },
  {
   "cell_type": "markdown",
   "metadata": {},
   "source": [
    "### P-043\n",
    "\n",
    "レシート明細データ（df_receipt）と顧客データ（df_customer）を結合し、性別コード（gender_cd）と年代（ageから計算）ごとに売上金額（amount）を合計した売上サマリデータを作成せよ。性別コードは0が男性、1が女性、9が不明を表すものとする。\n",
    "\n",
    "ただし、項目構成は年代、女性の売上金額、男性の売上金額、性別不明の売上金額の4項目とすること（縦に年代、横に性別のクロス集計）。また、年代は10歳ごとの階級とすること。"
   ]
  },
  {
   "cell_type": "code",
   "execution_count": 2,
   "metadata": {},
   "outputs": [
    {
     "data": {
      "text/html": [
       "<div><style>\n",
       ".dataframe > thead > tr,\n",
       ".dataframe > tbody > tr {\n",
       "  text-align: right;\n",
       "  white-space: pre-wrap;\n",
       "}\n",
       "</style>\n",
       "<small>shape: (9, 4)</small><table border=\"1\" class=\"dataframe\"><thead><tr><th>age</th><th>male</th><th>female</th><th>unknown</th></tr><tr><td>i64</td><td>i64</td><td>i64</td><td>i64</td></tr></thead><tbody><tr><td>10</td><td>1591</td><td>149836</td><td>4317</td></tr><tr><td>20</td><td>72940</td><td>1363724</td><td>44328</td></tr><tr><td>30</td><td>177322</td><td>693047</td><td>50441</td></tr><tr><td>40</td><td>19355</td><td>9320791</td><td>483512</td></tr><tr><td>50</td><td>54320</td><td>6685192</td><td>342923</td></tr><tr><td>60</td><td>272469</td><td>987741</td><td>71418</td></tr><tr><td>70</td><td>13435</td><td>29764</td><td>2427</td></tr><tr><td>80</td><td>46360</td><td>262923</td><td>5111</td></tr><tr><td>90</td><td>null</td><td>6260</td><td>null</td></tr></tbody></table></div>"
      ],
      "text/plain": [
       "shape: (9, 4)\n",
       "┌─────┬────────┬─────────┬─────────┐\n",
       "│ age ┆ male   ┆ female  ┆ unknown │\n",
       "│ --- ┆ ---    ┆ ---     ┆ ---     │\n",
       "│ i64 ┆ i64    ┆ i64     ┆ i64     │\n",
       "╞═════╪════════╪═════════╪═════════╡\n",
       "│ 10  ┆ 1591   ┆ 149836  ┆ 4317    │\n",
       "│ 20  ┆ 72940  ┆ 1363724 ┆ 44328   │\n",
       "│ 30  ┆ 177322 ┆ 693047  ┆ 50441   │\n",
       "│ 40  ┆ 19355  ┆ 9320791 ┆ 483512  │\n",
       "│ 50  ┆ 54320  ┆ 6685192 ┆ 342923  │\n",
       "│ 60  ┆ 272469 ┆ 987741  ┆ 71418   │\n",
       "│ 70  ┆ 13435  ┆ 29764   ┆ 2427    │\n",
       "│ 80  ┆ 46360  ┆ 262923  ┆ 5111    │\n",
       "│ 90  ┆ null   ┆ 6260    ┆ null    │\n",
       "└─────┴────────┴─────────┴─────────┘"
      ]
     },
     "execution_count": 2,
     "metadata": {},
     "output_type": "execute_result"
    }
   ],
   "source": [
    "df_sales_summary = df_receipt.join(\n",
    "    df_customer, on='customer_id', how='inner'\n",
    ").group_by(\n",
    "    (pl.col.age // 10) * 10, 'gender_cd'\n",
    ").agg(\n",
    "    pl.col.amount.sum()\n",
    ").sort(\n",
    "    by=['age', 'gender_cd']\n",
    ").with_columns(\n",
    "    pl.col.gender_cd.replace({'0':'male', '1':'female', '9':'unknown'})\n",
    ").pivot(\n",
    "    index='age',\n",
    "    columns='gender_cd',\n",
    "    values='amount'\n",
    ")\n",
    "df_sales_summary"
   ]
  },
  {
   "cell_type": "markdown",
   "metadata": {},
   "source": [
    "### P-044\n",
    "\n",
    "043で作成した売上サマリデータ（df_sales_summary）は性別の売上を横持ちさせたものであった。このデータから性別を縦持ちさせ、年代、性別コード、売上金額の3項目に変換せよ。ただし、性別コードは男性を\"00\"、女性を\"01\"、不明を\"99\"とする。"
   ]
  },
  {
   "cell_type": "code",
   "execution_count": 7,
   "metadata": {},
   "outputs": [
    {
     "data": {
      "text/html": [
       "<div><style>\n",
       ".dataframe > thead > tr,\n",
       ".dataframe > tbody > tr {\n",
       "  text-align: right;\n",
       "  white-space: pre-wrap;\n",
       "}\n",
       "</style>\n",
       "<small>shape: (5, 3)</small><table border=\"1\" class=\"dataframe\"><thead><tr><th>age</th><th>gender_cd</th><th>amount</th></tr><tr><td>i64</td><td>str</td><td>i64</td></tr></thead><tbody><tr><td>10</td><td>&quot;00&quot;</td><td>1591</td></tr><tr><td>20</td><td>&quot;00&quot;</td><td>72940</td></tr><tr><td>30</td><td>&quot;00&quot;</td><td>177322</td></tr><tr><td>40</td><td>&quot;00&quot;</td><td>19355</td></tr><tr><td>50</td><td>&quot;00&quot;</td><td>54320</td></tr></tbody></table></div>"
      ],
      "text/plain": [
       "shape: (5, 3)\n",
       "┌─────┬───────────┬────────┐\n",
       "│ age ┆ gender_cd ┆ amount │\n",
       "│ --- ┆ ---       ┆ ---    │\n",
       "│ i64 ┆ str       ┆ i64    │\n",
       "╞═════╪═══════════╪════════╡\n",
       "│ 10  ┆ 00        ┆ 1591   │\n",
       "│ 20  ┆ 00        ┆ 72940  │\n",
       "│ 30  ┆ 00        ┆ 177322 │\n",
       "│ 40  ┆ 00        ┆ 19355  │\n",
       "│ 50  ┆ 00        ┆ 54320  │\n",
       "└─────┴───────────┴────────┘"
      ]
     },
     "execution_count": 7,
     "metadata": {},
     "output_type": "execute_result"
    }
   ],
   "source": [
    "df_sales_summary.melt(\n",
    "    id_vars='age', variable_name='gender_cd', value_name='amount'\n",
    ").with_columns(\n",
    "    pl.col.gender_cd.replace({'male':'00', 'female':'01', 'unknown':'99'})    \n",
    ").head()"
   ]
  },
  {
   "cell_type": "markdown",
   "metadata": {},
   "source": [
    "### P-045\n",
    "\n",
    "顧客データ（df_customer）の生年月日（birth_day）は日付型でデータを保有している。これをYYYYMMDD形式の文字列に変換し、顧客ID（customer_id）とともに10件表示せよ。"
   ]
  },
  {
   "cell_type": "code",
   "execution_count": 12,
   "metadata": {},
   "outputs": [
    {
     "data": {
      "text/html": [
       "<div><style>\n",
       ".dataframe > thead > tr,\n",
       ".dataframe > tbody > tr {\n",
       "  text-align: right;\n",
       "  white-space: pre-wrap;\n",
       "}\n",
       "</style>\n",
       "<small>shape: (5, 2)</small><table border=\"1\" class=\"dataframe\"><thead><tr><th>customer_id</th><th>birth_day</th></tr><tr><td>str</td><td>str</td></tr></thead><tbody><tr><td>&quot;CS021313000114&quot;</td><td>&quot;19810429&quot;</td></tr><tr><td>&quot;CS037613000071&quot;</td><td>&quot;19520401&quot;</td></tr><tr><td>&quot;CS031415000172&quot;</td><td>&quot;19761004&quot;</td></tr><tr><td>&quot;CS028811000001&quot;</td><td>&quot;19330327&quot;</td></tr><tr><td>&quot;CS001215000145&quot;</td><td>&quot;19950329&quot;</td></tr></tbody></table></div>"
      ],
      "text/plain": [
       "shape: (5, 2)\n",
       "┌────────────────┬───────────┐\n",
       "│ customer_id    ┆ birth_day │\n",
       "│ ---            ┆ ---       │\n",
       "│ str            ┆ str       │\n",
       "╞════════════════╪═══════════╡\n",
       "│ CS021313000114 ┆ 19810429  │\n",
       "│ CS037613000071 ┆ 19520401  │\n",
       "│ CS031415000172 ┆ 19761004  │\n",
       "│ CS028811000001 ┆ 19330327  │\n",
       "│ CS001215000145 ┆ 19950329  │\n",
       "└────────────────┴───────────┘"
      ]
     },
     "execution_count": 12,
     "metadata": {},
     "output_type": "execute_result"
    }
   ],
   "source": [
    "df_customer.select(\n",
    "    pl.col.customer_id,\n",
    "    pl.col.birth_day.str.replace_all('-', '')\n",
    ").head()"
   ]
  },
  {
   "cell_type": "markdown",
   "metadata": {},
   "source": [
    "### P-046\n",
    "\n",
    "顧客データ（df_customer）の申し込み日（application_date）はYYYYMMDD形式の文字列型でデータを保有している。これを日付型に変換し、顧客ID（customer_id）とともに10件表示せよ。"
   ]
  },
  {
   "cell_type": "code",
   "execution_count": 17,
   "metadata": {},
   "outputs": [
    {
     "data": {
      "text/html": [
       "<div><style>\n",
       ".dataframe > thead > tr,\n",
       ".dataframe > tbody > tr {\n",
       "  text-align: right;\n",
       "  white-space: pre-wrap;\n",
       "}\n",
       "</style>\n",
       "<small>shape: (5, 2)</small><table border=\"1\" class=\"dataframe\"><thead><tr><th>customer_id</th><th>application_date</th></tr><tr><td>str</td><td>date</td></tr></thead><tbody><tr><td>&quot;CS021313000114&quot;</td><td>2015-09-05</td></tr><tr><td>&quot;CS037613000071&quot;</td><td>2015-04-14</td></tr><tr><td>&quot;CS031415000172&quot;</td><td>2015-05-29</td></tr><tr><td>&quot;CS028811000001&quot;</td><td>2016-01-15</td></tr><tr><td>&quot;CS001215000145&quot;</td><td>2017-06-05</td></tr></tbody></table></div>"
      ],
      "text/plain": [
       "shape: (5, 2)\n",
       "┌────────────────┬──────────────────┐\n",
       "│ customer_id    ┆ application_date │\n",
       "│ ---            ┆ ---              │\n",
       "│ str            ┆ date             │\n",
       "╞════════════════╪══════════════════╡\n",
       "│ CS021313000114 ┆ 2015-09-05       │\n",
       "│ CS037613000071 ┆ 2015-04-14       │\n",
       "│ CS031415000172 ┆ 2015-05-29       │\n",
       "│ CS028811000001 ┆ 2016-01-15       │\n",
       "│ CS001215000145 ┆ 2017-06-05       │\n",
       "└────────────────┴──────────────────┘"
      ]
     },
     "execution_count": 17,
     "metadata": {},
     "output_type": "execute_result"
    }
   ],
   "source": [
    "df_customer.select(\n",
    "    pl.col.customer_id,\n",
    "    pl.col.application_date.cast(str).str.strptime(pl.Date, '%Y%m%d')\n",
    ").head()"
   ]
  },
  {
   "cell_type": "markdown",
   "metadata": {},
   "source": [
    "### P-047\n",
    "\n",
    "レシート明細データ（df_receipt）の売上日（sales_ymd）はYYYYMMDD形式の数値型でデータを保有している。これを日付型に変換し、レシート番号（receipt_no）、レシートサブ番号（receipt_sub_no）とともに10件表示せよ。"
   ]
  },
  {
   "cell_type": "code",
   "execution_count": 21,
   "metadata": {},
   "outputs": [
    {
     "data": {
      "text/html": [
       "<div><style>\n",
       ".dataframe > thead > tr,\n",
       ".dataframe > tbody > tr {\n",
       "  text-align: right;\n",
       "  white-space: pre-wrap;\n",
       "}\n",
       "</style>\n",
       "<small>shape: (5, 3)</small><table border=\"1\" class=\"dataframe\"><thead><tr><th>receipt_no</th><th>receipt_sub_no</th><th>sales_ymd</th></tr><tr><td>i64</td><td>i64</td><td>date</td></tr></thead><tbody><tr><td>112</td><td>1</td><td>2018-11-03</td></tr><tr><td>1132</td><td>2</td><td>2018-11-18</td></tr><tr><td>1102</td><td>1</td><td>2017-07-12</td></tr><tr><td>1132</td><td>1</td><td>2019-02-05</td></tr><tr><td>1102</td><td>2</td><td>2018-08-21</td></tr></tbody></table></div>"
      ],
      "text/plain": [
       "shape: (5, 3)\n",
       "┌────────────┬────────────────┬────────────┐\n",
       "│ receipt_no ┆ receipt_sub_no ┆ sales_ymd  │\n",
       "│ ---        ┆ ---            ┆ ---        │\n",
       "│ i64        ┆ i64            ┆ date       │\n",
       "╞════════════╪════════════════╪════════════╡\n",
       "│ 112        ┆ 1              ┆ 2018-11-03 │\n",
       "│ 1132       ┆ 2              ┆ 2018-11-18 │\n",
       "│ 1102       ┆ 1              ┆ 2017-07-12 │\n",
       "│ 1132       ┆ 1              ┆ 2019-02-05 │\n",
       "│ 1102       ┆ 2              ┆ 2018-08-21 │\n",
       "└────────────┴────────────────┴────────────┘"
      ]
     },
     "execution_count": 21,
     "metadata": {},
     "output_type": "execute_result"
    }
   ],
   "source": [
    "# cast(str)以外の方法\n",
    "df_receipt.select(\n",
    "    pl.col('receipt_no', 'receipt_sub_no'),\n",
    "    pl.date(\n",
    "        pl.col.sales_ymd // 10000, \n",
    "        pl.col.sales_ymd % 10000 // 100, \n",
    "        pl.col.sales_ymd % 100\n",
    "    ).alias('sales_ymd')\n",
    ").head()"
   ]
  },
  {
   "cell_type": "markdown",
   "metadata": {},
   "source": [
    "### P-048\n",
    "\n",
    "レシート明細データ（df_receipt）の売上エポック秒（sales_epoch）は数値型のUNIX秒でデータを保有している。これを日付型に変換し、レシート番号(receipt_no)、レシートサブ番号（receipt_sub_no）とともに10件表示せよ。"
   ]
  },
  {
   "cell_type": "code",
   "execution_count": 26,
   "metadata": {},
   "outputs": [
    {
     "data": {
      "text/html": [
       "<div><style>\n",
       ".dataframe > thead > tr,\n",
       ".dataframe > tbody > tr {\n",
       "  text-align: right;\n",
       "  white-space: pre-wrap;\n",
       "}\n",
       "</style>\n",
       "<small>shape: (5, 3)</small><table border=\"1\" class=\"dataframe\"><thead><tr><th>receipt_no</th><th>receipt_sub_no</th><th>sales_epoch</th></tr><tr><td>i64</td><td>i64</td><td>date</td></tr></thead><tbody><tr><td>112</td><td>1</td><td>2018-11-03</td></tr><tr><td>1132</td><td>2</td><td>2018-11-18</td></tr><tr><td>1102</td><td>1</td><td>2017-07-12</td></tr><tr><td>1132</td><td>1</td><td>2019-02-05</td></tr><tr><td>1102</td><td>2</td><td>2018-08-21</td></tr></tbody></table></div>"
      ],
      "text/plain": [
       "shape: (5, 3)\n",
       "┌────────────┬────────────────┬─────────────┐\n",
       "│ receipt_no ┆ receipt_sub_no ┆ sales_epoch │\n",
       "│ ---        ┆ ---            ┆ ---         │\n",
       "│ i64        ┆ i64            ┆ date        │\n",
       "╞════════════╪════════════════╪═════════════╡\n",
       "│ 112        ┆ 1              ┆ 2018-11-03  │\n",
       "│ 1132       ┆ 2              ┆ 2018-11-18  │\n",
       "│ 1102       ┆ 1              ┆ 2017-07-12  │\n",
       "│ 1132       ┆ 1              ┆ 2019-02-05  │\n",
       "│ 1102       ┆ 2              ┆ 2018-08-21  │\n",
       "└────────────┴────────────────┴─────────────┘"
      ]
     },
     "execution_count": 26,
     "metadata": {},
     "output_type": "execute_result"
    }
   ],
   "source": [
    "df_receipt.select(\n",
    "    pl.col('receipt_no', 'receipt_sub_no'),\n",
    "    pl.from_epoch(pl.col.sales_epoch).dt.date()\n",
    ").head()"
   ]
  },
  {
   "cell_type": "markdown",
   "metadata": {},
   "source": [
    "### P-049\n",
    "\n",
    "レシート明細データ（df_receipt）の売上エポック秒（sales_epoch）を日付型に変換し、「年」だけ取り出してレシート番号(receipt_no)、レシートサブ番号（receipt_sub_no）とともに10件表示せよ。"
   ]
  },
  {
   "cell_type": "code",
   "execution_count": 27,
   "metadata": {},
   "outputs": [
    {
     "data": {
      "text/html": [
       "<div><style>\n",
       ".dataframe > thead > tr,\n",
       ".dataframe > tbody > tr {\n",
       "  text-align: right;\n",
       "  white-space: pre-wrap;\n",
       "}\n",
       "</style>\n",
       "<small>shape: (5, 3)</small><table border=\"1\" class=\"dataframe\"><thead><tr><th>receipt_no</th><th>receipt_sub_no</th><th>sales_epoch</th></tr><tr><td>i64</td><td>i64</td><td>i32</td></tr></thead><tbody><tr><td>112</td><td>1</td><td>2018</td></tr><tr><td>1132</td><td>2</td><td>2018</td></tr><tr><td>1102</td><td>1</td><td>2017</td></tr><tr><td>1132</td><td>1</td><td>2019</td></tr><tr><td>1102</td><td>2</td><td>2018</td></tr></tbody></table></div>"
      ],
      "text/plain": [
       "shape: (5, 3)\n",
       "┌────────────┬────────────────┬─────────────┐\n",
       "│ receipt_no ┆ receipt_sub_no ┆ sales_epoch │\n",
       "│ ---        ┆ ---            ┆ ---         │\n",
       "│ i64        ┆ i64            ┆ i32         │\n",
       "╞════════════╪════════════════╪═════════════╡\n",
       "│ 112        ┆ 1              ┆ 2018        │\n",
       "│ 1132       ┆ 2              ┆ 2018        │\n",
       "│ 1102       ┆ 1              ┆ 2017        │\n",
       "│ 1132       ┆ 1              ┆ 2019        │\n",
       "│ 1102       ┆ 2              ┆ 2018        │\n",
       "└────────────┴────────────────┴─────────────┘"
      ]
     },
     "execution_count": 27,
     "metadata": {},
     "output_type": "execute_result"
    }
   ],
   "source": [
    "df_receipt.select(\n",
    "    pl.col('receipt_no', 'receipt_sub_no'),\n",
    "    pl.from_epoch(pl.col.sales_epoch).dt.year()\n",
    ").head()"
   ]
  },
  {
   "cell_type": "markdown",
   "metadata": {},
   "source": [
    "### P-050\n",
    "\n",
    "レシート明細データ（df_receipt）の売上エポック秒（sales_epoch）を日付型に変換し、「月」だけ取り出してレシート番号(receipt_no)、レシートサブ番号（receipt_sub_no）とともに10件表示せよ。なお、「月」は0埋め2桁で取り出すこと。"
   ]
  },
  {
   "cell_type": "code",
   "execution_count": 32,
   "metadata": {},
   "outputs": [
    {
     "data": {
      "text/html": [
       "<div><style>\n",
       ".dataframe > thead > tr,\n",
       ".dataframe > tbody > tr {\n",
       "  text-align: right;\n",
       "  white-space: pre-wrap;\n",
       "}\n",
       "</style>\n",
       "<small>shape: (5, 3)</small><table border=\"1\" class=\"dataframe\"><thead><tr><th>receipt_no</th><th>receipt_sub_no</th><th>sales_epoch</th></tr><tr><td>i64</td><td>i64</td><td>str</td></tr></thead><tbody><tr><td>112</td><td>1</td><td>&quot;11&quot;</td></tr><tr><td>1132</td><td>2</td><td>&quot;11&quot;</td></tr><tr><td>1102</td><td>1</td><td>&quot;07&quot;</td></tr><tr><td>1132</td><td>1</td><td>&quot;02&quot;</td></tr><tr><td>1102</td><td>2</td><td>&quot;08&quot;</td></tr></tbody></table></div>"
      ],
      "text/plain": [
       "shape: (5, 3)\n",
       "┌────────────┬────────────────┬─────────────┐\n",
       "│ receipt_no ┆ receipt_sub_no ┆ sales_epoch │\n",
       "│ ---        ┆ ---            ┆ ---         │\n",
       "│ i64        ┆ i64            ┆ str         │\n",
       "╞════════════╪════════════════╪═════════════╡\n",
       "│ 112        ┆ 1              ┆ 11          │\n",
       "│ 1132       ┆ 2              ┆ 11          │\n",
       "│ 1102       ┆ 1              ┆ 07          │\n",
       "│ 1132       ┆ 1              ┆ 02          │\n",
       "│ 1102       ┆ 2              ┆ 08          │\n",
       "└────────────┴────────────────┴─────────────┘"
      ]
     },
     "execution_count": 32,
     "metadata": {},
     "output_type": "execute_result"
    }
   ],
   "source": [
    "df_receipt.select(\n",
    "    pl.col('receipt_no', 'receipt_sub_no'),\n",
    "    pl.from_epoch(pl.col.sales_epoch).dt.month().cast(str).str.pad_start(2, '0')\n",
    ").head()"
   ]
  },
  {
   "cell_type": "markdown",
   "metadata": {},
   "source": [
    "## 演習問題 051 ~ 060"
   ]
  },
  {
   "cell_type": "markdown",
   "metadata": {},
   "source": [
    "### P-051\n",
    "\n",
    "レシート明細データ（df_receipt）の売上エポック秒を日付型に変換し、「日」だけ取り出してレシート番号(receipt_no)、レシートサブ番号（receipt_sub_no）とともに10件表示せよ。なお、「日」は0埋め2桁で取り出すこと。"
   ]
  },
  {
   "cell_type": "code",
   "execution_count": 33,
   "metadata": {},
   "outputs": [
    {
     "data": {
      "text/html": [
       "<div><style>\n",
       ".dataframe > thead > tr,\n",
       ".dataframe > tbody > tr {\n",
       "  text-align: right;\n",
       "  white-space: pre-wrap;\n",
       "}\n",
       "</style>\n",
       "<small>shape: (5, 3)</small><table border=\"1\" class=\"dataframe\"><thead><tr><th>receipt_no</th><th>receipt_sub_no</th><th>sales_epoch</th></tr><tr><td>i64</td><td>i64</td><td>str</td></tr></thead><tbody><tr><td>112</td><td>1</td><td>&quot;03&quot;</td></tr><tr><td>1132</td><td>2</td><td>&quot;18&quot;</td></tr><tr><td>1102</td><td>1</td><td>&quot;12&quot;</td></tr><tr><td>1132</td><td>1</td><td>&quot;05&quot;</td></tr><tr><td>1102</td><td>2</td><td>&quot;21&quot;</td></tr></tbody></table></div>"
      ],
      "text/plain": [
       "shape: (5, 3)\n",
       "┌────────────┬────────────────┬─────────────┐\n",
       "│ receipt_no ┆ receipt_sub_no ┆ sales_epoch │\n",
       "│ ---        ┆ ---            ┆ ---         │\n",
       "│ i64        ┆ i64            ┆ str         │\n",
       "╞════════════╪════════════════╪═════════════╡\n",
       "│ 112        ┆ 1              ┆ 03          │\n",
       "│ 1132       ┆ 2              ┆ 18          │\n",
       "│ 1102       ┆ 1              ┆ 12          │\n",
       "│ 1132       ┆ 1              ┆ 05          │\n",
       "│ 1102       ┆ 2              ┆ 21          │\n",
       "└────────────┴────────────────┴─────────────┘"
      ]
     },
     "execution_count": 33,
     "metadata": {},
     "output_type": "execute_result"
    }
   ],
   "source": [
    "df_receipt.select(\n",
    "    pl.col('receipt_no', 'receipt_sub_no'),\n",
    "    pl.from_epoch(pl.col.sales_epoch).dt.day().cast(str).str.pad_start(2, '0')\n",
    ").head()"
   ]
  },
  {
   "cell_type": "markdown",
   "metadata": {},
   "source": [
    "### P-052\n",
    "\n",
    "レシート明細データ（df_receipt）の売上金額（amount）を顧客ID（customer_id）ごとに合計の上、売上金額合計に対して2,000円以下を0、2,000円より大きい金額を1に二値化し、顧客ID、売上金額合計とともに10件表示せよ。ただし、顧客IDが\"Z\"から始まるのものは非会員を表すため、除外して計算すること。"
   ]
  },
  {
   "cell_type": "code",
   "execution_count": 8,
   "metadata": {},
   "outputs": [
    {
     "data": {
      "text/html": [
       "<div><style>\n",
       ".dataframe > thead > tr,\n",
       ".dataframe > tbody > tr {\n",
       "  text-align: right;\n",
       "  white-space: pre-wrap;\n",
       "}\n",
       "</style>\n",
       "<small>shape: (5, 3)</small><table border=\"1\" class=\"dataframe\"><thead><tr><th>customer_id</th><th>sum_amount</th><th>sales_flg</th></tr><tr><td>str</td><td>i64</td><td>i32</td></tr></thead><tbody><tr><td>&quot;CS006214000001&quot;</td><td>7364</td><td>1</td></tr><tr><td>&quot;CS008415000097&quot;</td><td>1895</td><td>0</td></tr><tr><td>&quot;CS028414000014&quot;</td><td>6222</td><td>1</td></tr><tr><td>&quot;CS025415000050&quot;</td><td>5736</td><td>1</td></tr><tr><td>&quot;CS003515000195&quot;</td><td>5412</td><td>1</td></tr></tbody></table></div>"
      ],
      "text/plain": [
       "shape: (5, 3)\n",
       "┌────────────────┬────────────┬───────────┐\n",
       "│ customer_id    ┆ sum_amount ┆ sales_flg │\n",
       "│ ---            ┆ ---        ┆ ---       │\n",
       "│ str            ┆ i64        ┆ i32       │\n",
       "╞════════════════╪════════════╪═══════════╡\n",
       "│ CS006214000001 ┆ 7364       ┆ 1         │\n",
       "│ CS008415000097 ┆ 1895       ┆ 0         │\n",
       "│ CS028414000014 ┆ 6222       ┆ 1         │\n",
       "│ CS025415000050 ┆ 5736       ┆ 1         │\n",
       "│ CS003515000195 ┆ 5412       ┆ 1         │\n",
       "└────────────────┴────────────┴───────────┘"
      ]
     },
     "execution_count": 8,
     "metadata": {},
     "output_type": "execute_result"
    }
   ],
   "source": [
    "df_receipt.filter(\n",
    "    pl.col.customer_id.str.starts_with('Z').not_()\n",
    ").group_by(\n",
    "    'customer_id', maintain_order=True\n",
    ").agg(\n",
    "    sum_amount=pl.col.amount.sum()\n",
    ").with_columns(\n",
    "    sales_flg=pl.when(pl.col.sum_amount >= 2000).then(1).otherwise(0)\n",
    ").head()"
   ]
  },
  {
   "cell_type": "markdown",
   "metadata": {},
   "source": [
    "### P-053\n",
    "\n",
    "顧客データ（df_customer）の郵便番号（postal_cd）に対し、東京（先頭3桁が100〜209のもの）を1、それ以外のものを0に二値化せよ。さらにレシート明細データ（df_receipt）と結合し、全期間において売上実績のある顧客数を、作成した二値ごとにカウントせよ。"
   ]
  },
  {
   "cell_type": "code",
   "execution_count": 19,
   "metadata": {},
   "outputs": [
    {
     "data": {
      "text/html": [
       "<div><style>\n",
       ".dataframe > thead > tr,\n",
       ".dataframe > tbody > tr {\n",
       "  text-align: right;\n",
       "  white-space: pre-wrap;\n",
       "}\n",
       "</style>\n",
       "<small>shape: (2, 2)</small><table border=\"1\" class=\"dataframe\"><thead><tr><th>postal_flg</th><th>customer_cnt</th></tr><tr><td>u8</td><td>u32</td></tr></thead><tbody><tr><td>0</td><td>3906</td></tr><tr><td>1</td><td>4400</td></tr></tbody></table></div>"
      ],
      "text/plain": [
       "shape: (2, 2)\n",
       "┌────────────┬──────────────┐\n",
       "│ postal_flg ┆ customer_cnt │\n",
       "│ ---        ┆ ---          │\n",
       "│ u8         ┆ u32          │\n",
       "╞════════════╪══════════════╡\n",
       "│ 0          ┆ 3906         │\n",
       "│ 1          ┆ 4400         │\n",
       "└────────────┴──────────────┘"
      ]
     },
     "execution_count": 19,
     "metadata": {},
     "output_type": "execute_result"
    }
   ],
   "source": [
    "df_receipt.join(\n",
    "    df_customer.select(\n",
    "        'customer_id',\n",
    "        postal_flg=pl.col.postal_cd.str.slice(0, 3).cast(pl.UInt16).is_between(100, 209).cast(pl.UInt8)\n",
    "    ),\n",
    "    on='customer_id',\n",
    "    how='inner'\n",
    ").group_by(\n",
    "    'postal_flg'\n",
    ").agg(\n",
    "    customer_cnt=pl.col.customer_id.n_unique()\n",
    ")"
   ]
  },
  {
   "cell_type": "markdown",
   "metadata": {},
   "source": [
    "### P-054\n",
    "\n",
    "顧客データ（df_customer）の住所（address）は、埼玉県、千葉県、東京都、神奈川県のいずれかとなっている。都道府県毎にコード値を作成し、顧客ID、住所とともに10件表示せよ。値は埼玉県を11、千葉県を12、東京都を13、神奈川県を14とすること。"
   ]
  },
  {
   "cell_type": "code",
   "execution_count": 32,
   "metadata": {},
   "outputs": [
    {
     "data": {
      "text/html": [
       "<div><style>\n",
       ".dataframe > thead > tr,\n",
       ".dataframe > tbody > tr {\n",
       "  text-align: right;\n",
       "  white-space: pre-wrap;\n",
       "}\n",
       "</style>\n",
       "<small>shape: (5, 3)</small><table border=\"1\" class=\"dataframe\"><thead><tr><th>customer_id</th><th>address</th><th>prefecture_cd</th></tr><tr><td>str</td><td>str</td><td>str</td></tr></thead><tbody><tr><td>&quot;CS021313000114&quot;</td><td>&quot;神奈川県伊勢原市粟窪**********&quot;</td><td>&quot;14&quot;</td></tr><tr><td>&quot;CS037613000071&quot;</td><td>&quot;東京都江東区南砂**********&quot;</td><td>&quot;13&quot;</td></tr><tr><td>&quot;CS031415000172&quot;</td><td>&quot;東京都渋谷区代々木**********&quot;</td><td>&quot;13&quot;</td></tr><tr><td>&quot;CS028811000001&quot;</td><td>&quot;神奈川県横浜市泉区和泉町**********&quot;</td><td>&quot;14&quot;</td></tr><tr><td>&quot;CS001215000145&quot;</td><td>&quot;東京都大田区仲六郷**********&quot;</td><td>&quot;13&quot;</td></tr></tbody></table></div>"
      ],
      "text/plain": [
       "shape: (5, 3)\n",
       "┌────────────────┬────────────────────────────────────┬───────────────┐\n",
       "│ customer_id    ┆ address                            ┆ prefecture_cd │\n",
       "│ ---            ┆ ---                                ┆ ---           │\n",
       "│ str            ┆ str                                ┆ str           │\n",
       "╞════════════════╪════════════════════════════════════╪═══════════════╡\n",
       "│ CS021313000114 ┆ 神奈川県伊勢原市粟窪**********     ┆ 14            │\n",
       "│ CS037613000071 ┆ 東京都江東区南砂**********         ┆ 13            │\n",
       "│ CS031415000172 ┆ 東京都渋谷区代々木**********       ┆ 13            │\n",
       "│ CS028811000001 ┆ 神奈川県横浜市泉区和泉町********** ┆ 14            │\n",
       "│ CS001215000145 ┆ 東京都大田区仲六郷**********       ┆ 13            │\n",
       "└────────────────┴────────────────────────────────────┴───────────────┘"
      ]
     },
     "execution_count": 32,
     "metadata": {},
     "output_type": "execute_result"
    }
   ],
   "source": [
    "names = ['埼玉県', '千葉県', '東京都', '神奈川県']\n",
    "codes = [11, 12, 13, 14]\n",
    "df_customer.select(\n",
    "    'customer_id', 'address',\n",
    "    prefecture_cd=pl.col.address.str.extract('^(.*?[都道府県])').replace(names, codes)\n",
    ").head()"
   ]
  },
  {
   "cell_type": "markdown",
   "metadata": {},
   "source": [
    "### P-055\n",
    "\n",
    "レシート明細（df_receipt）データの売上金額（amount）を顧客ID（customer_id）ごとに合計し、その合計金額の四分位点を求めよ。その上で、顧客ごとの売上金額合計に対して以下の基準でカテゴリ値を作成し、顧客ID、売上金額合計とともに10件表示せよ。カテゴリ値は順に1〜4とする。\n",
    "\n",
    "- 最小値以上第1四分位未満 ・・・ 1を付与\n",
    "- 第1四分位以上第2四分位未満 ・・・ 2を付与\n",
    "- 第2四分位以上第3四分位未満 ・・・ 3を付与\n",
    "- 第3四分位以上 ・・・ 4を付与"
   ]
  },
  {
   "cell_type": "code",
   "execution_count": 43,
   "metadata": {},
   "outputs": [
    {
     "data": {
      "text/html": [
       "<div><style>\n",
       ".dataframe > thead > tr,\n",
       ".dataframe > tbody > tr {\n",
       "  text-align: right;\n",
       "  white-space: pre-wrap;\n",
       "}\n",
       "</style>\n",
       "<small>shape: (10, 3)</small><table border=\"1\" class=\"dataframe\"><thead><tr><th>customer_id</th><th>sum_amount</th><th>pct_group</th></tr><tr><td>str</td><td>i64</td><td>cat</td></tr></thead><tbody><tr><td>&quot;CS006214000001&quot;</td><td>7364</td><td>&quot;4&quot;</td></tr><tr><td>&quot;CS008415000097&quot;</td><td>1895</td><td>&quot;3&quot;</td></tr><tr><td>&quot;CS028414000014&quot;</td><td>6222</td><td>&quot;4&quot;</td></tr><tr><td>&quot;ZZ000000000000&quot;</td><td>12395003</td><td>&quot;4&quot;</td></tr><tr><td>&quot;CS025415000050&quot;</td><td>5736</td><td>&quot;4&quot;</td></tr><tr><td>&quot;CS003515000195&quot;</td><td>5412</td><td>&quot;4&quot;</td></tr><tr><td>&quot;CS024514000042&quot;</td><td>533</td><td>&quot;1&quot;</td></tr><tr><td>&quot;CS040415000178&quot;</td><td>6149</td><td>&quot;4&quot;</td></tr><tr><td>&quot;CS027514000015&quot;</td><td>2788</td><td>&quot;3&quot;</td></tr><tr><td>&quot;CS025415000134&quot;</td><td>4902</td><td>&quot;4&quot;</td></tr></tbody></table></div>"
      ],
      "text/plain": [
       "shape: (10, 3)\n",
       "┌────────────────┬────────────┬───────────┐\n",
       "│ customer_id    ┆ sum_amount ┆ pct_group │\n",
       "│ ---            ┆ ---        ┆ ---       │\n",
       "│ str            ┆ i64        ┆ cat       │\n",
       "╞════════════════╪════════════╪═══════════╡\n",
       "│ CS006214000001 ┆ 7364       ┆ 4         │\n",
       "│ CS008415000097 ┆ 1895       ┆ 3         │\n",
       "│ CS028414000014 ┆ 6222       ┆ 4         │\n",
       "│ ZZ000000000000 ┆ 12395003   ┆ 4         │\n",
       "│ CS025415000050 ┆ 5736       ┆ 4         │\n",
       "│ CS003515000195 ┆ 5412       ┆ 4         │\n",
       "│ CS024514000042 ┆ 533        ┆ 1         │\n",
       "│ CS040415000178 ┆ 6149       ┆ 4         │\n",
       "│ CS027514000015 ┆ 2788       ┆ 3         │\n",
       "│ CS025415000134 ┆ 4902       ┆ 4         │\n",
       "└────────────────┴────────────┴───────────┘"
      ]
     },
     "execution_count": 43,
     "metadata": {},
     "output_type": "execute_result"
    }
   ],
   "source": [
    "df_receipt.group_by(\n",
    "    'customer_id', maintain_order=True\n",
    ").agg(\n",
    "    sum_amount=pl.col.amount.sum()\n",
    ").with_columns(\n",
    "    pct_group=pl.col.sum_amount.qcut([0.25, 0.5, 0.75], labels=['1', '2', '3', '4'])\n",
    ").head(10)"
   ]
  },
  {
   "cell_type": "markdown",
   "metadata": {},
   "source": [
    "### P-056\n",
    "\n",
    "顧客データ（df_customer）の年齢（age）をもとに10歳刻みで年代を算出し、顧客ID（customer_id）、生年月日（birth_day）とともに10件表示せよ。ただし、60歳以上は全て60歳代とすること。年代を表すカテゴリ名は任意とする。"
   ]
  },
  {
   "cell_type": "code",
   "execution_count": 3,
   "metadata": {},
   "outputs": [
    {
     "data": {
      "text/html": [
       "<div><style>\n",
       ".dataframe > thead > tr,\n",
       ".dataframe > tbody > tr {\n",
       "  text-align: right;\n",
       "  white-space: pre-wrap;\n",
       "}\n",
       "</style>\n",
       "<small>shape: (10, 3)</small><table border=\"1\" class=\"dataframe\"><thead><tr><th>customer_id</th><th>birth_day</th><th>age</th></tr><tr><td>str</td><td>str</td><td>i64</td></tr></thead><tbody><tr><td>&quot;CS021313000114&quot;</td><td>&quot;1981-04-29&quot;</td><td>30</td></tr><tr><td>&quot;CS037613000071&quot;</td><td>&quot;1952-04-01&quot;</td><td>60</td></tr><tr><td>&quot;CS031415000172&quot;</td><td>&quot;1976-10-04&quot;</td><td>40</td></tr><tr><td>&quot;CS028811000001&quot;</td><td>&quot;1933-03-27&quot;</td><td>60</td></tr><tr><td>&quot;CS001215000145&quot;</td><td>&quot;1995-03-29&quot;</td><td>20</td></tr><tr><td>&quot;CS020401000016&quot;</td><td>&quot;1974-09-15&quot;</td><td>40</td></tr><tr><td>&quot;CS015414000103&quot;</td><td>&quot;1977-08-09&quot;</td><td>40</td></tr><tr><td>&quot;CS029403000008&quot;</td><td>&quot;1973-08-17&quot;</td><td>40</td></tr><tr><td>&quot;CS015804000004&quot;</td><td>&quot;1931-05-02&quot;</td><td>60</td></tr><tr><td>&quot;CS033513000180&quot;</td><td>&quot;1962-07-11&quot;</td><td>50</td></tr></tbody></table></div>"
      ],
      "text/plain": [
       "shape: (10, 3)\n",
       "┌────────────────┬────────────┬─────┐\n",
       "│ customer_id    ┆ birth_day  ┆ age │\n",
       "│ ---            ┆ ---        ┆ --- │\n",
       "│ str            ┆ str        ┆ i64 │\n",
       "╞════════════════╪════════════╪═════╡\n",
       "│ CS021313000114 ┆ 1981-04-29 ┆ 30  │\n",
       "│ CS037613000071 ┆ 1952-04-01 ┆ 60  │\n",
       "│ CS031415000172 ┆ 1976-10-04 ┆ 40  │\n",
       "│ CS028811000001 ┆ 1933-03-27 ┆ 60  │\n",
       "│ CS001215000145 ┆ 1995-03-29 ┆ 20  │\n",
       "│ CS020401000016 ┆ 1974-09-15 ┆ 40  │\n",
       "│ CS015414000103 ┆ 1977-08-09 ┆ 40  │\n",
       "│ CS029403000008 ┆ 1973-08-17 ┆ 40  │\n",
       "│ CS015804000004 ┆ 1931-05-02 ┆ 60  │\n",
       "│ CS033513000180 ┆ 1962-07-11 ┆ 50  │\n",
       "└────────────────┴────────────┴─────┘"
      ]
     },
     "execution_count": 3,
     "metadata": {},
     "output_type": "execute_result"
    }
   ],
   "source": [
    "df_customer.select(\n",
    "    'customer_id', 'birth_day',\n",
    "    (pl.col.age // 10 * 10).clip(upper_bound=60)\n",
    ").head(10)"
   ]
  },
  {
   "cell_type": "markdown",
   "metadata": {},
   "source": [
    "### P-057\n",
    "\n",
    "056の抽出結果と性別コード（gender_cd）により、新たに性別×年代の組み合わせを表すカテゴリデータを作成し、10件表示せよ。組み合わせを表すカテゴリの値は任意とする。"
   ]
  },
  {
   "cell_type": "code",
   "execution_count": 9,
   "metadata": {},
   "outputs": [
    {
     "data": {
      "text/html": [
       "<div><style>\n",
       ".dataframe > thead > tr,\n",
       ".dataframe > tbody > tr {\n",
       "  text-align: right;\n",
       "  white-space: pre-wrap;\n",
       "}\n",
       "</style>\n",
       "<small>shape: (10, 3)</small><table border=\"1\" class=\"dataframe\"><thead><tr><th>customer_id</th><th>birth_day</th><th>gender_era</th></tr><tr><td>str</td><td>str</td><td>str</td></tr></thead><tbody><tr><td>&quot;CS021313000114&quot;</td><td>&quot;1981-04-29&quot;</td><td>&quot;130&quot;</td></tr><tr><td>&quot;CS037613000071&quot;</td><td>&quot;1952-04-01&quot;</td><td>&quot;960&quot;</td></tr><tr><td>&quot;CS031415000172&quot;</td><td>&quot;1976-10-04&quot;</td><td>&quot;140&quot;</td></tr><tr><td>&quot;CS028811000001&quot;</td><td>&quot;1933-03-27&quot;</td><td>&quot;160&quot;</td></tr><tr><td>&quot;CS001215000145&quot;</td><td>&quot;1995-03-29&quot;</td><td>&quot;120&quot;</td></tr><tr><td>&quot;CS020401000016&quot;</td><td>&quot;1974-09-15&quot;</td><td>&quot;040&quot;</td></tr><tr><td>&quot;CS015414000103&quot;</td><td>&quot;1977-08-09&quot;</td><td>&quot;140&quot;</td></tr><tr><td>&quot;CS029403000008&quot;</td><td>&quot;1973-08-17&quot;</td><td>&quot;040&quot;</td></tr><tr><td>&quot;CS015804000004&quot;</td><td>&quot;1931-05-02&quot;</td><td>&quot;060&quot;</td></tr><tr><td>&quot;CS033513000180&quot;</td><td>&quot;1962-07-11&quot;</td><td>&quot;150&quot;</td></tr></tbody></table></div>"
      ],
      "text/plain": [
       "shape: (10, 3)\n",
       "┌────────────────┬────────────┬────────────┐\n",
       "│ customer_id    ┆ birth_day  ┆ gender_era │\n",
       "│ ---            ┆ ---        ┆ ---        │\n",
       "│ str            ┆ str        ┆ str        │\n",
       "╞════════════════╪════════════╪════════════╡\n",
       "│ CS021313000114 ┆ 1981-04-29 ┆ 130        │\n",
       "│ CS037613000071 ┆ 1952-04-01 ┆ 960        │\n",
       "│ CS031415000172 ┆ 1976-10-04 ┆ 140        │\n",
       "│ CS028811000001 ┆ 1933-03-27 ┆ 160        │\n",
       "│ CS001215000145 ┆ 1995-03-29 ┆ 120        │\n",
       "│ CS020401000016 ┆ 1974-09-15 ┆ 040        │\n",
       "│ CS015414000103 ┆ 1977-08-09 ┆ 140        │\n",
       "│ CS029403000008 ┆ 1973-08-17 ┆ 040        │\n",
       "│ CS015804000004 ┆ 1931-05-02 ┆ 060        │\n",
       "│ CS033513000180 ┆ 1962-07-11 ┆ 150        │\n",
       "└────────────────┴────────────┴────────────┘"
      ]
     },
     "execution_count": 9,
     "metadata": {},
     "output_type": "execute_result"
    }
   ],
   "source": [
    "df_customer.select(\n",
    "    'customer_id', 'birth_day',\n",
    "    gender_era=pl.col.gender_cd + ((pl.col.age // 10 * 10).clip(upper_bound=60) + 100).cast(str).str.slice(1, 2)\n",
    ").head(10)"
   ]
  },
  {
   "cell_type": "markdown",
   "metadata": {},
   "source": [
    "### P-058\n",
    "\n",
    "顧客データ（df_customer）の性別コード（gender_cd）をダミー変数化し、顧客ID（customer_id）とともに10件表示せよ。"
   ]
  },
  {
   "cell_type": "code",
   "execution_count": 14,
   "metadata": {},
   "outputs": [
    {
     "data": {
      "text/html": [
       "<div><style>\n",
       ".dataframe > thead > tr,\n",
       ".dataframe > tbody > tr {\n",
       "  text-align: right;\n",
       "  white-space: pre-wrap;\n",
       "}\n",
       "</style>\n",
       "<small>shape: (5, 4)</small><table border=\"1\" class=\"dataframe\"><thead><tr><th>customer_id</th><th>gender_cd_0</th><th>gender_cd_1</th><th>gender_cd_9</th></tr><tr><td>str</td><td>u8</td><td>u8</td><td>u8</td></tr></thead><tbody><tr><td>&quot;CS021313000114&quot;</td><td>0</td><td>1</td><td>0</td></tr><tr><td>&quot;CS037613000071&quot;</td><td>0</td><td>0</td><td>1</td></tr><tr><td>&quot;CS031415000172&quot;</td><td>0</td><td>1</td><td>0</td></tr><tr><td>&quot;CS028811000001&quot;</td><td>0</td><td>1</td><td>0</td></tr><tr><td>&quot;CS001215000145&quot;</td><td>0</td><td>1</td><td>0</td></tr></tbody></table></div>"
      ],
      "text/plain": [
       "shape: (5, 4)\n",
       "┌────────────────┬─────────────┬─────────────┬─────────────┐\n",
       "│ customer_id    ┆ gender_cd_0 ┆ gender_cd_1 ┆ gender_cd_9 │\n",
       "│ ---            ┆ ---         ┆ ---         ┆ ---         │\n",
       "│ str            ┆ u8          ┆ u8          ┆ u8          │\n",
       "╞════════════════╪═════════════╪═════════════╪═════════════╡\n",
       "│ CS021313000114 ┆ 0           ┆ 1           ┆ 0           │\n",
       "│ CS037613000071 ┆ 0           ┆ 0           ┆ 1           │\n",
       "│ CS031415000172 ┆ 0           ┆ 1           ┆ 0           │\n",
       "│ CS028811000001 ┆ 0           ┆ 1           ┆ 0           │\n",
       "│ CS001215000145 ┆ 0           ┆ 1           ┆ 0           │\n",
       "└────────────────┴─────────────┴─────────────┴─────────────┘"
      ]
     },
     "execution_count": 14,
     "metadata": {},
     "output_type": "execute_result"
    }
   ],
   "source": [
    "pl.concat([\n",
    "    df_customer.select('customer_id'), \n",
    "    df_customer.get_column('gender_cd').to_dummies()\n",
    "], how='horizontal').head()"
   ]
  },
  {
   "cell_type": "markdown",
   "metadata": {},
   "source": [
    "### P-059\n",
    "\n",
    "レシート明細データ（df_receipt）の売上金額（amount）を顧客ID（customer_id）ごとに合計し、売上金額合計を平均0、標準偏差1に標準化して顧客ID、売上金額合計とともに10件表示せよ。標準化に使用する標準偏差は、分散の平方根、もしくは不偏分散の平方根のどちらでも良いものとする。ただし、顧客IDが\"Z\"から始まるのものは非会員を表すため、除外して計算すること。"
   ]
  },
  {
   "cell_type": "markdown",
   "metadata": {},
   "source": [
    "TIPS:\n",
    "- query()の引数engineで'python'か'numexpr'かを選択でき、デフォルトはインストールされていればnumexprが、無ければpythonが使われます。さらに、文字列メソッドはengine='python'でないとquery()内で使えません。\n"
   ]
  },
  {
   "cell_type": "code",
   "execution_count": 19,
   "metadata": {},
   "outputs": [
    {
     "data": {
      "text/html": [
       "<div><style>\n",
       ".dataframe > thead > tr,\n",
       ".dataframe > tbody > tr {\n",
       "  text-align: right;\n",
       "  white-space: pre-wrap;\n",
       "}\n",
       "</style>\n",
       "<small>shape: (10, 3)</small><table border=\"1\" class=\"dataframe\"><thead><tr><th>customer_id</th><th>sum_amount</th><th>std_amount</th></tr><tr><td>str</td><td>i64</td><td>f64</td></tr></thead><tbody><tr><td>&quot;CS022511000034&quot;</td><td>388</td><td>-0.793826</td></tr><tr><td>&quot;CS027614000007&quot;</td><td>1304</td><td>-0.457145</td></tr><tr><td>&quot;CS017512000149&quot;</td><td>338</td><td>-0.812204</td></tr><tr><td>&quot;CS032314000036&quot;</td><td>1978</td><td>-0.209412</td></tr><tr><td>&quot;CS020414000094&quot;</td><td>6466</td><td>1.440179</td></tr><tr><td>&quot;CS030512000026&quot;</td><td>947</td><td>-0.588362</td></tr><tr><td>&quot;CS001515000291&quot;</td><td>918</td><td>-0.599021</td></tr><tr><td>&quot;CS019414000068&quot;</td><td>7698</td><td>1.893008</td></tr><tr><td>&quot;CS015515000222&quot;</td><td>3081</td><td>0.196002</td></tr><tr><td>&quot;CS029513000028&quot;</td><td>1188</td><td>-0.499781</td></tr></tbody></table></div>"
      ],
      "text/plain": [
       "shape: (10, 3)\n",
       "┌────────────────┬────────────┬────────────┐\n",
       "│ customer_id    ┆ sum_amount ┆ std_amount │\n",
       "│ ---            ┆ ---        ┆ ---        │\n",
       "│ str            ┆ i64        ┆ f64        │\n",
       "╞════════════════╪════════════╪════════════╡\n",
       "│ CS022511000034 ┆ 388        ┆ -0.793826  │\n",
       "│ CS027614000007 ┆ 1304       ┆ -0.457145  │\n",
       "│ CS017512000149 ┆ 338        ┆ -0.812204  │\n",
       "│ CS032314000036 ┆ 1978       ┆ -0.209412  │\n",
       "│ CS020414000094 ┆ 6466       ┆ 1.440179   │\n",
       "│ CS030512000026 ┆ 947        ┆ -0.588362  │\n",
       "│ CS001515000291 ┆ 918        ┆ -0.599021  │\n",
       "│ CS019414000068 ┆ 7698       ┆ 1.893008   │\n",
       "│ CS015515000222 ┆ 3081       ┆ 0.196002   │\n",
       "│ CS029513000028 ┆ 1188       ┆ -0.499781  │\n",
       "└────────────────┴────────────┴────────────┘"
      ]
     },
     "execution_count": 19,
     "metadata": {},
     "output_type": "execute_result"
    }
   ],
   "source": [
    "df_receipt.filter(\n",
    "    pl.col.customer_id.str.starts_with('Z').not_()    \n",
    ").group_by(\n",
    "    'customer_id'\n",
    ").agg(\n",
    "    sum_amount=pl.col.amount.sum()\n",
    ").with_columns(\n",
    "    std_amount=(pl.col.sum_amount - pl.col.sum_amount.mean()) / pl.col.sum_amount.std()\n",
    ").head(10)"
   ]
  },
  {
   "cell_type": "markdown",
   "metadata": {},
   "source": [
    "### P-060\n",
    "\n",
    "レシート明細データ（df_receipt）の売上金額（amount）を顧客ID（customer_id）ごとに合計し、売上金額合計を最小値0、最大値1に正規化して顧客ID、売上金額合計とともに10件表示せよ。ただし、顧客IDが\"Z\"から始まるのものは非会員を表すため、除外して計算すること。"
   ]
  },
  {
   "cell_type": "code",
   "execution_count": 20,
   "metadata": {},
   "outputs": [
    {
     "data": {
      "text/html": [
       "<div><style>\n",
       ".dataframe > thead > tr,\n",
       ".dataframe > tbody > tr {\n",
       "  text-align: right;\n",
       "  white-space: pre-wrap;\n",
       "}\n",
       "</style>\n",
       "<small>shape: (10, 3)</small><table border=\"1\" class=\"dataframe\"><thead><tr><th>customer_id</th><th>sum_amount</th><th>std_amount</th></tr><tr><td>str</td><td>i64</td><td>f64</td></tr></thead><tbody><tr><td>&quot;CS040615000097&quot;</td><td>808</td><td>0.032065</td></tr><tr><td>&quot;CS020513000237&quot;</td><td>493</td><td>0.018379</td></tr><tr><td>&quot;CS037412000196&quot;</td><td>522</td><td>0.019639</td></tr><tr><td>&quot;CS011415000291&quot;</td><td>2427</td><td>0.102407</td></tr><tr><td>&quot;CS039412000034&quot;</td><td>226</td><td>0.006778</td></tr><tr><td>&quot;CS008615000035&quot;</td><td>679</td><td>0.02646</td></tr><tr><td>&quot;CS026512000023&quot;</td><td>563</td><td>0.02142</td></tr><tr><td>&quot;CS004513000566&quot;</td><td>1353</td><td>0.055744</td></tr><tr><td>&quot;CS010415000215&quot;</td><td>7486</td><td>0.322211</td></tr><tr><td>&quot;CS002415000053&quot;</td><td>2481</td><td>0.104753</td></tr></tbody></table></div>"
      ],
      "text/plain": [
       "shape: (10, 3)\n",
       "┌────────────────┬────────────┬────────────┐\n",
       "│ customer_id    ┆ sum_amount ┆ std_amount │\n",
       "│ ---            ┆ ---        ┆ ---        │\n",
       "│ str            ┆ i64        ┆ f64        │\n",
       "╞════════════════╪════════════╪════════════╡\n",
       "│ CS040615000097 ┆ 808        ┆ 0.032065   │\n",
       "│ CS020513000237 ┆ 493        ┆ 0.018379   │\n",
       "│ CS037412000196 ┆ 522        ┆ 0.019639   │\n",
       "│ CS011415000291 ┆ 2427       ┆ 0.102407   │\n",
       "│ CS039412000034 ┆ 226        ┆ 0.006778   │\n",
       "│ CS008615000035 ┆ 679        ┆ 0.02646    │\n",
       "│ CS026512000023 ┆ 563        ┆ 0.02142    │\n",
       "│ CS004513000566 ┆ 1353       ┆ 0.055744   │\n",
       "│ CS010415000215 ┆ 7486       ┆ 0.322211   │\n",
       "│ CS002415000053 ┆ 2481       ┆ 0.104753   │\n",
       "└────────────────┴────────────┴────────────┘"
      ]
     },
     "execution_count": 20,
     "metadata": {},
     "output_type": "execute_result"
    }
   ],
   "source": [
    "df_receipt.filter(\n",
    "    pl.col.customer_id.str.starts_with('Z').not_()    \n",
    ").group_by(\n",
    "    'customer_id'\n",
    ").agg(\n",
    "    sum_amount=pl.col.amount.sum()\n",
    ").with_columns(\n",
    "    std_amount=(pl.col.sum_amount - pl.col.sum_amount.min()) / (pl.col.sum_amount.max() - pl.col.sum_amount.min())\n",
    ").head(10)"
   ]
  },
  {
   "cell_type": "markdown",
   "metadata": {},
   "source": [
    "## 演習問題 061 ~ 070"
   ]
  },
  {
   "cell_type": "markdown",
   "metadata": {},
   "source": [
    "### P-061\n",
    "\n",
    "レシート明細データ（df_receipt）の売上金額（amount）を顧客ID（customer_id）ごとに合計し、売上金額合計を常用対数化（底10）して顧客ID、売上金額合計とともに10件表示せよ。ただし、顧客IDが\"Z\"から始まるのものは非会員を表すため、除外して計算すること。"
   ]
  },
  {
   "cell_type": "code",
   "execution_count": 4,
   "metadata": {},
   "outputs": [
    {
     "data": {
      "text/html": [
       "<div><style>\n",
       ".dataframe > thead > tr,\n",
       ".dataframe > tbody > tr {\n",
       "  text-align: right;\n",
       "  white-space: pre-wrap;\n",
       "}\n",
       "</style>\n",
       "<small>shape: (5, 3)</small><table border=\"1\" class=\"dataframe\"><thead><tr><th>customer_id</th><th>sum_amount</th><th>log_amount</th></tr><tr><td>str</td><td>i64</td><td>f64</td></tr></thead><tbody><tr><td>&quot;CS014115000001&quot;</td><td>1761</td><td>3.245883</td></tr><tr><td>&quot;CS013415000193&quot;</td><td>6831</td><td>3.834516</td></tr><tr><td>&quot;CS028515000164&quot;</td><td>5063</td><td>3.704451</td></tr><tr><td>&quot;CS023414000036&quot;</td><td>6346</td><td>3.802534</td></tr><tr><td>&quot;CS033515000117&quot;</td><td>4358</td><td>3.639337</td></tr></tbody></table></div>"
      ],
      "text/plain": [
       "shape: (5, 3)\n",
       "┌────────────────┬────────────┬────────────┐\n",
       "│ customer_id    ┆ sum_amount ┆ log_amount │\n",
       "│ ---            ┆ ---        ┆ ---        │\n",
       "│ str            ┆ i64        ┆ f64        │\n",
       "╞════════════════╪════════════╪════════════╡\n",
       "│ CS014115000001 ┆ 1761       ┆ 3.245883   │\n",
       "│ CS013415000193 ┆ 6831       ┆ 3.834516   │\n",
       "│ CS028515000164 ┆ 5063       ┆ 3.704451   │\n",
       "│ CS023414000036 ┆ 6346       ┆ 3.802534   │\n",
       "│ CS033515000117 ┆ 4358       ┆ 3.639337   │\n",
       "└────────────────┴────────────┴────────────┘"
      ]
     },
     "execution_count": 4,
     "metadata": {},
     "output_type": "execute_result"
    }
   ],
   "source": [
    "df_receipt.group_by('customer_id').agg(\n",
    "    pl.col.amount.sum().alias('sum_amount'),\n",
    "    (pl.col.amount.sum() + 0.5).log10().alias('log_amount')\n",
    ").head()"
   ]
  },
  {
   "cell_type": "markdown",
   "metadata": {},
   "source": [
    "### P-062\n",
    "\n",
    "レシート明細データ（df_receipt）の売上金額（amount）を顧客ID（customer_id）ごとに合計し、売上金額合計を自然対数化（底e）して顧客ID、売上金額合計とともに10件表示せよ。ただし、顧客IDが\"Z\"から始まるのものは非会員を表すため、除外して計算すること。"
   ]
  },
  {
   "cell_type": "code",
   "execution_count": 5,
   "metadata": {},
   "outputs": [
    {
     "data": {
      "text/html": [
       "<div><style>\n",
       ".dataframe > thead > tr,\n",
       ".dataframe > tbody > tr {\n",
       "  text-align: right;\n",
       "  white-space: pre-wrap;\n",
       "}\n",
       "</style>\n",
       "<small>shape: (5, 3)</small><table border=\"1\" class=\"dataframe\"><thead><tr><th>customer_id</th><th>sum_amount</th><th>log_amount</th></tr><tr><td>str</td><td>i64</td><td>f64</td></tr></thead><tbody><tr><td>&quot;CS032215000052&quot;</td><td>1989</td><td>7.595639</td></tr><tr><td>&quot;CS010514000045&quot;</td><td>1149</td><td>7.047082</td></tr><tr><td>&quot;CS003515000203&quot;</td><td>436</td><td>6.078788</td></tr><tr><td>&quot;CS035512000032&quot;</td><td>138</td><td>4.93087</td></tr><tr><td>&quot;CS021512000055&quot;</td><td>2290</td><td>7.736525</td></tr></tbody></table></div>"
      ],
      "text/plain": [
       "shape: (5, 3)\n",
       "┌────────────────┬────────────┬────────────┐\n",
       "│ customer_id    ┆ sum_amount ┆ log_amount │\n",
       "│ ---            ┆ ---        ┆ ---        │\n",
       "│ str            ┆ i64        ┆ f64        │\n",
       "╞════════════════╪════════════╪════════════╡\n",
       "│ CS032215000052 ┆ 1989       ┆ 7.595639   │\n",
       "│ CS010514000045 ┆ 1149       ┆ 7.047082   │\n",
       "│ CS003515000203 ┆ 436        ┆ 6.078788   │\n",
       "│ CS035512000032 ┆ 138        ┆ 4.93087    │\n",
       "│ CS021512000055 ┆ 2290       ┆ 7.736525   │\n",
       "└────────────────┴────────────┴────────────┘"
      ]
     },
     "execution_count": 5,
     "metadata": {},
     "output_type": "execute_result"
    }
   ],
   "source": [
    "df_receipt.group_by('customer_id').agg(\n",
    "    pl.col.amount.sum().alias('sum_amount'),\n",
    "    (pl.col.amount.sum() + 0.5).log().alias('log_amount')\n",
    ").head()"
   ]
  },
  {
   "cell_type": "markdown",
   "metadata": {},
   "source": [
    "### P-063\n",
    "\n",
    "商品データ（df_product）の単価（unit_price）と原価（unit_cost）から各商品の利益額を算出し、結果を10件表示せよ。"
   ]
  },
  {
   "cell_type": "code",
   "execution_count": 7,
   "metadata": {},
   "outputs": [
    {
     "data": {
      "text/html": [
       "<div><style>\n",
       ".dataframe > thead > tr,\n",
       ".dataframe > tbody > tr {\n",
       "  text-align: right;\n",
       "  white-space: pre-wrap;\n",
       "}\n",
       "</style>\n",
       "<small>shape: (5, 4)</small><table border=\"1\" class=\"dataframe\"><thead><tr><th>product_cd</th><th>unit_price</th><th>unit_cost</th><th>unit_profit</th></tr><tr><td>str</td><td>i64</td><td>i64</td><td>i64</td></tr></thead><tbody><tr><td>&quot;P040101001&quot;</td><td>198</td><td>149</td><td>49</td></tr><tr><td>&quot;P040101002&quot;</td><td>218</td><td>164</td><td>54</td></tr><tr><td>&quot;P040101003&quot;</td><td>230</td><td>173</td><td>57</td></tr><tr><td>&quot;P040101004&quot;</td><td>248</td><td>186</td><td>62</td></tr><tr><td>&quot;P040101005&quot;</td><td>268</td><td>201</td><td>67</td></tr></tbody></table></div>"
      ],
      "text/plain": [
       "shape: (5, 4)\n",
       "┌────────────┬────────────┬───────────┬─────────────┐\n",
       "│ product_cd ┆ unit_price ┆ unit_cost ┆ unit_profit │\n",
       "│ ---        ┆ ---        ┆ ---       ┆ ---         │\n",
       "│ str        ┆ i64        ┆ i64       ┆ i64         │\n",
       "╞════════════╪════════════╪═══════════╪═════════════╡\n",
       "│ P040101001 ┆ 198        ┆ 149       ┆ 49          │\n",
       "│ P040101002 ┆ 218        ┆ 164       ┆ 54          │\n",
       "│ P040101003 ┆ 230        ┆ 173       ┆ 57          │\n",
       "│ P040101004 ┆ 248        ┆ 186       ┆ 62          │\n",
       "│ P040101005 ┆ 268        ┆ 201       ┆ 67          │\n",
       "└────────────┴────────────┴───────────┴─────────────┘"
      ]
     },
     "execution_count": 7,
     "metadata": {},
     "output_type": "execute_result"
    }
   ],
   "source": [
    "df_product.select(\n",
    "    pl.col.product_cd,\n",
    "    pl.col.unit_price,\n",
    "    pl.col.unit_cost,\n",
    "    (pl.col.unit_price - pl.col.unit_cost).alias('unit_profit')\n",
    ").head()"
   ]
  },
  {
   "cell_type": "markdown",
   "metadata": {},
   "source": [
    "### P-064 \n",
    "\n",
    "商品データ（df_product）の単価（unit_price）と原価（unit_cost）から、各商品の利益率の全体平均を算出せよ。ただし、単価と原価には欠損が生じていることに注意せよ。"
   ]
  },
  {
   "cell_type": "code",
   "execution_count": 9,
   "metadata": {},
   "outputs": [
    {
     "data": {
      "text/plain": [
       "0.24911389885177007"
      ]
     },
     "execution_count": 9,
     "metadata": {},
     "output_type": "execute_result"
    }
   ],
   "source": [
    "df_product.select(\n",
    "    ((pl.col.unit_price - pl.col.unit_cost) / pl.col.unit_price).mean()\n",
    ").item()"
   ]
  },
  {
   "cell_type": "markdown",
   "metadata": {},
   "source": [
    "### P-065\n",
    "\n",
    "商品データ（df_product）の各商品について、利益率が30%となる新たな単価を求めよ。ただし、1円未満は切り捨てること。そして結果を10件表示させ、利益率がおよそ30％付近であることを確認せよ。ただし、単価（unit_price）と原価（unit_cost）には欠損が生じていることに注意せよ。"
   ]
  },
  {
   "cell_type": "code",
   "execution_count": 2,
   "metadata": {},
   "outputs": [
    {
     "data": {
      "text/html": [
       "<div><style>\n",
       ".dataframe > thead > tr,\n",
       ".dataframe > tbody > tr {\n",
       "  text-align: right;\n",
       "  white-space: pre-wrap;\n",
       "}\n",
       "</style>\n",
       "<small>shape: (10, 5)</small><table border=\"1\" class=\"dataframe\"><thead><tr><th>product_cd</th><th>unit_price</th><th>unit_cost</th><th>new_price</th><th>new_profit_rate</th></tr><tr><td>str</td><td>i64</td><td>i64</td><td>i32</td><td>f64</td></tr></thead><tbody><tr><td>&quot;P040101001&quot;</td><td>198</td><td>149</td><td>212</td><td>0.29717</td></tr><tr><td>&quot;P040101002&quot;</td><td>218</td><td>164</td><td>234</td><td>0.299145</td></tr><tr><td>&quot;P040101003&quot;</td><td>230</td><td>173</td><td>247</td><td>0.299595</td></tr><tr><td>&quot;P040101004&quot;</td><td>248</td><td>186</td><td>265</td><td>0.298113</td></tr><tr><td>&quot;P040101005&quot;</td><td>268</td><td>201</td><td>287</td><td>0.299652</td></tr><tr><td>&quot;P040101006&quot;</td><td>298</td><td>224</td><td>320</td><td>0.3</td></tr><tr><td>&quot;P040101007&quot;</td><td>338</td><td>254</td><td>362</td><td>0.298343</td></tr><tr><td>&quot;P040101008&quot;</td><td>420</td><td>315</td><td>450</td><td>0.3</td></tr><tr><td>&quot;P040101009&quot;</td><td>498</td><td>374</td><td>534</td><td>0.299625</td></tr><tr><td>&quot;P040101010&quot;</td><td>580</td><td>435</td><td>621</td><td>0.299517</td></tr></tbody></table></div>"
      ],
      "text/plain": [
       "shape: (10, 5)\n",
       "┌────────────┬────────────┬───────────┬───────────┬─────────────────┐\n",
       "│ product_cd ┆ unit_price ┆ unit_cost ┆ new_price ┆ new_profit_rate │\n",
       "│ ---        ┆ ---        ┆ ---       ┆ ---       ┆ ---             │\n",
       "│ str        ┆ i64        ┆ i64       ┆ i32       ┆ f64             │\n",
       "╞════════════╪════════════╪═══════════╪═══════════╪═════════════════╡\n",
       "│ P040101001 ┆ 198        ┆ 149       ┆ 212       ┆ 0.29717         │\n",
       "│ P040101002 ┆ 218        ┆ 164       ┆ 234       ┆ 0.299145        │\n",
       "│ P040101003 ┆ 230        ┆ 173       ┆ 247       ┆ 0.299595        │\n",
       "│ P040101004 ┆ 248        ┆ 186       ┆ 265       ┆ 0.298113        │\n",
       "│ P040101005 ┆ 268        ┆ 201       ┆ 287       ┆ 0.299652        │\n",
       "│ P040101006 ┆ 298        ┆ 224       ┆ 320       ┆ 0.3             │\n",
       "│ P040101007 ┆ 338        ┆ 254       ┆ 362       ┆ 0.298343        │\n",
       "│ P040101008 ┆ 420        ┆ 315       ┆ 450       ┆ 0.3             │\n",
       "│ P040101009 ┆ 498        ┆ 374       ┆ 534       ┆ 0.299625        │\n",
       "│ P040101010 ┆ 580        ┆ 435       ┆ 621       ┆ 0.299517        │\n",
       "└────────────┴────────────┴───────────┴───────────┴─────────────────┘"
      ]
     },
     "execution_count": 2,
     "metadata": {},
     "output_type": "execute_result"
    }
   ],
   "source": [
    "df_product.select(\n",
    "    pl.col.product_cd,\n",
    "    pl.col.unit_price,\n",
    "    pl.col.unit_cost,\n",
    "    (pl.col.unit_cost / 0.7).floor().cast(pl.Int32).alias('new_price')\n",
    ").with_columns(\n",
    "    new_profit_rate=(pl.col.new_price - pl.col.unit_cost) / pl.col.new_price\n",
    ").head(10)"
   ]
  },
  {
   "cell_type": "markdown",
   "metadata": {},
   "source": [
    "### P-066\n",
    "\n",
    "商品データ（df_product）の各商品について、利益率が30%となる新たな単価を求めよ。今回は、1円未満を丸めること（四捨五入または偶数への丸めで良い）。そして結果を10件表示させ、利益率がおよそ30％付近であることを確認せよ。ただし、単価（unit_price）と原価（unit_cost）には欠損が生じていることに注意せよ。"
   ]
  },
  {
   "cell_type": "code",
   "execution_count": 4,
   "metadata": {},
   "outputs": [
    {
     "data": {
      "text/html": [
       "<div><style>\n",
       ".dataframe > thead > tr,\n",
       ".dataframe > tbody > tr {\n",
       "  text-align: right;\n",
       "  white-space: pre-wrap;\n",
       "}\n",
       "</style>\n",
       "<small>shape: (10, 5)</small><table border=\"1\" class=\"dataframe\"><thead><tr><th>product_cd</th><th>unit_price</th><th>unit_cost</th><th>new_price</th><th>new_profit_rate</th></tr><tr><td>str</td><td>i64</td><td>i64</td><td>i32</td><td>f64</td></tr></thead><tbody><tr><td>&quot;P040101001&quot;</td><td>198</td><td>149</td><td>213</td><td>0.300469</td></tr><tr><td>&quot;P040101002&quot;</td><td>218</td><td>164</td><td>234</td><td>0.299145</td></tr><tr><td>&quot;P040101003&quot;</td><td>230</td><td>173</td><td>247</td><td>0.299595</td></tr><tr><td>&quot;P040101004&quot;</td><td>248</td><td>186</td><td>266</td><td>0.300752</td></tr><tr><td>&quot;P040101005&quot;</td><td>268</td><td>201</td><td>287</td><td>0.299652</td></tr><tr><td>&quot;P040101006&quot;</td><td>298</td><td>224</td><td>320</td><td>0.3</td></tr><tr><td>&quot;P040101007&quot;</td><td>338</td><td>254</td><td>363</td><td>0.300275</td></tr><tr><td>&quot;P040101008&quot;</td><td>420</td><td>315</td><td>450</td><td>0.3</td></tr><tr><td>&quot;P040101009&quot;</td><td>498</td><td>374</td><td>534</td><td>0.299625</td></tr><tr><td>&quot;P040101010&quot;</td><td>580</td><td>435</td><td>621</td><td>0.299517</td></tr></tbody></table></div>"
      ],
      "text/plain": [
       "shape: (10, 5)\n",
       "┌────────────┬────────────┬───────────┬───────────┬─────────────────┐\n",
       "│ product_cd ┆ unit_price ┆ unit_cost ┆ new_price ┆ new_profit_rate │\n",
       "│ ---        ┆ ---        ┆ ---       ┆ ---       ┆ ---             │\n",
       "│ str        ┆ i64        ┆ i64       ┆ i32       ┆ f64             │\n",
       "╞════════════╪════════════╪═══════════╪═══════════╪═════════════════╡\n",
       "│ P040101001 ┆ 198        ┆ 149       ┆ 213       ┆ 0.300469        │\n",
       "│ P040101002 ┆ 218        ┆ 164       ┆ 234       ┆ 0.299145        │\n",
       "│ P040101003 ┆ 230        ┆ 173       ┆ 247       ┆ 0.299595        │\n",
       "│ P040101004 ┆ 248        ┆ 186       ┆ 266       ┆ 0.300752        │\n",
       "│ P040101005 ┆ 268        ┆ 201       ┆ 287       ┆ 0.299652        │\n",
       "│ P040101006 ┆ 298        ┆ 224       ┆ 320       ┆ 0.3             │\n",
       "│ P040101007 ┆ 338        ┆ 254       ┆ 363       ┆ 0.300275        │\n",
       "│ P040101008 ┆ 420        ┆ 315       ┆ 450       ┆ 0.3             │\n",
       "│ P040101009 ┆ 498        ┆ 374       ┆ 534       ┆ 0.299625        │\n",
       "│ P040101010 ┆ 580        ┆ 435       ┆ 621       ┆ 0.299517        │\n",
       "└────────────┴────────────┴───────────┴───────────┴─────────────────┘"
      ]
     },
     "execution_count": 4,
     "metadata": {},
     "output_type": "execute_result"
    }
   ],
   "source": [
    "df_product.select(\n",
    "    pl.col.product_cd,\n",
    "    pl.col.unit_price,\n",
    "    pl.col.unit_cost,\n",
    "    (pl.col.unit_cost / 0.7).round().cast(pl.Int32).alias('new_price')\n",
    ").with_columns(\n",
    "    new_profit_rate=(pl.col.new_price - pl.col.unit_cost) / pl.col.new_price\n",
    ").head(10)"
   ]
  },
  {
   "cell_type": "markdown",
   "metadata": {},
   "source": [
    "### P-067\n",
    "\n",
    "商品データ（df_product）の各商品について、利益率が30%となる新たな単価を求めよ。今回は、1円未満を切り上げること。そして結果を10件表示させ、利益率がおよそ30％付近であることを確認せよ。ただし、単価（unit_price）と原価（unit_cost）には欠損が生じていることに注意せよ。"
   ]
  },
  {
   "cell_type": "code",
   "execution_count": 6,
   "metadata": {},
   "outputs": [
    {
     "data": {
      "text/html": [
       "<div><style>\n",
       ".dataframe > thead > tr,\n",
       ".dataframe > tbody > tr {\n",
       "  text-align: right;\n",
       "  white-space: pre-wrap;\n",
       "}\n",
       "</style>\n",
       "<small>shape: (10, 5)</small><table border=\"1\" class=\"dataframe\"><thead><tr><th>product_cd</th><th>unit_price</th><th>unit_cost</th><th>new_price</th><th>new_profit_rate</th></tr><tr><td>str</td><td>i64</td><td>i64</td><td>i32</td><td>f64</td></tr></thead><tbody><tr><td>&quot;P040101001&quot;</td><td>198</td><td>149</td><td>213</td><td>0.300469</td></tr><tr><td>&quot;P040101002&quot;</td><td>218</td><td>164</td><td>235</td><td>0.302128</td></tr><tr><td>&quot;P040101003&quot;</td><td>230</td><td>173</td><td>248</td><td>0.302419</td></tr><tr><td>&quot;P040101004&quot;</td><td>248</td><td>186</td><td>266</td><td>0.300752</td></tr><tr><td>&quot;P040101005&quot;</td><td>268</td><td>201</td><td>288</td><td>0.302083</td></tr><tr><td>&quot;P040101006&quot;</td><td>298</td><td>224</td><td>320</td><td>0.3</td></tr><tr><td>&quot;P040101007&quot;</td><td>338</td><td>254</td><td>363</td><td>0.300275</td></tr><tr><td>&quot;P040101008&quot;</td><td>420</td><td>315</td><td>451</td><td>0.301552</td></tr><tr><td>&quot;P040101009&quot;</td><td>498</td><td>374</td><td>535</td><td>0.300935</td></tr><tr><td>&quot;P040101010&quot;</td><td>580</td><td>435</td><td>622</td><td>0.300643</td></tr></tbody></table></div>"
      ],
      "text/plain": [
       "shape: (10, 5)\n",
       "┌────────────┬────────────┬───────────┬───────────┬─────────────────┐\n",
       "│ product_cd ┆ unit_price ┆ unit_cost ┆ new_price ┆ new_profit_rate │\n",
       "│ ---        ┆ ---        ┆ ---       ┆ ---       ┆ ---             │\n",
       "│ str        ┆ i64        ┆ i64       ┆ i32       ┆ f64             │\n",
       "╞════════════╪════════════╪═══════════╪═══════════╪═════════════════╡\n",
       "│ P040101001 ┆ 198        ┆ 149       ┆ 213       ┆ 0.300469        │\n",
       "│ P040101002 ┆ 218        ┆ 164       ┆ 235       ┆ 0.302128        │\n",
       "│ P040101003 ┆ 230        ┆ 173       ┆ 248       ┆ 0.302419        │\n",
       "│ P040101004 ┆ 248        ┆ 186       ┆ 266       ┆ 0.300752        │\n",
       "│ P040101005 ┆ 268        ┆ 201       ┆ 288       ┆ 0.302083        │\n",
       "│ P040101006 ┆ 298        ┆ 224       ┆ 320       ┆ 0.3             │\n",
       "│ P040101007 ┆ 338        ┆ 254       ┆ 363       ┆ 0.300275        │\n",
       "│ P040101008 ┆ 420        ┆ 315       ┆ 451       ┆ 0.301552        │\n",
       "│ P040101009 ┆ 498        ┆ 374       ┆ 535       ┆ 0.300935        │\n",
       "│ P040101010 ┆ 580        ┆ 435       ┆ 622       ┆ 0.300643        │\n",
       "└────────────┴────────────┴───────────┴───────────┴─────────────────┘"
      ]
     },
     "execution_count": 6,
     "metadata": {},
     "output_type": "execute_result"
    }
   ],
   "source": [
    "df_product.select(\n",
    "    pl.col.product_cd,\n",
    "    pl.col.unit_price,\n",
    "    pl.col.unit_cost,\n",
    "    (pl.col.unit_cost / 0.7).ceil().cast(pl.Int32).alias('new_price')\n",
    ").with_columns(\n",
    "    new_profit_rate=(pl.col.new_price - pl.col.unit_cost) / pl.col.new_price\n",
    ").head(10)"
   ]
  },
  {
   "cell_type": "markdown",
   "metadata": {},
   "source": [
    "### P-068\n",
    "\n",
    "商品データ（df_product）の各商品について、消費税率10％の税込み金額を求めよ。1円未満の端数は切り捨てとし、結果を10件表示せよ。ただし、単価（unit_price）には欠損が生じていることに注意せよ。"
   ]
  },
  {
   "cell_type": "code",
   "execution_count": 10,
   "metadata": {},
   "outputs": [
    {
     "data": {
      "text/html": [
       "<div><style>\n",
       ".dataframe > thead > tr,\n",
       ".dataframe > tbody > tr {\n",
       "  text-align: right;\n",
       "  white-space: pre-wrap;\n",
       "}\n",
       "</style>\n",
       "<small>shape: (10, 3)</small><table border=\"1\" class=\"dataframe\"><thead><tr><th>product_cd</th><th>unit_price</th><th>tex_price</th></tr><tr><td>str</td><td>i64</td><td>i32</td></tr></thead><tbody><tr><td>&quot;P040101001&quot;</td><td>198</td><td>217</td></tr><tr><td>&quot;P040101002&quot;</td><td>218</td><td>239</td></tr><tr><td>&quot;P040101003&quot;</td><td>230</td><td>253</td></tr><tr><td>&quot;P040101004&quot;</td><td>248</td><td>272</td></tr><tr><td>&quot;P040101005&quot;</td><td>268</td><td>294</td></tr><tr><td>&quot;P040101006&quot;</td><td>298</td><td>327</td></tr><tr><td>&quot;P040101007&quot;</td><td>338</td><td>371</td></tr><tr><td>&quot;P040101008&quot;</td><td>420</td><td>462</td></tr><tr><td>&quot;P040101009&quot;</td><td>498</td><td>547</td></tr><tr><td>&quot;P040101010&quot;</td><td>580</td><td>638</td></tr></tbody></table></div>"
      ],
      "text/plain": [
       "shape: (10, 3)\n",
       "┌────────────┬────────────┬───────────┐\n",
       "│ product_cd ┆ unit_price ┆ tex_price │\n",
       "│ ---        ┆ ---        ┆ ---       │\n",
       "│ str        ┆ i64        ┆ i32       │\n",
       "╞════════════╪════════════╪═══════════╡\n",
       "│ P040101001 ┆ 198        ┆ 217       │\n",
       "│ P040101002 ┆ 218        ┆ 239       │\n",
       "│ P040101003 ┆ 230        ┆ 253       │\n",
       "│ P040101004 ┆ 248        ┆ 272       │\n",
       "│ P040101005 ┆ 268        ┆ 294       │\n",
       "│ P040101006 ┆ 298        ┆ 327       │\n",
       "│ P040101007 ┆ 338        ┆ 371       │\n",
       "│ P040101008 ┆ 420        ┆ 462       │\n",
       "│ P040101009 ┆ 498        ┆ 547       │\n",
       "│ P040101010 ┆ 580        ┆ 638       │\n",
       "└────────────┴────────────┴───────────┘"
      ]
     },
     "execution_count": 10,
     "metadata": {},
     "output_type": "execute_result"
    }
   ],
   "source": [
    "df_product.select(\n",
    "    pl.col.product_cd,\n",
    "    pl.col.unit_price,\n",
    "    (pl.col.unit_price * 1.1).floor().cast(pl.Int32).alias('tex_price')\n",
    ").head(10)"
   ]
  },
  {
   "cell_type": "markdown",
   "metadata": {},
   "source": [
    "### P-069\n",
    "\n",
    "レシート明細データ（df_receipt）と商品データ（df_product）を結合し、顧客毎に全商品の売上金額合計と、カテゴリ大区分コード（category_major_cd）が\"07\"（瓶詰缶詰）の売上金額合計を計算の上、両者の比率を求めよ。抽出対象はカテゴリ大区分コード\"07\"（瓶詰缶詰）の売上実績がある顧客のみとし、結果を10件表示せよ。"
   ]
  },
  {
   "cell_type": "code",
   "execution_count": 16,
   "metadata": {},
   "outputs": [
    {
     "data": {
      "text/html": [
       "<div><style>\n",
       ".dataframe > thead > tr,\n",
       ".dataframe > tbody > tr {\n",
       "  text-align: right;\n",
       "  white-space: pre-wrap;\n",
       "}\n",
       "</style>\n",
       "<small>shape: (10, 4)</small><table border=\"1\" class=\"dataframe\"><thead><tr><th>customer_id</th><th>sum_all</th><th>sum_07</th><th>sales_rate</th></tr><tr><td>str</td><td>i64</td><td>i64</td><td>f64</td></tr></thead><tbody><tr><td>&quot;CS006214000001&quot;</td><td>7364</td><td>4713</td><td>0.640005</td></tr><tr><td>&quot;CS008415000097&quot;</td><td>1895</td><td>1337</td><td>0.705541</td></tr><tr><td>&quot;CS028414000014&quot;</td><td>6222</td><td>3701</td><td>0.594825</td></tr><tr><td>&quot;ZZ000000000000&quot;</td><td>12395003</td><td>6943009</td><td>0.560146</td></tr><tr><td>&quot;CS025415000050&quot;</td><td>5736</td><td>3536</td><td>0.616457</td></tr><tr><td>&quot;CS003515000195&quot;</td><td>5412</td><td>4581</td><td>0.846452</td></tr><tr><td>&quot;CS024514000042&quot;</td><td>533</td><td>0</td><td>0.0</td></tr><tr><td>&quot;CS040415000178&quot;</td><td>6149</td><td>4802</td><td>0.78094</td></tr><tr><td>&quot;CS027514000015&quot;</td><td>2788</td><td>1475</td><td>0.529053</td></tr><tr><td>&quot;CS025415000134&quot;</td><td>4902</td><td>3430</td><td>0.699714</td></tr></tbody></table></div>"
      ],
      "text/plain": [
       "shape: (10, 4)\n",
       "┌────────────────┬──────────┬─────────┬────────────┐\n",
       "│ customer_id    ┆ sum_all  ┆ sum_07  ┆ sales_rate │\n",
       "│ ---            ┆ ---      ┆ ---     ┆ ---        │\n",
       "│ str            ┆ i64      ┆ i64     ┆ f64        │\n",
       "╞════════════════╪══════════╪═════════╪════════════╡\n",
       "│ CS006214000001 ┆ 7364     ┆ 4713    ┆ 0.640005   │\n",
       "│ CS008415000097 ┆ 1895     ┆ 1337    ┆ 0.705541   │\n",
       "│ CS028414000014 ┆ 6222     ┆ 3701    ┆ 0.594825   │\n",
       "│ ZZ000000000000 ┆ 12395003 ┆ 6943009 ┆ 0.560146   │\n",
       "│ CS025415000050 ┆ 5736     ┆ 3536    ┆ 0.616457   │\n",
       "│ CS003515000195 ┆ 5412     ┆ 4581    ┆ 0.846452   │\n",
       "│ CS024514000042 ┆ 533      ┆ 0       ┆ 0.0        │\n",
       "│ CS040415000178 ┆ 6149     ┆ 4802    ┆ 0.78094    │\n",
       "│ CS027514000015 ┆ 2788     ┆ 1475    ┆ 0.529053   │\n",
       "│ CS025415000134 ┆ 4902     ┆ 3430    ┆ 0.699714   │\n",
       "└────────────────┴──────────┴─────────┴────────────┘"
      ]
     },
     "execution_count": 16,
     "metadata": {},
     "output_type": "execute_result"
    }
   ],
   "source": [
    "df_receipt.join(\n",
    "    df_product, on='product_cd', how='left'\n",
    ").group_by(\n",
    "    'customer_id', maintain_order=True\n",
    ").agg(\n",
    "    sum_all=pl.col.amount.sum(),\n",
    "    sum_07=pl.col.amount.filter(pl.col.category_major_cd == '07').sum()\n",
    ").with_columns(\n",
    "    sales_rate=pl.col.sum_07 / pl.col.sum_all\n",
    ").head(10)"
   ]
  },
  {
   "cell_type": "markdown",
   "metadata": {},
   "source": [
    "### P-070\n",
    "\n",
    "レシート明細データ（df_receipt）の売上日（sales_ymd）に対し、顧客データ（df_customer）の会員申込日（application_date）からの経過日数を計算し、顧客ID（customer_id）、売上日、会員申込日とともに10件表示せよ（sales_ymdは数値、application_dateは文字列でデータを保持している点に注意）。"
   ]
  },
  {
   "cell_type": "code",
   "execution_count": 28,
   "metadata": {},
   "outputs": [
    {
     "data": {
      "text/html": [
       "<div><style>\n",
       ".dataframe > thead > tr,\n",
       ".dataframe > tbody > tr {\n",
       "  text-align: right;\n",
       "  white-space: pre-wrap;\n",
       "}\n",
       "</style>\n",
       "<small>shape: (5, 4)</small><table border=\"1\" class=\"dataframe\"><thead><tr><th>customer_id</th><th>sales_ymd</th><th>application_date</th><th>elapsed_days</th></tr><tr><td>str</td><td>date</td><td>date</td><td>i64</td></tr></thead><tbody><tr><td>&quot;CS012515000143&quot;</td><td>2019-05-23</td><td>2015-05-13</td><td>1471</td></tr><tr><td>&quot;CS015415000120&quot;</td><td>2017-10-01</td><td>2015-09-28</td><td>734</td></tr><tr><td>&quot;CS027414000084&quot;</td><td>2019-08-17</td><td>2015-03-17</td><td>1614</td></tr><tr><td>&quot;CS014414000032&quot;</td><td>2017-04-27</td><td>2015-03-14</td><td>775</td></tr><tr><td>&quot;CS019215000046&quot;</td><td>2018-08-19</td><td>2015-07-18</td><td>1128</td></tr></tbody></table></div>"
      ],
      "text/plain": [
       "shape: (5, 4)\n",
       "┌────────────────┬────────────┬──────────────────┬──────────────┐\n",
       "│ customer_id    ┆ sales_ymd  ┆ application_date ┆ elapsed_days │\n",
       "│ ---            ┆ ---        ┆ ---              ┆ ---          │\n",
       "│ str            ┆ date       ┆ date             ┆ i64          │\n",
       "╞════════════════╪════════════╪══════════════════╪══════════════╡\n",
       "│ CS012515000143 ┆ 2019-05-23 ┆ 2015-05-13       ┆ 1471         │\n",
       "│ CS015415000120 ┆ 2017-10-01 ┆ 2015-09-28       ┆ 734          │\n",
       "│ CS027414000084 ┆ 2019-08-17 ┆ 2015-03-17       ┆ 1614         │\n",
       "│ CS014414000032 ┆ 2017-04-27 ┆ 2015-03-14       ┆ 775          │\n",
       "│ CS019215000046 ┆ 2018-08-19 ┆ 2015-07-18       ┆ 1128         │\n",
       "└────────────────┴────────────┴──────────────────┴──────────────┘"
      ]
     },
     "execution_count": 28,
     "metadata": {},
     "output_type": "execute_result"
    }
   ],
   "source": [
    "df_receipt.select('customer_id', 'sales_ymd').unique().join(\n",
    "    df_customer, on='customer_id'\n",
    ").select(\n",
    "    pl.col.customer_id,\n",
    "    pl.col.sales_ymd.cast(str).str.strptime(pl.Date, '%Y%m%d'),\n",
    "    pl.col.application_date.cast(str).str.strptime(pl.Date, '%Y%m%d')\n",
    ").with_columns(\n",
    "    elapsed_days=(pl.col.sales_ymd - pl.col.application_date).dt.total_days()\n",
    ").head()"
   ]
  },
  {
   "cell_type": "markdown",
   "metadata": {},
   "source": [
    "## 演習問題 071 ~ 080"
   ]
  },
  {
   "cell_type": "markdown",
   "metadata": {},
   "source": [
    "### P-071\n",
    "\n",
    "レシート明細データ（df_receipt）の売上日（sales_ymd）に対し、顧客データ（df_customer）の会員申込日（application_date）からの経過月数を計算し、顧客ID（customer_id）、売上日、会員申込日とともに10件表示せよ（sales_ymdは数値、application_dateは文字列でデータを保持している点に注意）。1ヶ月未満は切り捨てること。"
   ]
  },
  {
   "cell_type": "code",
   "execution_count": 37,
   "metadata": {},
   "outputs": [
    {
     "data": {
      "text/html": [
       "<div><style>\n",
       ".dataframe > thead > tr,\n",
       ".dataframe > tbody > tr {\n",
       "  text-align: right;\n",
       "  white-space: pre-wrap;\n",
       "}\n",
       "</style>\n",
       "<small>shape: (5, 4)</small><table border=\"1\" class=\"dataframe\"><thead><tr><th>customer_id</th><th>sales_ymd</th><th>application_date</th><th>elapsed_months</th></tr><tr><td>str</td><td>date</td><td>date</td><td>i32</td></tr></thead><tbody><tr><td>&quot;CS040415000178&quot;</td><td>2019-09-22</td><td>2015-06-27</td><td>51</td></tr><tr><td>&quot;CS025415000134&quot;</td><td>2019-09-18</td><td>2015-07-20</td><td>50</td></tr><tr><td>&quot;CS026615000085&quot;</td><td>2018-11-01</td><td>2015-08-02</td><td>39</td></tr><tr><td>&quot;CS038614000007&quot;</td><td>2017-07-29</td><td>2015-05-12</td><td>26</td></tr><tr><td>&quot;CS015415000061&quot;</td><td>2017-11-12</td><td>2015-05-28</td><td>30</td></tr></tbody></table></div>"
      ],
      "text/plain": [
       "shape: (5, 4)\n",
       "┌────────────────┬────────────┬──────────────────┬────────────────┐\n",
       "│ customer_id    ┆ sales_ymd  ┆ application_date ┆ elapsed_months │\n",
       "│ ---            ┆ ---        ┆ ---              ┆ ---            │\n",
       "│ str            ┆ date       ┆ date             ┆ i32            │\n",
       "╞════════════════╪════════════╪══════════════════╪════════════════╡\n",
       "│ CS040415000178 ┆ 2019-09-22 ┆ 2015-06-27       ┆ 51             │\n",
       "│ CS025415000134 ┆ 2019-09-18 ┆ 2015-07-20       ┆ 50             │\n",
       "│ CS026615000085 ┆ 2018-11-01 ┆ 2015-08-02       ┆ 39             │\n",
       "│ CS038614000007 ┆ 2017-07-29 ┆ 2015-05-12       ┆ 26             │\n",
       "│ CS015415000061 ┆ 2017-11-12 ┆ 2015-05-28       ┆ 30             │\n",
       "└────────────────┴────────────┴──────────────────┴────────────────┘"
      ]
     },
     "execution_count": 37,
     "metadata": {},
     "output_type": "execute_result"
    }
   ],
   "source": [
    "df_receipt.select('customer_id', 'sales_ymd').unique(keep='first').join(\n",
    "    df_customer, on='customer_id'\n",
    ").select(\n",
    "    pl.col.customer_id,\n",
    "    pl.col.sales_ymd.cast(str).str.strptime(pl.Date, '%Y%m%d'),\n",
    "    pl.col.application_date.cast(str).str.strptime(pl.Date, '%Y%m%d')\n",
    ").with_columns(\n",
    "    elapsed_months=(pl.col.sales_ymd.dt.year() - pl.col.application_date.dt.year()) * 12 +\n",
    "                   (pl.col.sales_ymd.dt.month() - pl.col.application_date.dt.month())\n",
    ").head()"
   ]
  },
  {
   "cell_type": "markdown",
   "metadata": {},
   "source": [
    "### P-072\n",
    "\n",
    "レシート明細データ（df_receipt）の売上日（df_customer）に対し、顧客データ（df_customer）の会員申込日（application_date）からの経過年数を計算し、顧客ID（customer_id）、売上日、会員申込日とともに10件表示せよ（sales_ymdは数値、application_dateは文字列でデータを保持している点に注意）。1年未満は切り捨てること。"
   ]
  },
  {
   "cell_type": "code",
   "execution_count": 38,
   "metadata": {},
   "outputs": [
    {
     "data": {
      "text/html": [
       "<div><style>\n",
       ".dataframe > thead > tr,\n",
       ".dataframe > tbody > tr {\n",
       "  text-align: right;\n",
       "  white-space: pre-wrap;\n",
       "}\n",
       "</style>\n",
       "<small>shape: (5, 4)</small><table border=\"1\" class=\"dataframe\"><thead><tr><th>customer_id</th><th>sales_ymd</th><th>application_date</th><th>elapsed_years</th></tr><tr><td>str</td><td>date</td><td>date</td><td>i32</td></tr></thead><tbody><tr><td>&quot;CS039414000052&quot;</td><td>2018-05-06</td><td>2015-05-09</td><td>3</td></tr><tr><td>&quot;CS019412000185&quot;</td><td>2018-02-24</td><td>2015-04-16</td><td>3</td></tr><tr><td>&quot;CS022414000065&quot;</td><td>2019-03-12</td><td>2015-08-06</td><td>4</td></tr><tr><td>&quot;CS003515000131&quot;</td><td>2019-02-15</td><td>2015-09-03</td><td>4</td></tr><tr><td>&quot;CS010513000187&quot;</td><td>2019-08-08</td><td>2015-07-10</td><td>4</td></tr></tbody></table></div>"
      ],
      "text/plain": [
       "shape: (5, 4)\n",
       "┌────────────────┬────────────┬──────────────────┬───────────────┐\n",
       "│ customer_id    ┆ sales_ymd  ┆ application_date ┆ elapsed_years │\n",
       "│ ---            ┆ ---        ┆ ---              ┆ ---           │\n",
       "│ str            ┆ date       ┆ date             ┆ i32           │\n",
       "╞════════════════╪════════════╪══════════════════╪═══════════════╡\n",
       "│ CS039414000052 ┆ 2018-05-06 ┆ 2015-05-09       ┆ 3             │\n",
       "│ CS019412000185 ┆ 2018-02-24 ┆ 2015-04-16       ┆ 3             │\n",
       "│ CS022414000065 ┆ 2019-03-12 ┆ 2015-08-06       ┆ 4             │\n",
       "│ CS003515000131 ┆ 2019-02-15 ┆ 2015-09-03       ┆ 4             │\n",
       "│ CS010513000187 ┆ 2019-08-08 ┆ 2015-07-10       ┆ 4             │\n",
       "└────────────────┴────────────┴──────────────────┴───────────────┘"
      ]
     },
     "execution_count": 38,
     "metadata": {},
     "output_type": "execute_result"
    }
   ],
   "source": [
    "df_receipt.select('customer_id', 'sales_ymd').unique(keep='first').join(\n",
    "    df_customer, on='customer_id'\n",
    ").select(\n",
    "    pl.col.customer_id,\n",
    "    pl.col.sales_ymd.cast(str).str.strptime(pl.Date, '%Y%m%d'),\n",
    "    pl.col.application_date.cast(str).str.strptime(pl.Date, '%Y%m%d')\n",
    ").with_columns(\n",
    "    elapsed_years=pl.col.sales_ymd.dt.year() - pl.col.application_date.dt.year()\n",
    ").head()"
   ]
  },
  {
   "cell_type": "markdown",
   "metadata": {},
   "source": [
    "### P-073\n",
    "\n",
    "レシート明細データ（df_receipt）の売上日（sales_ymd）に対し、顧客データ（df_customer）の会員申込日（application_date）からのエポック秒による経過時間を計算し、顧客ID（customer_id）、売上日、会員申込日とともに10件表示せよ（なお、sales_ymdは数値、application_dateは文字列でデータを保持している点に注意）。なお、時間情報は保有していないため各日付は0時0分0秒を表すものとする。"
   ]
  },
  {
   "cell_type": "code",
   "execution_count": 3,
   "metadata": {},
   "outputs": [
    {
     "data": {
      "text/html": [
       "<div><style>\n",
       ".dataframe > thead > tr,\n",
       ".dataframe > tbody > tr {\n",
       "  text-align: right;\n",
       "  white-space: pre-wrap;\n",
       "}\n",
       "</style>\n",
       "<small>shape: (5, 4)</small><table border=\"1\" class=\"dataframe\"><thead><tr><th>customer_id</th><th>sales_ymd</th><th>application_date</th><th>elapsed_years</th></tr><tr><td>str</td><td>date</td><td>date</td><td>i64</td></tr></thead><tbody><tr><td>&quot;CS024514000042&quot;</td><td>2018-12-05</td><td>2015-10-10</td><td>99532800</td></tr><tr><td>&quot;CS026515000042&quot;</td><td>2019-06-03</td><td>2015-07-21</td><td>122083200</td></tr><tr><td>&quot;CS011115000004&quot;</td><td>2019-07-18</td><td>2015-03-06</td><td>137808000</td></tr><tr><td>&quot;CS020814000004&quot;</td><td>2018-04-18</td><td>2014-12-23</td><td>104716800</td></tr><tr><td>&quot;CS009415000022&quot;</td><td>2018-05-01</td><td>2015-07-02</td><td>89337600</td></tr></tbody></table></div>"
      ],
      "text/plain": [
       "shape: (5, 4)\n",
       "┌────────────────┬────────────┬──────────────────┬───────────────┐\n",
       "│ customer_id    ┆ sales_ymd  ┆ application_date ┆ elapsed_years │\n",
       "│ ---            ┆ ---        ┆ ---              ┆ ---           │\n",
       "│ str            ┆ date       ┆ date             ┆ i64           │\n",
       "╞════════════════╪════════════╪══════════════════╪═══════════════╡\n",
       "│ CS024514000042 ┆ 2018-12-05 ┆ 2015-10-10       ┆ 99532800      │\n",
       "│ CS026515000042 ┆ 2019-06-03 ┆ 2015-07-21       ┆ 122083200     │\n",
       "│ CS011115000004 ┆ 2019-07-18 ┆ 2015-03-06       ┆ 137808000     │\n",
       "│ CS020814000004 ┆ 2018-04-18 ┆ 2014-12-23       ┆ 104716800     │\n",
       "│ CS009415000022 ┆ 2018-05-01 ┆ 2015-07-02       ┆ 89337600      │\n",
       "└────────────────┴────────────┴──────────────────┴───────────────┘"
      ]
     },
     "execution_count": 3,
     "metadata": {},
     "output_type": "execute_result"
    }
   ],
   "source": [
    "df_receipt.select('customer_id', 'sales_ymd').unique(keep='first').join(\n",
    "    df_customer, on='customer_id'\n",
    ").select(\n",
    "    pl.col.customer_id,\n",
    "    pl.col.sales_ymd.cast(str).str.strptime(pl.Date, '%Y%m%d'),\n",
    "    pl.col.application_date.cast(str).str.strptime(pl.Date, '%Y%m%d')\n",
    ").with_columns(\n",
    "    elapsed_years=(pl.col.sales_ymd - pl.col.application_date).dt.total_seconds()\n",
    ").head()"
   ]
  },
  {
   "cell_type": "markdown",
   "metadata": {},
   "source": [
    "### P-074\n",
    "\n",
    "レシート明細データ（df_receipt）の売上日（sales_ymd）に対し、当該週の月曜日からの経過日数を計算し、売上日、直前の月曜日付とともに10件表示せよ（sales_ymdは数値でデータを保持している点に注意）。"
   ]
  },
  {
   "cell_type": "code",
   "execution_count": 47,
   "metadata": {},
   "outputs": [
    {
     "data": {
      "text/html": [
       "<div><style>\n",
       ".dataframe > thead > tr,\n",
       ".dataframe > tbody > tr {\n",
       "  text-align: right;\n",
       "  white-space: pre-wrap;\n",
       "}\n",
       "</style>\n",
       "<small>shape: (5, 3)</small><table border=\"1\" class=\"dataframe\"><thead><tr><th>sales_ymd</th><th>monday</th><th>elapsed_days</th></tr><tr><td>date</td><td>date</td><td>i64</td></tr></thead><tbody><tr><td>2018-11-03</td><td>2018-10-29</td><td>5</td></tr><tr><td>2018-11-18</td><td>2018-11-12</td><td>6</td></tr><tr><td>2017-07-12</td><td>2017-07-10</td><td>2</td></tr><tr><td>2018-08-21</td><td>2018-08-20</td><td>1</td></tr><tr><td>2019-06-05</td><td>2019-06-03</td><td>2</td></tr></tbody></table></div>"
      ],
      "text/plain": [
       "shape: (5, 3)\n",
       "┌────────────┬────────────┬──────────────┐\n",
       "│ sales_ymd  ┆ monday     ┆ elapsed_days │\n",
       "│ ---        ┆ ---        ┆ ---          │\n",
       "│ date       ┆ date       ┆ i64          │\n",
       "╞════════════╪════════════╪══════════════╡\n",
       "│ 2018-11-03 ┆ 2018-10-29 ┆ 5            │\n",
       "│ 2018-11-18 ┆ 2018-11-12 ┆ 6            │\n",
       "│ 2017-07-12 ┆ 2017-07-10 ┆ 2            │\n",
       "│ 2018-08-21 ┆ 2018-08-20 ┆ 1            │\n",
       "│ 2019-06-05 ┆ 2019-06-03 ┆ 2            │\n",
       "└────────────┴────────────┴──────────────┘"
      ]
     },
     "execution_count": 47,
     "metadata": {},
     "output_type": "execute_result"
    }
   ],
   "source": [
    "df_receipt.select('customer_id', 'sales_ymd').join(\n",
    "    df_customer, on='customer_id'\n",
    ").select(\n",
    "    pl.col.sales_ymd.cast(str).str.strptime(pl.Date, '%Y%m%d'),\n",
    ").with_columns(\n",
    "    pl.col.sales_ymd.dt.truncate('1w').alias('monday')\n",
    ").with_columns(\n",
    "    (pl.col.sales_ymd - pl.col.monday).alias('elapsed_days').dt.total_days()\n",
    ").head()"
   ]
  },
  {
   "cell_type": "markdown",
   "metadata": {},
   "source": [
    "### P-075\n",
    "\n",
    "顧客データ（df_customer）からランダムに1%のデータを抽出し、先頭から10件表示せよ。"
   ]
  },
  {
   "cell_type": "code",
   "execution_count": 50,
   "metadata": {},
   "outputs": [
    {
     "data": {
      "text/html": [
       "<div><style>\n",
       ".dataframe > thead > tr,\n",
       ".dataframe > tbody > tr {\n",
       "  text-align: right;\n",
       "  white-space: pre-wrap;\n",
       "}\n",
       "</style>\n",
       "<small>shape: (5, 11)</small><table border=\"1\" class=\"dataframe\"><thead><tr><th>customer_id</th><th>customer_name</th><th>gender_cd</th><th>gender</th><th>birth_day</th><th>age</th><th>postal_cd</th><th>address</th><th>application_store_cd</th><th>application_date</th><th>status_cd</th></tr><tr><td>str</td><td>str</td><td>str</td><td>str</td><td>str</td><td>i64</td><td>str</td><td>str</td><td>str</td><td>i64</td><td>str</td></tr></thead><tbody><tr><td>&quot;CS008702000012&quot;</td><td>&quot;飯島 輝信&quot;</td><td>&quot;0&quot;</td><td>&quot;男性&quot;</td><td>&quot;1947-05-04&quot;</td><td>71</td><td>&quot;213-0033&quot;</td><td>&quot;神奈川県川崎市高津区下作延**********&quot;</td><td>&quot;S13008&quot;</td><td>20150727</td><td>&quot;0-00000000-0&quot;</td></tr><tr><td>&quot;CS033403000041&quot;</td><td>&quot;大高 良介&quot;</td><td>&quot;0&quot;</td><td>&quot;男性&quot;</td><td>&quot;1977-07-16&quot;</td><td>41</td><td>&quot;246-0038&quot;</td><td>&quot;神奈川県横浜市瀬谷区宮沢**********&quot;</td><td>&quot;S14033&quot;</td><td>20150226</td><td>&quot;0-00000000-0&quot;</td></tr><tr><td>&quot;CS018314000102&quot;</td><td>&quot;亀山 さやか&quot;</td><td>&quot;1&quot;</td><td>&quot;女性&quot;</td><td>&quot;1987-12-09&quot;</td><td>31</td><td>&quot;203-0041&quot;</td><td>&quot;東京都東久留米市野火止**********&quot;</td><td>&quot;S13018&quot;</td><td>20171109</td><td>&quot;0-00000000-0&quot;</td></tr><tr><td>&quot;CS002313000272&quot;</td><td>&quot;本橋 理紗&quot;</td><td>&quot;1&quot;</td><td>&quot;女性&quot;</td><td>&quot;1983-05-30&quot;</td><td>35</td><td>&quot;185-0024&quot;</td><td>&quot;東京都国分寺市泉町**********&quot;</td><td>&quot;S13002&quot;</td><td>20160703</td><td>&quot;0-00000000-0&quot;</td></tr><tr><td>&quot;CS015602000035&quot;</td><td>&quot;小関 草太&quot;</td><td>&quot;0&quot;</td><td>&quot;男性&quot;</td><td>&quot;1954-05-28&quot;</td><td>64</td><td>&quot;135-0043&quot;</td><td>&quot;東京都江東区塩浜**********&quot;</td><td>&quot;S13015&quot;</td><td>20170807</td><td>&quot;0-00000000-0&quot;</td></tr></tbody></table></div>"
      ],
      "text/plain": [
       "shape: (5, 11)\n",
       "┌───────────────┬───────────────┬───────────┬────────┬───┬───────────────┬───────────────┬──────────────┬──────────────┐\n",
       "│ customer_id   ┆ customer_name ┆ gender_cd ┆ gender ┆ … ┆ address       ┆ application_s ┆ application_ ┆ status_cd    │\n",
       "│ ---           ┆ ---           ┆ ---       ┆ ---    ┆   ┆ ---           ┆ tore_cd       ┆ date         ┆ ---          │\n",
       "│ str           ┆ str           ┆ str       ┆ str    ┆   ┆ str           ┆ ---           ┆ ---          ┆ str          │\n",
       "│               ┆               ┆           ┆        ┆   ┆               ┆ str           ┆ i64          ┆              │\n",
       "╞═══════════════╪═══════════════╪═══════════╪════════╪═══╪═══════════════╪═══════════════╪══════════════╪══════════════╡\n",
       "│ CS00870200001 ┆ 飯島 輝信     ┆ 0         ┆ 男性   ┆ … ┆ 神奈川県川崎  ┆ S13008        ┆ 20150727     ┆ 0-00000000-0 │\n",
       "│ 2             ┆               ┆           ┆        ┆   ┆ 市高津区下作  ┆               ┆              ┆              │\n",
       "│               ┆               ┆           ┆        ┆   ┆ 延**********  ┆               ┆              ┆              │\n",
       "│ CS03340300004 ┆ 大高 良介     ┆ 0         ┆ 男性   ┆ … ┆ 神奈川県横浜  ┆ S14033        ┆ 20150226     ┆ 0-00000000-0 │\n",
       "│ 1             ┆               ┆           ┆        ┆   ┆ 市瀬谷区宮沢* ┆               ┆              ┆              │\n",
       "│               ┆               ┆           ┆        ┆   ┆ *********     ┆               ┆              ┆              │\n",
       "│ CS01831400010 ┆ 亀山 さやか   ┆ 1         ┆ 女性   ┆ … ┆ 東京都東久留  ┆ S13018        ┆ 20171109     ┆ 0-00000000-0 │\n",
       "│ 2             ┆               ┆           ┆        ┆   ┆ 米市野火止*** ┆               ┆              ┆              │\n",
       "│               ┆               ┆           ┆        ┆   ┆ *******       ┆               ┆              ┆              │\n",
       "│ CS00231300027 ┆ 本橋 理紗     ┆ 1         ┆ 女性   ┆ … ┆ 東京都国分寺  ┆ S13002        ┆ 20160703     ┆ 0-00000000-0 │\n",
       "│ 2             ┆               ┆           ┆        ┆   ┆ 市泉町******* ┆               ┆              ┆              │\n",
       "│               ┆               ┆           ┆        ┆   ┆ ***           ┆               ┆              ┆              │\n",
       "│ CS01560200003 ┆ 小関 草太     ┆ 0         ┆ 男性   ┆ … ┆ 東京都江東区  ┆ S13015        ┆ 20170807     ┆ 0-00000000-0 │\n",
       "│ 5             ┆               ┆           ┆        ┆   ┆ 塩浜********* ┆               ┆              ┆              │\n",
       "│               ┆               ┆           ┆        ┆   ┆ *             ┆               ┆              ┆              │\n",
       "└───────────────┴───────────────┴───────────┴────────┴───┴───────────────┴───────────────┴──────────────┴──────────────┘"
      ]
     },
     "execution_count": 50,
     "metadata": {},
     "output_type": "execute_result"
    }
   ],
   "source": [
    "df_customer.sample(fraction=0.01).head(5)"
   ]
  },
  {
   "cell_type": "markdown",
   "metadata": {},
   "source": [
    "### P-076\n",
    "\n",
    "顧客データ（df_customer）から性別コード（gender_cd）の割合に基づきランダムに10%のデータを層化抽出し、性別コードごとに件数を集計せよ。"
   ]
  },
  {
   "cell_type": "code",
   "execution_count": 9,
   "metadata": {},
   "outputs": [
    {
     "data": {
      "text/html": [
       "<div><style>\n",
       ".dataframe > thead > tr,\n",
       ".dataframe > tbody > tr {\n",
       "  text-align: right;\n",
       "  white-space: pre-wrap;\n",
       "}\n",
       "</style>\n",
       "<small>shape: (3, 2)</small><table border=\"1\" class=\"dataframe\"><thead><tr><th>gender_cd</th><th>len</th></tr><tr><td>str</td><td>u32</td></tr></thead><tbody><tr><td>&quot;1&quot;</td><td>1792</td></tr><tr><td>&quot;0&quot;</td><td>299</td></tr><tr><td>&quot;9&quot;</td><td>108</td></tr></tbody></table></div>"
      ],
      "text/plain": [
       "shape: (3, 2)\n",
       "┌───────────┬──────┐\n",
       "│ gender_cd ┆ len  │\n",
       "│ ---       ┆ ---  │\n",
       "│ str       ┆ u32  │\n",
       "╞═══════════╪══════╡\n",
       "│ 1         ┆ 1792 │\n",
       "│ 0         ┆ 299  │\n",
       "│ 9         ┆ 108  │\n",
       "└───────────┴──────┘"
      ]
     },
     "execution_count": 9,
     "metadata": {},
     "output_type": "execute_result"
    }
   ],
   "source": [
    "df_customer.filter(\n",
    "    (pl.int_range(pl.len()) < pl.len() * 0.1).shuffle().over('gender_cd') == 1\n",
    ").group_by('gender_cd').agg(\n",
    "    pl.len()\n",
    ")"
   ]
  },
  {
   "cell_type": "markdown",
   "metadata": {},
   "source": [
    "### P-077\n",
    "\n",
    "レシート明細データ（df_receipt）の売上金額を顧客単位に合計し、合計した売上金額の外れ値を抽出せよ。なお、外れ値は売上金額合計を対数化したうえで平均と標準偏差を計算し、その平均から3σを超えて離れたものとする（自然対数と常用対数のどちらでも可）。結果は10件表示せよ。"
   ]
  },
  {
   "cell_type": "code",
   "execution_count": 12,
   "metadata": {},
   "outputs": [
    {
     "data": {
      "text/html": [
       "<div><style>\n",
       ".dataframe > thead > tr,\n",
       ".dataframe > tbody > tr {\n",
       "  text-align: right;\n",
       "  white-space: pre-wrap;\n",
       "}\n",
       "</style>\n",
       "<small>shape: (1, 3)</small><table border=\"1\" class=\"dataframe\"><thead><tr><th>customer_id</th><th>sum_amount</th><th>log_sum_amount</th></tr><tr><td>str</td><td>i64</td><td>f64</td></tr></thead><tbody><tr><td>&quot;ZZ000000000000&quot;</td><td>12395003</td><td>16.332804</td></tr></tbody></table></div>"
      ],
      "text/plain": [
       "shape: (1, 3)\n",
       "┌────────────────┬────────────┬────────────────┐\n",
       "│ customer_id    ┆ sum_amount ┆ log_sum_amount │\n",
       "│ ---            ┆ ---        ┆ ---            │\n",
       "│ str            ┆ i64        ┆ f64            │\n",
       "╞════════════════╪════════════╪════════════════╡\n",
       "│ ZZ000000000000 ┆ 12395003   ┆ 16.332804      │\n",
       "└────────────────┴────────────┴────────────────┘"
      ]
     },
     "execution_count": 12,
     "metadata": {},
     "output_type": "execute_result"
    }
   ],
   "source": [
    "df_receipt.group_by(\n",
    "    'customer_id',\n",
    ").agg(\n",
    "    sum_amount=pl.col.amount.sum(),\n",
    "    log_sum_amount=pl.col.amount.sum().log(),\n",
    ").filter(\n",
    "    (pl.col.log_sum_amount - pl.col.log_sum_amount.mean()) / pl.col.log_sum_amount.std() > 3\n",
    ")"
   ]
  },
  {
   "cell_type": "markdown",
   "metadata": {},
   "source": [
    "### P-078\n",
    "\n",
    "レシート明細データ（df_receipt）の売上金額（amount）を顧客単位に合計し、合計した売上金額の外れ値を抽出せよ。ただし、顧客IDが\"Z\"から始まるのものは非会員を表すため、除外して計算すること。なお、ここでは外れ値を第1四分位と第3四分位の差であるIQRを用いて、「第1四分位数-1.5×IQR」を下回るもの、または「第3四分位数+1.5×IQR」を超えるものとする。結果は10件表示せよ。"
   ]
  },
  {
   "cell_type": "code",
   "execution_count": 11,
   "metadata": {},
   "outputs": [
    {
     "data": {
      "text/html": [
       "<div><style>\n",
       ".dataframe > thead > tr,\n",
       ".dataframe > tbody > tr {\n",
       "  text-align: right;\n",
       "  white-space: pre-wrap;\n",
       "}\n",
       "</style>\n",
       "<small>shape: (5, 2)</small><table border=\"1\" class=\"dataframe\"><thead><tr><th>customer_id</th><th>sum_amount</th></tr><tr><td>str</td><td>i64</td></tr></thead><tbody><tr><td>&quot;CS041411000001&quot;</td><td>9694</td></tr><tr><td>&quot;CS035415000174&quot;</td><td>14508</td></tr><tr><td>&quot;CS009415000047&quot;</td><td>10648</td></tr><tr><td>&quot;CS024415000206&quot;</td><td>14093</td></tr><tr><td>&quot;CS035415000213&quot;</td><td>9306</td></tr></tbody></table></div>"
      ],
      "text/plain": [
       "shape: (5, 2)\n",
       "┌────────────────┬────────────┐\n",
       "│ customer_id    ┆ sum_amount │\n",
       "│ ---            ┆ ---        │\n",
       "│ str            ┆ i64        │\n",
       "╞════════════════╪════════════╡\n",
       "│ CS041411000001 ┆ 9694       │\n",
       "│ CS035415000174 ┆ 14508      │\n",
       "│ CS009415000047 ┆ 10648      │\n",
       "│ CS024415000206 ┆ 14093      │\n",
       "│ CS035415000213 ┆ 9306       │\n",
       "└────────────────┴────────────┘"
      ]
     },
     "execution_count": 11,
     "metadata": {},
     "output_type": "execute_result"
    }
   ],
   "source": [
    "col = pl.col.sum_amount\n",
    "q25 = col.quantile(0.25)\n",
    "q75 = col.quantile(0.75)\n",
    "iqr = q75 - q25\n",
    "expr = (col > q75 + iqr * 1.5) | (col < q25 - iqr * 1.5)\n",
    "\n",
    "df_receipt.filter(\n",
    "    pl.col.customer_id.str.starts_with('Z').not_()\n",
    ").group_by(\n",
    "    'customer_id'\n",
    ").agg(\n",
    "    sum_amount=pl.col.amount.sum()\n",
    ").filter(expr).head()"
   ]
  },
  {
   "cell_type": "markdown",
   "metadata": {},
   "source": [
    "### P-079\n",
    "\n",
    "商品データ（df_product）の各項目に対し、欠損数を確認せよ。"
   ]
  },
  {
   "cell_type": "code",
   "execution_count": 12,
   "metadata": {},
   "outputs": [
    {
     "data": {
      "text/html": [
       "<div><style>\n",
       ".dataframe > thead > tr,\n",
       ".dataframe > tbody > tr {\n",
       "  text-align: right;\n",
       "  white-space: pre-wrap;\n",
       "}\n",
       "</style>\n",
       "<small>shape: (1, 6)</small><table border=\"1\" class=\"dataframe\"><thead><tr><th>product_cd</th><th>category_major_cd</th><th>category_medium_cd</th><th>category_small_cd</th><th>unit_price</th><th>unit_cost</th></tr><tr><td>u32</td><td>u32</td><td>u32</td><td>u32</td><td>u32</td><td>u32</td></tr></thead><tbody><tr><td>0</td><td>0</td><td>0</td><td>0</td><td>7</td><td>7</td></tr></tbody></table></div>"
      ],
      "text/plain": [
       "shape: (1, 6)\n",
       "┌────────────┬───────────────────┬────────────────────┬───────────────────┬────────────┬───────────┐\n",
       "│ product_cd ┆ category_major_cd ┆ category_medium_cd ┆ category_small_cd ┆ unit_price ┆ unit_cost │\n",
       "│ ---        ┆ ---               ┆ ---                ┆ ---               ┆ ---        ┆ ---       │\n",
       "│ u32        ┆ u32               ┆ u32                ┆ u32               ┆ u32        ┆ u32       │\n",
       "╞════════════╪═══════════════════╪════════════════════╪═══════════════════╪════════════╪═══════════╡\n",
       "│ 0          ┆ 0                 ┆ 0                  ┆ 0                 ┆ 7          ┆ 7         │\n",
       "└────────────┴───────────────────┴────────────────────┴───────────────────┴────────────┴───────────┘"
      ]
     },
     "execution_count": 12,
     "metadata": {},
     "output_type": "execute_result"
    }
   ],
   "source": [
    "df_product.select(\n",
    "    pl.all().null_count()\n",
    ")"
   ]
  },
  {
   "cell_type": "markdown",
   "metadata": {},
   "source": [
    "### P-080\n",
    "\n",
    "商品データ（df_product）のいずれかの項目に欠損が発生しているレコードを全て削除した新たな商品データを作成せよ。なお、削除前後の件数を表示させ、079で確認した件数だけ減少していることも確認すること。"
   ]
  },
  {
   "cell_type": "code",
   "execution_count": 15,
   "metadata": {},
   "outputs": [
    {
     "data": {
      "text/plain": [
       "(10030, 10023)"
      ]
     },
     "execution_count": 15,
     "metadata": {},
     "output_type": "execute_result"
    }
   ],
   "source": [
    "len(df_product), len(df_product.drop_nulls())"
   ]
  },
  {
   "cell_type": "markdown",
   "metadata": {},
   "source": [
    "## 演習問題 081 ~ 090"
   ]
  },
  {
   "cell_type": "markdown",
   "metadata": {},
   "source": [
    "### P-081\n",
    "\n",
    "単価（unit_price）と原価（unit_cost）の欠損値について、それぞれの平均値で補完した新たな商品データを作成せよ。なお、平均値については1円未満を丸めること（四捨五入または偶数への丸めで良い）。補完実施後、各項目について欠損が生じていないことも確認すること。"
   ]
  },
  {
   "cell_type": "code",
   "execution_count": 22,
   "metadata": {},
   "outputs": [
    {
     "data": {
      "text/html": [
       "<div><style>\n",
       ".dataframe > thead > tr,\n",
       ".dataframe > tbody > tr {\n",
       "  text-align: right;\n",
       "  white-space: pre-wrap;\n",
       "}\n",
       "</style>\n",
       "<small>shape: (1, 6)</small><table border=\"1\" class=\"dataframe\"><thead><tr><th>product_cd</th><th>category_major_cd</th><th>category_medium_cd</th><th>category_small_cd</th><th>unit_price</th><th>unit_cost</th></tr><tr><td>u32</td><td>u32</td><td>u32</td><td>u32</td><td>u32</td><td>u32</td></tr></thead><tbody><tr><td>0</td><td>0</td><td>0</td><td>0</td><td>0</td><td>0</td></tr></tbody></table></div>"
      ],
      "text/plain": [
       "shape: (1, 6)\n",
       "┌────────────┬───────────────────┬────────────────────┬───────────────────┬────────────┬───────────┐\n",
       "│ product_cd ┆ category_major_cd ┆ category_medium_cd ┆ category_small_cd ┆ unit_price ┆ unit_cost │\n",
       "│ ---        ┆ ---               ┆ ---                ┆ ---               ┆ ---        ┆ ---       │\n",
       "│ u32        ┆ u32               ┆ u32                ┆ u32               ┆ u32        ┆ u32       │\n",
       "╞════════════╪═══════════════════╪════════════════════╪═══════════════════╪════════════╪═══════════╡\n",
       "│ 0          ┆ 0                 ┆ 0                  ┆ 0                 ┆ 0          ┆ 0         │\n",
       "└────────────┴───────────────────┴────────────────────┴───────────────────┴────────────┴───────────┘"
      ]
     },
     "execution_count": 22,
     "metadata": {},
     "output_type": "execute_result"
    }
   ],
   "source": [
    "df_product.with_columns(\n",
    "    pl.col.unit_price.fill_null(pl.col.unit_price.mean()),\n",
    "    pl.col.unit_cost.fill_null(pl.col.unit_cost.mean())\n",
    ").select(pl.all().null_count())"
   ]
  },
  {
   "cell_type": "markdown",
   "metadata": {
    "tags": []
   },
   "source": [
    "### P-082\n",
    "\n",
    "単価（unit_price）と原価（unit_cost）の欠損値について、それぞれの中央値で補完した新たな商品データを作成せよ。なお、中央値については1円未満を丸めること（四捨五入または偶数への丸めで良い）。補完実施後、各項目について欠損が生じていないことも確認すること。"
   ]
  },
  {
   "cell_type": "code",
   "execution_count": 23,
   "metadata": {},
   "outputs": [
    {
     "data": {
      "text/html": [
       "<div><style>\n",
       ".dataframe > thead > tr,\n",
       ".dataframe > tbody > tr {\n",
       "  text-align: right;\n",
       "  white-space: pre-wrap;\n",
       "}\n",
       "</style>\n",
       "<small>shape: (1, 6)</small><table border=\"1\" class=\"dataframe\"><thead><tr><th>product_cd</th><th>category_major_cd</th><th>category_medium_cd</th><th>category_small_cd</th><th>unit_price</th><th>unit_cost</th></tr><tr><td>u32</td><td>u32</td><td>u32</td><td>u32</td><td>u32</td><td>u32</td></tr></thead><tbody><tr><td>0</td><td>0</td><td>0</td><td>0</td><td>0</td><td>0</td></tr></tbody></table></div>"
      ],
      "text/plain": [
       "shape: (1, 6)\n",
       "┌────────────┬───────────────────┬────────────────────┬───────────────────┬────────────┬───────────┐\n",
       "│ product_cd ┆ category_major_cd ┆ category_medium_cd ┆ category_small_cd ┆ unit_price ┆ unit_cost │\n",
       "│ ---        ┆ ---               ┆ ---                ┆ ---               ┆ ---        ┆ ---       │\n",
       "│ u32        ┆ u32               ┆ u32                ┆ u32               ┆ u32        ┆ u32       │\n",
       "╞════════════╪═══════════════════╪════════════════════╪═══════════════════╪════════════╪═══════════╡\n",
       "│ 0          ┆ 0                 ┆ 0                  ┆ 0                 ┆ 0          ┆ 0         │\n",
       "└────────────┴───────────────────┴────────────────────┴───────────────────┴────────────┴───────────┘"
      ]
     },
     "execution_count": 23,
     "metadata": {},
     "output_type": "execute_result"
    }
   ],
   "source": [
    "df_product.with_columns(\n",
    "    pl.col.unit_price.fill_null(pl.col.unit_price.median()),\n",
    "    pl.col.unit_cost.fill_null(pl.col.unit_cost.median())\n",
    ").select(pl.all().null_count())"
   ]
  },
  {
   "cell_type": "markdown",
   "metadata": {},
   "source": [
    "### P-083\n",
    "\n",
    "単価（unit_price）と原価（unit_cost）の欠損値について、各商品のカテゴリ小区分コード（category_small_cd）ごとに算出した中央値で補完した新たな商品データを作成せよ。なお、中央値については1円未満を丸めること（四捨五入または偶数への丸めで良い）。補完実施後、各項目について欠損が生じていないことも確認すること。"
   ]
  },
  {
   "cell_type": "code",
   "execution_count": 33,
   "metadata": {},
   "outputs": [
    {
     "data": {
      "text/html": [
       "<div><style>\n",
       ".dataframe > thead > tr,\n",
       ".dataframe > tbody > tr {\n",
       "  text-align: right;\n",
       "  white-space: pre-wrap;\n",
       "}\n",
       "</style>\n",
       "<small>shape: (1, 6)</small><table border=\"1\" class=\"dataframe\"><thead><tr><th>product_cd</th><th>category_major_cd</th><th>category_medium_cd</th><th>category_small_cd</th><th>unit_price</th><th>unit_cost</th></tr><tr><td>u32</td><td>u32</td><td>u32</td><td>u32</td><td>u32</td><td>u32</td></tr></thead><tbody><tr><td>0</td><td>0</td><td>0</td><td>0</td><td>0</td><td>0</td></tr></tbody></table></div>"
      ],
      "text/plain": [
       "shape: (1, 6)\n",
       "┌────────────┬───────────────────┬────────────────────┬───────────────────┬────────────┬───────────┐\n",
       "│ product_cd ┆ category_major_cd ┆ category_medium_cd ┆ category_small_cd ┆ unit_price ┆ unit_cost │\n",
       "│ ---        ┆ ---               ┆ ---                ┆ ---               ┆ ---        ┆ ---       │\n",
       "│ u32        ┆ u32               ┆ u32                ┆ u32               ┆ u32        ┆ u32       │\n",
       "╞════════════╪═══════════════════╪════════════════════╪═══════════════════╪════════════╪═══════════╡\n",
       "│ 0          ┆ 0                 ┆ 0                  ┆ 0                 ┆ 0          ┆ 0         │\n",
       "└────────────┴───────────────────┴────────────────────┴───────────────────┴────────────┴───────────┘"
      ]
     },
     "execution_count": 33,
     "metadata": {},
     "output_type": "execute_result"
    }
   ],
   "source": [
    "cols = pl.col('unit_price', 'unit_cost')\n",
    "df_product.with_columns(\n",
    "    pl.when(cols.is_null()).then(cols.median()).otherwise(cols).over('category_small_cd')\n",
    ").select(pl.all().null_count())"
   ]
  },
  {
   "cell_type": "markdown",
   "metadata": {},
   "source": [
    "### P-084\n",
    "\n",
    "顧客データ（df_customer）の全顧客に対して全期間の売上金額に占める2019年売上金額の割合を計算し、新たなデータを作成せよ。ただし、売上実績がない場合は0として扱うこと。そして計算した割合が0超のものを抽出し、結果を10件表示せよ。また、作成したデータに欠損が存在しないことを確認せよ。"
   ]
  },
  {
   "cell_type": "code",
   "execution_count": 20,
   "metadata": {},
   "outputs": [
    {
     "data": {
      "text/html": [
       "<div><style>\n",
       ".dataframe > thead > tr,\n",
       ".dataframe > tbody > tr {\n",
       "  text-align: right;\n",
       "  white-space: pre-wrap;\n",
       "}\n",
       "</style>\n",
       "<small>shape: (5, 4)</small><table border=\"1\" class=\"dataframe\"><thead><tr><th>customer_id</th><th>sales_amount_all</th><th>sales_amount_2019</th><th>sales_rate</th></tr><tr><td>str</td><td>i64</td><td>i64</td><td>f64</td></tr></thead><tbody><tr><td>&quot;CS031415000172&quot;</td><td>5088</td><td>2971</td><td>0.583923</td></tr><tr><td>&quot;CS015414000103&quot;</td><td>3122</td><td>874</td><td>0.279949</td></tr><tr><td>&quot;CS011215000048&quot;</td><td>3444</td><td>248</td><td>0.072009</td></tr><tr><td>&quot;CS029415000023&quot;</td><td>5167</td><td>3767</td><td>0.72905</td></tr><tr><td>&quot;CS035415000029&quot;</td><td>7504</td><td>5823</td><td>0.775986</td></tr></tbody></table></div>"
      ],
      "text/plain": [
       "shape: (5, 4)\n",
       "┌────────────────┬──────────────────┬───────────────────┬────────────┐\n",
       "│ customer_id    ┆ sales_amount_all ┆ sales_amount_2019 ┆ sales_rate │\n",
       "│ ---            ┆ ---              ┆ ---               ┆ ---        │\n",
       "│ str            ┆ i64              ┆ i64               ┆ f64        │\n",
       "╞════════════════╪══════════════════╪═══════════════════╪════════════╡\n",
       "│ CS031415000172 ┆ 5088             ┆ 2971              ┆ 0.583923   │\n",
       "│ CS015414000103 ┆ 3122             ┆ 874               ┆ 0.279949   │\n",
       "│ CS011215000048 ┆ 3444             ┆ 248               ┆ 0.072009   │\n",
       "│ CS029415000023 ┆ 5167             ┆ 3767              ┆ 0.72905    │\n",
       "│ CS035415000029 ┆ 7504             ┆ 5823              ┆ 0.775986   │\n",
       "└────────────────┴──────────────────┴───────────────────┴────────────┘"
      ]
     },
     "execution_count": 20,
     "metadata": {},
     "output_type": "execute_result"
    }
   ],
   "source": [
    "df_customer.join(\n",
    "    df_receipt.group_by('customer_id').agg(\n",
    "        sales_amount_all=pl.col.amount.sum()\n",
    "    ), \n",
    "    on='customer_id', how='left'\n",
    ").join(\n",
    "    df_receipt.filter((pl.col.sales_ymd // 10000) == 2019).group_by('customer_id').agg(\n",
    "        sales_amount_2019=pl.col.amount.sum()\n",
    "    ), \n",
    "    on='customer_id', how='left'\n",
    ").select(\n",
    "    'customer_id',\n",
    "    pl.col.sales_amount_all.fill_null(0),\n",
    "    pl.col.sales_amount_2019.fill_null(0)\n",
    ").with_columns(\n",
    "    sales_rate=(pl.col.sales_amount_2019 / pl.col.sales_amount_all).fill_nan(0)\n",
    ").filter(\n",
    "    pl.col.sales_amount_2019 > 0\n",
    ").head()"
   ]
  },
  {
   "cell_type": "markdown",
   "metadata": {},
   "source": [
    "### P-085\n",
    "\n",
    "顧客データ（df_customer）の全顧客に対し、郵便番号（postal_cd）を用いてジオコードデータ（df_geocode）を紐付け、新たな顧客データを作成せよ。ただし、1つの郵便番号（postal_cd）に複数の経度（longitude）、緯度（latitude）情報が紐づく場合は、経度（longitude）、緯度（latitude）の平均値を算出して使用すること。また、作成結果を確認するために結果を10件表示せよ。"
   ]
  },
  {
   "cell_type": "code",
   "execution_count": 25,
   "metadata": {},
   "outputs": [
    {
     "data": {
      "text/html": [
       "<div><style>\n",
       ".dataframe > thead > tr,\n",
       ".dataframe > tbody > tr {\n",
       "  text-align: right;\n",
       "  white-space: pre-wrap;\n",
       "}\n",
       "</style>\n",
       "<small>shape: (5, 13)</small><table border=\"1\" class=\"dataframe\"><thead><tr><th>customer_id</th><th>customer_name</th><th>gender_cd</th><th>gender</th><th>birth_day</th><th>age</th><th>postal_cd</th><th>address</th><th>application_store_cd</th><th>application_date</th><th>status_cd</th><th>longitude</th><th>latitude</th></tr><tr><td>str</td><td>str</td><td>str</td><td>str</td><td>str</td><td>i64</td><td>str</td><td>str</td><td>str</td><td>i64</td><td>str</td><td>f64</td><td>f64</td></tr></thead><tbody><tr><td>&quot;CS021313000114&quot;</td><td>&quot;大野 あや子&quot;</td><td>&quot;1&quot;</td><td>&quot;女性&quot;</td><td>&quot;1981-04-29&quot;</td><td>37</td><td>&quot;259-1113&quot;</td><td>&quot;神奈川県伊勢原市粟窪**********&quot;</td><td>&quot;S14021&quot;</td><td>20150905</td><td>&quot;0-00000000-0&quot;</td><td>139.31779</td><td>35.41358</td></tr><tr><td>&quot;CS037613000071&quot;</td><td>&quot;六角 雅彦&quot;</td><td>&quot;9&quot;</td><td>&quot;不明&quot;</td><td>&quot;1952-04-01&quot;</td><td>66</td><td>&quot;136-0076&quot;</td><td>&quot;東京都江東区南砂**********&quot;</td><td>&quot;S13037&quot;</td><td>20150414</td><td>&quot;0-00000000-0&quot;</td><td>139.83502</td><td>35.67193</td></tr><tr><td>&quot;CS031415000172&quot;</td><td>&quot;宇多田 貴美子&quot;</td><td>&quot;1&quot;</td><td>&quot;女性&quot;</td><td>&quot;1976-10-04&quot;</td><td>42</td><td>&quot;151-0053&quot;</td><td>&quot;東京都渋谷区代々木**********&quot;</td><td>&quot;S13031&quot;</td><td>20150529</td><td>&quot;D-20100325-C&quot;</td><td>139.68965</td><td>35.67374</td></tr><tr><td>&quot;CS028811000001&quot;</td><td>&quot;堀井 かおり&quot;</td><td>&quot;1&quot;</td><td>&quot;女性&quot;</td><td>&quot;1933-03-27&quot;</td><td>86</td><td>&quot;245-0016&quot;</td><td>&quot;神奈川県横浜市泉区和泉町**********&quot;</td><td>&quot;S14028&quot;</td><td>20160115</td><td>&quot;0-00000000-0&quot;</td><td>139.4836</td><td>35.39125</td></tr><tr><td>&quot;CS001215000145&quot;</td><td>&quot;田崎 美紀&quot;</td><td>&quot;1&quot;</td><td>&quot;女性&quot;</td><td>&quot;1995-03-29&quot;</td><td>24</td><td>&quot;144-0055&quot;</td><td>&quot;東京都大田区仲六郷**********&quot;</td><td>&quot;S13001&quot;</td><td>20170605</td><td>&quot;6-20090929-2&quot;</td><td>139.70775</td><td>35.54084</td></tr></tbody></table></div>"
      ],
      "text/plain": [
       "shape: (5, 13)\n",
       "┌────────────────┬───────────────┬───────────┬────────┬───┬──────────────────┬──────────────┬───────────┬──────────┐\n",
       "│ customer_id    ┆ customer_name ┆ gender_cd ┆ gender ┆ … ┆ application_date ┆ status_cd    ┆ longitude ┆ latitude │\n",
       "│ ---            ┆ ---           ┆ ---       ┆ ---    ┆   ┆ ---              ┆ ---          ┆ ---       ┆ ---      │\n",
       "│ str            ┆ str           ┆ str       ┆ str    ┆   ┆ i64              ┆ str          ┆ f64       ┆ f64      │\n",
       "╞════════════════╪═══════════════╪═══════════╪════════╪═══╪══════════════════╪══════════════╪═══════════╪══════════╡\n",
       "│ CS021313000114 ┆ 大野 あや子   ┆ 1         ┆ 女性   ┆ … ┆ 20150905         ┆ 0-00000000-0 ┆ 139.31779 ┆ 35.41358 │\n",
       "│ CS037613000071 ┆ 六角 雅彦     ┆ 9         ┆ 不明   ┆ … ┆ 20150414         ┆ 0-00000000-0 ┆ 139.83502 ┆ 35.67193 │\n",
       "│ CS031415000172 ┆ 宇多田 貴美子 ┆ 1         ┆ 女性   ┆ … ┆ 20150529         ┆ D-20100325-C ┆ 139.68965 ┆ 35.67374 │\n",
       "│ CS028811000001 ┆ 堀井 かおり   ┆ 1         ┆ 女性   ┆ … ┆ 20160115         ┆ 0-00000000-0 ┆ 139.4836  ┆ 35.39125 │\n",
       "│ CS001215000145 ┆ 田崎 美紀     ┆ 1         ┆ 女性   ┆ … ┆ 20170605         ┆ 6-20090929-2 ┆ 139.70775 ┆ 35.54084 │\n",
       "└────────────────┴───────────────┴───────────┴────────┴───┴──────────────────┴──────────────┴───────────┴──────────┘"
      ]
     },
     "execution_count": 25,
     "metadata": {},
     "output_type": "execute_result"
    }
   ],
   "source": [
    "df_loc = df_geocode.group_by(\n",
    "    pl.col.postal_cd\n",
    ").agg(\n",
    "    pl.col.longitude.mean(),\n",
    "    pl.col.latitude.mean()\n",
    ")\n",
    "\n",
    "df_customer_loc = df_customer.join(\n",
    "    df_loc, on='postal_cd', how='left'\n",
    ")\n",
    "df_customer_loc.head()"
   ]
  },
  {
   "cell_type": "markdown",
   "metadata": {},
   "source": [
    "### P-086\n",
    "\n",
    "085で作成した緯度経度つき顧客データに対し、会員申込店舗コード（application_store_cd）をキーに店舗データ（df_store）と結合せよ。そして申込み店舗の緯度（latitude）・経度情報（longitude)と顧客住所（address）の緯度・経度を用いて申込み店舗と顧客住所の距離（単位：km）を求め、顧客ID（customer_id）、顧客住所（address）、店舗住所（address）とともに表示せよ。計算式は以下の簡易式で良いものとするが、その他精度の高い方式を利用したライブラリを利用してもかまわない。結果は10件表示せよ。\n",
    "\n",
    "$$\n",
    "\\mbox{緯度（ラジアン）}：\\phi \\\\\n",
    "\\mbox{経度（ラジアン）}：\\lambda \\\\\n",
    "\\mbox{距離}L = 6371 * \\arccos(\\sin \\phi_1 * \\sin \\phi_2\n",
    "+ \\cos \\phi_1 * \\cos \\phi_2 * \\cos(\\lambda_1 − \\lambda_2))\n",
    "$$"
   ]
  },
  {
   "cell_type": "code",
   "execution_count": 36,
   "metadata": {},
   "outputs": [
    {
     "data": {
      "text/html": [
       "<div><style>\n",
       ".dataframe > thead > tr,\n",
       ".dataframe > tbody > tr {\n",
       "  text-align: right;\n",
       "  white-space: pre-wrap;\n",
       "}\n",
       "</style>\n",
       "<small>shape: (5, 4)</small><table border=\"1\" class=\"dataframe\"><thead><tr><th>customer_id</th><th>customer_address</th><th>store_address</th><th>distance</th></tr><tr><td>str</td><td>str</td><td>str</td><td>f64</td></tr></thead><tbody><tr><td>&quot;CS021313000114&quot;</td><td>&quot;神奈川県伊勢原市粟窪**********&quot;</td><td>&quot;神奈川県伊勢原市伊勢原四丁目&quot;</td><td>1.322108</td></tr><tr><td>&quot;CS037613000071&quot;</td><td>&quot;東京都江東区南砂**********&quot;</td><td>&quot;東京都江東区南砂一丁目&quot;</td><td>0.783924</td></tr><tr><td>&quot;CS031415000172&quot;</td><td>&quot;東京都渋谷区代々木**********&quot;</td><td>&quot;東京都渋谷区初台二丁目&quot;</td><td>0.269092</td></tr><tr><td>&quot;CS028811000001&quot;</td><td>&quot;神奈川県横浜市泉区和泉町**********&quot;</td><td>&quot;神奈川県横浜市瀬谷区二ツ橋町&quot;</td><td>7.982684</td></tr><tr><td>&quot;CS001215000145&quot;</td><td>&quot;東京都大田区仲六郷**********&quot;</td><td>&quot;東京都大田区仲六郷二丁目&quot;</td><td>1.168659</td></tr></tbody></table></div>"
      ],
      "text/plain": [
       "shape: (5, 4)\n",
       "┌────────────────┬────────────────────────────────────┬──────────────────────────────┬──────────┐\n",
       "│ customer_id    ┆ customer_address                   ┆ store_address                ┆ distance │\n",
       "│ ---            ┆ ---                                ┆ ---                          ┆ ---      │\n",
       "│ str            ┆ str                                ┆ str                          ┆ f64      │\n",
       "╞════════════════╪════════════════════════════════════╪══════════════════════════════╪══════════╡\n",
       "│ CS021313000114 ┆ 神奈川県伊勢原市粟窪**********     ┆ 神奈川県伊勢原市伊勢原四丁目 ┆ 1.322108 │\n",
       "│ CS037613000071 ┆ 東京都江東区南砂**********         ┆ 東京都江東区南砂一丁目       ┆ 0.783924 │\n",
       "│ CS031415000172 ┆ 東京都渋谷区代々木**********       ┆ 東京都渋谷区初台二丁目       ┆ 0.269092 │\n",
       "│ CS028811000001 ┆ 神奈川県横浜市泉区和泉町********** ┆ 神奈川県横浜市瀬谷区二ツ橋町 ┆ 7.982684 │\n",
       "│ CS001215000145 ┆ 東京都大田区仲六郷**********       ┆ 東京都大田区仲六郷二丁目     ┆ 1.168659 │\n",
       "└────────────────┴────────────────────────────────────┴──────────────────────────────┴──────────┘"
      ]
     },
     "execution_count": 36,
     "metadata": {},
     "output_type": "execute_result"
    }
   ],
   "source": [
    "p1 = pl.col.latitude.radians()\n",
    "p2 = pl.col.latitude_right.radians()\n",
    "l1 = pl.col.longitude.radians()\n",
    "l2 = pl.col.longitude.radians()\n",
    "distance = (p1.sin() * p2.sin() + p1.cos() * p2.cos() * (l1 - l1).cos()).arccos() * 6371\n",
    "\n",
    "df_customer_loc.join(\n",
    "    df_store,\n",
    "    left_on='application_store_cd',\n",
    "    right_on='store_cd',\n",
    "    how='left'\n",
    ").with_columns(\n",
    "    distance=distance\n",
    ").select(\n",
    "    'customer_id',\n",
    "    pl.col.address.alias('customer_address'),\n",
    "    pl.col.address_right.alias('store_address'),\n",
    "    'distance'\n",
    ").head()"
   ]
  },
  {
   "cell_type": "markdown",
   "metadata": {},
   "source": [
    "### P-087\n",
    "\n",
    "顧客データ（df_customer）では、異なる店舗での申込みなどにより同一顧客が複数登録されている。名前（customer_name）と郵便番号（postal_cd）が同じ顧客は同一顧客とみなして1顧客1レコードとなるように名寄せした名寄顧客データを作成し、顧客データの件数、名寄顧客データの件数、重複数を算出せよ。ただし、同一顧客に対しては売上金額合計が最も高いものを残し、売上金額合計が同一もしくは売上実績がない顧客については顧客ID（customer_id）の番号が小さいものを残すこととする。"
   ]
  },
  {
   "cell_type": "code",
   "execution_count": 48,
   "metadata": {},
   "outputs": [
    {
     "data": {
      "text/html": [
       "<div><style>\n",
       ".dataframe > thead > tr,\n",
       ".dataframe > tbody > tr {\n",
       "  text-align: right;\n",
       "  white-space: pre-wrap;\n",
       "}\n",
       "</style>\n",
       "<small>shape: (5, 4)</small><table border=\"1\" class=\"dataframe\"><thead><tr><th>customer_name</th><th>postal_cd</th><th>customer_id</th><th>amount</th></tr><tr><td>str</td><td>str</td><td>str</td><td>i64</td></tr></thead><tbody><tr><td>&quot;依田 満&quot;</td><td>&quot;276-0022&quot;</td><td>&quot;CS007403000016&quot;</td><td>0</td></tr><tr><td>&quot;芦田 沙耶&quot;</td><td>&quot;223-0062&quot;</td><td>&quot;CS011215000048&quot;</td><td>3444</td></tr><tr><td>&quot;堀口 陽子&quot;</td><td>&quot;242-0015&quot;</td><td>&quot;CS025412000147&quot;</td><td>0</td></tr><tr><td>&quot;砂川 あさみ&quot;</td><td>&quot;259-1131&quot;</td><td>&quot;CS021313000025&quot;</td><td>0</td></tr><tr><td>&quot;堤 明慶&quot;</td><td>&quot;226-0016&quot;</td><td>&quot;CS040413000257&quot;</td><td>0</td></tr></tbody></table></div>"
      ],
      "text/plain": [
       "shape: (5, 4)\n",
       "┌───────────────┬───────────┬────────────────┬────────┐\n",
       "│ customer_name ┆ postal_cd ┆ customer_id    ┆ amount │\n",
       "│ ---           ┆ ---       ┆ ---            ┆ ---    │\n",
       "│ str           ┆ str       ┆ str            ┆ i64    │\n",
       "╞═══════════════╪═══════════╪════════════════╪════════╡\n",
       "│ 依田 満       ┆ 276-0022  ┆ CS007403000016 ┆ 0      │\n",
       "│ 芦田 沙耶     ┆ 223-0062  ┆ CS011215000048 ┆ 3444   │\n",
       "│ 堀口 陽子     ┆ 242-0015  ┆ CS025412000147 ┆ 0      │\n",
       "│ 砂川 あさみ   ┆ 259-1131  ┆ CS021313000025 ┆ 0      │\n",
       "│ 堤 明慶       ┆ 226-0016  ┆ CS040413000257 ┆ 0      │\n",
       "└───────────────┴───────────┴────────────────┴────────┘"
      ]
     },
     "execution_count": 48,
     "metadata": {},
     "output_type": "execute_result"
    }
   ],
   "source": [
    "df_receipt_sum = df_receipt.group_by(\n",
    "    'customer_id'\n",
    ").agg(\n",
    "    pl.col.amount.sum()\n",
    ")\n",
    "\n",
    "df_unique_customer = df_customer.join(\n",
    "    df_receipt_sum, on='customer_id', how='left'\n",
    ").with_columns(\n",
    "    pl.col.amount.fill_null(0)\n",
    ").group_by(\n",
    "    'customer_name', 'postal_cd'\n",
    ").agg(\n",
    "    pl.col('customer_id', 'amount').sort_by('amount', 'customer_id', descending=[True, False]).first(),\n",
    ")\n",
    "\n",
    "df_unique_customer.head()"
   ]
  },
  {
   "cell_type": "code",
   "execution_count": 49,
   "metadata": {},
   "outputs": [
    {
     "data": {
      "text/plain": [
       "(21971, 21941)"
      ]
     },
     "execution_count": 49,
     "metadata": {},
     "output_type": "execute_result"
    }
   ],
   "source": [
    "df_customer.shape[0], df_unique_customer.shape[0]"
   ]
  },
  {
   "cell_type": "markdown",
   "metadata": {},
   "source": [
    "### P-088\n",
    "\n",
    "087で作成したデータを元に、顧客データに統合名寄IDを付与したデータを作成せよ。ただし、統合名寄IDは以下の仕様で付与するものとする。\n",
    "\n",
    ">\n",
    "> - 重複していない顧客：顧客ID（customer_id）を設定\n",
    "> - 重複している顧客：前設問で抽出したレコードの顧客IDを設定\n",
    "> \n",
    "> 顧客IDのユニーク件数と、統合名寄IDのユニーク件数の差も確認すること。"
   ]
  },
  {
   "cell_type": "code",
   "execution_count": 53,
   "metadata": {},
   "outputs": [
    {
     "data": {
      "text/html": [
       "<div><style>\n",
       ".dataframe > thead > tr,\n",
       ".dataframe > tbody > tr {\n",
       "  text-align: right;\n",
       "  white-space: pre-wrap;\n",
       "}\n",
       "</style>\n",
       "<small>shape: (5, 12)</small><table border=\"1\" class=\"dataframe\"><thead><tr><th>customer_id</th><th>customer_name</th><th>gender_cd</th><th>gender</th><th>birth_day</th><th>age</th><th>postal_cd</th><th>address</th><th>application_store_cd</th><th>application_date</th><th>status_cd</th><th>integration_id</th></tr><tr><td>str</td><td>str</td><td>str</td><td>str</td><td>str</td><td>i64</td><td>str</td><td>str</td><td>str</td><td>i64</td><td>str</td><td>str</td></tr></thead><tbody><tr><td>&quot;CS021313000114&quot;</td><td>&quot;大野 あや子&quot;</td><td>&quot;1&quot;</td><td>&quot;女性&quot;</td><td>&quot;1981-04-29&quot;</td><td>37</td><td>&quot;259-1113&quot;</td><td>&quot;神奈川県伊勢原市粟窪**********&quot;</td><td>&quot;S14021&quot;</td><td>20150905</td><td>&quot;0-00000000-0&quot;</td><td>&quot;CS021313000114&quot;</td></tr><tr><td>&quot;CS037613000071&quot;</td><td>&quot;六角 雅彦&quot;</td><td>&quot;9&quot;</td><td>&quot;不明&quot;</td><td>&quot;1952-04-01&quot;</td><td>66</td><td>&quot;136-0076&quot;</td><td>&quot;東京都江東区南砂**********&quot;</td><td>&quot;S13037&quot;</td><td>20150414</td><td>&quot;0-00000000-0&quot;</td><td>&quot;CS037613000071&quot;</td></tr><tr><td>&quot;CS031415000172&quot;</td><td>&quot;宇多田 貴美子&quot;</td><td>&quot;1&quot;</td><td>&quot;女性&quot;</td><td>&quot;1976-10-04&quot;</td><td>42</td><td>&quot;151-0053&quot;</td><td>&quot;東京都渋谷区代々木**********&quot;</td><td>&quot;S13031&quot;</td><td>20150529</td><td>&quot;D-20100325-C&quot;</td><td>&quot;CS031415000172&quot;</td></tr><tr><td>&quot;CS028811000001&quot;</td><td>&quot;堀井 かおり&quot;</td><td>&quot;1&quot;</td><td>&quot;女性&quot;</td><td>&quot;1933-03-27&quot;</td><td>86</td><td>&quot;245-0016&quot;</td><td>&quot;神奈川県横浜市泉区和泉町**********&quot;</td><td>&quot;S14028&quot;</td><td>20160115</td><td>&quot;0-00000000-0&quot;</td><td>&quot;CS028811000001&quot;</td></tr><tr><td>&quot;CS001215000145&quot;</td><td>&quot;田崎 美紀&quot;</td><td>&quot;1&quot;</td><td>&quot;女性&quot;</td><td>&quot;1995-03-29&quot;</td><td>24</td><td>&quot;144-0055&quot;</td><td>&quot;東京都大田区仲六郷**********&quot;</td><td>&quot;S13001&quot;</td><td>20170605</td><td>&quot;6-20090929-2&quot;</td><td>&quot;CS001215000145&quot;</td></tr></tbody></table></div>"
      ],
      "text/plain": [
       "shape: (5, 12)\n",
       "┌───────────────┬───────────────┬───────────┬────────┬───┬───────────────┬───────────────┬──────────────┬──────────────┐\n",
       "│ customer_id   ┆ customer_name ┆ gender_cd ┆ gender ┆ … ┆ application_s ┆ application_d ┆ status_cd    ┆ integration_ │\n",
       "│ ---           ┆ ---           ┆ ---       ┆ ---    ┆   ┆ tore_cd       ┆ ate           ┆ ---          ┆ id           │\n",
       "│ str           ┆ str           ┆ str       ┆ str    ┆   ┆ ---           ┆ ---           ┆ str          ┆ ---          │\n",
       "│               ┆               ┆           ┆        ┆   ┆ str           ┆ i64           ┆              ┆ str          │\n",
       "╞═══════════════╪═══════════════╪═══════════╪════════╪═══╪═══════════════╪═══════════════╪══════════════╪══════════════╡\n",
       "│ CS02131300011 ┆ 大野 あや子   ┆ 1         ┆ 女性   ┆ … ┆ S14021        ┆ 20150905      ┆ 0-00000000-0 ┆ CS0213130001 │\n",
       "│ 4             ┆               ┆           ┆        ┆   ┆               ┆               ┆              ┆ 14           │\n",
       "│ CS03761300007 ┆ 六角 雅彦     ┆ 9         ┆ 不明   ┆ … ┆ S13037        ┆ 20150414      ┆ 0-00000000-0 ┆ CS0376130000 │\n",
       "│ 1             ┆               ┆           ┆        ┆   ┆               ┆               ┆              ┆ 71           │\n",
       "│ CS03141500017 ┆ 宇多田 貴美子 ┆ 1         ┆ 女性   ┆ … ┆ S13031        ┆ 20150529      ┆ D-20100325-C ┆ CS0314150001 │\n",
       "│ 2             ┆               ┆           ┆        ┆   ┆               ┆               ┆              ┆ 72           │\n",
       "│ CS02881100000 ┆ 堀井 かおり   ┆ 1         ┆ 女性   ┆ … ┆ S14028        ┆ 20160115      ┆ 0-00000000-0 ┆ CS0288110000 │\n",
       "│ 1             ┆               ┆           ┆        ┆   ┆               ┆               ┆              ┆ 01           │\n",
       "│ CS00121500014 ┆ 田崎 美紀     ┆ 1         ┆ 女性   ┆ … ┆ S13001        ┆ 20170605      ┆ 6-20090929-2 ┆ CS0012150001 │\n",
       "│ 5             ┆               ┆           ┆        ┆   ┆               ┆               ┆              ┆ 45           │\n",
       "└───────────────┴───────────────┴───────────┴────────┴───┴───────────────┴───────────────┴──────────────┴──────────────┘"
      ]
     },
     "execution_count": 53,
     "metadata": {},
     "output_type": "execute_result"
    }
   ],
   "source": [
    "df_customer_integration = df_customer.join(\n",
    "    df_unique_customer.select(\n",
    "        'customer_name', 'postal_cd', pl.col.customer_id.alias('integration_id')\n",
    "    ),\n",
    "    on=['customer_name', 'postal_cd'], \n",
    "    how='left',\n",
    ")\n",
    "df_customer_integration.head()"
   ]
  },
  {
   "cell_type": "code",
   "execution_count": 55,
   "metadata": {},
   "outputs": [
    {
     "data": {
      "text/plain": [
       "30"
      ]
     },
     "execution_count": 55,
     "metadata": {},
     "output_type": "execute_result"
    }
   ],
   "source": [
    "df_customer_integration.filter(\n",
    "    pl.col.customer_id != pl.col.integration_id\n",
    ").shape[0]"
   ]
  },
  {
   "cell_type": "markdown",
   "metadata": {},
   "source": [
    "### P-089\n",
    "\n",
    "売上実績がある顧客を、予測モデル構築のため学習用データとテスト用データに分割したい。それぞれ8:2の割合でランダムにデータを分割せよ。"
   ]
  },
  {
   "cell_type": "code",
   "execution_count": 14,
   "metadata": {},
   "outputs": [
    {
     "data": {
      "text/plain": [
       "(6645, 1662)"
      ]
     },
     "execution_count": 14,
     "metadata": {},
     "output_type": "execute_result"
    }
   ],
   "source": [
    "df_train, df_test = df_receipt.group_by(\n",
    "    'customer_id'\n",
    ").agg(\n",
    "    pl.col.amount.sum()\n",
    ").join(\n",
    "    df_customer,\n",
    "    on='customer_id',\n",
    "    how='left'\n",
    ").with_columns(\n",
    "    split=pl.int_range(pl.len()).shuffle() < pl.len() * 0.2\n",
    ").partition_by(\n",
    "    'split'\n",
    ")\n",
    "\n",
    "df_train.shape[0], df_test.shape[0]"
   ]
  },
  {
   "cell_type": "markdown",
   "metadata": {},
   "source": [
    "### P-090\n",
    "\n",
    "レシート明細データ（df_receipt）は2017年1月1日〜2019年10月31日までのデータを有している。売上金額（amount）を月次で集計し、学習用に12ヶ月、テスト用に6ヶ月の時系列モデル構築用データを3セット作成せよ。"
   ]
  },
  {
   "cell_type": "code",
   "execution_count": 43,
   "metadata": {},
   "outputs": [
    {
     "data": {
      "text/plain": [
       "[shape: (18, 3)\n",
       " ┌──────────┬────────────┬───────────┐\n",
       " │ sales_ym ┆ sum_amount ┆ test_flag │\n",
       " │ ---      ┆ ---        ┆ ---       │\n",
       " │ i64      ┆ i64        ┆ u8        │\n",
       " ╞══════════╪════════════╪═══════════╡\n",
       " │ 201701   ┆ 902056     ┆ 0         │\n",
       " │ 201702   ┆ 764413     ┆ 0         │\n",
       " │ 201703   ┆ 962945     ┆ 0         │\n",
       " │ 201704   ┆ 847566     ┆ 0         │\n",
       " │ 201705   ┆ 884010     ┆ 0         │\n",
       " │ …        ┆ …          ┆ …         │\n",
       " │ 201802   ┆ 864128     ┆ 1         │\n",
       " │ 201803   ┆ 946588     ┆ 1         │\n",
       " │ 201804   ┆ 937099     ┆ 1         │\n",
       " │ 201805   ┆ 1004438    ┆ 1         │\n",
       " │ 201806   ┆ 1012329    ┆ 1         │\n",
       " └──────────┴────────────┴───────────┘,\n",
       " shape: (18, 3)\n",
       " ┌──────────┬────────────┬───────────┐\n",
       " │ sales_ym ┆ sum_amount ┆ test_flag │\n",
       " │ ---      ┆ ---        ┆ ---       │\n",
       " │ i64      ┆ i64        ┆ u8        │\n",
       " ╞══════════╪════════════╪═══════════╡\n",
       " │ 201707   ┆ 959205     ┆ 0         │\n",
       " │ 201708   ┆ 954836     ┆ 0         │\n",
       " │ 201709   ┆ 902037     ┆ 0         │\n",
       " │ 201710   ┆ 905739     ┆ 0         │\n",
       " │ 201711   ┆ 932157     ┆ 0         │\n",
       " │ …        ┆ …          ┆ …         │\n",
       " │ 201808   ┆ 1045793    ┆ 1         │\n",
       " │ 201809   ┆ 977114     ┆ 1         │\n",
       " │ 201810   ┆ 1069939    ┆ 1         │\n",
       " │ 201811   ┆ 967479     ┆ 1         │\n",
       " │ 201812   ┆ 1016425    ┆ 1         │\n",
       " └──────────┴────────────┴───────────┘,\n",
       " shape: (18, 3)\n",
       " ┌──────────┬────────────┬───────────┐\n",
       " │ sales_ym ┆ sum_amount ┆ test_flag │\n",
       " │ ---      ┆ ---        ┆ ---       │\n",
       " │ i64      ┆ i64        ┆ u8        │\n",
       " ╞══════════╪════════════╪═══════════╡\n",
       " │ 201801   ┆ 944509     ┆ 0         │\n",
       " │ 201802   ┆ 864128     ┆ 0         │\n",
       " │ 201803   ┆ 946588     ┆ 0         │\n",
       " │ 201804   ┆ 937099     ┆ 0         │\n",
       " │ 201805   ┆ 1004438    ┆ 0         │\n",
       " │ …        ┆ …          ┆ …         │\n",
       " │ 201902   ┆ 959538     ┆ 1         │\n",
       " │ 201903   ┆ 1093753    ┆ 1         │\n",
       " │ 201904   ┆ 1044210    ┆ 1         │\n",
       " │ 201905   ┆ 1111985    ┆ 1         │\n",
       " │ 201906   ┆ 1089063    ┆ 1         │\n",
       " └──────────┴────────────┴───────────┘]"
      ]
     },
     "execution_count": 43,
     "metadata": {},
     "output_type": "execute_result"
    }
   ],
   "source": [
    "df_tmp = df_receipt.group_by(\n",
    "    (pl.col.sales_ymd // 100).alias('sales_ym')\n",
    ").agg(\n",
    "    sum_amount=pl.col.amount.sum()\n",
    ").sort(\n",
    "    by='sales_ym'\n",
    ")\n",
    "\n",
    "group = df_tmp.with_row_index().group_by_dynamic(\n",
    "    pl.col.index.cast(pl.Int32), every='6i', period='18i', offset='0i'\n",
    ")\n",
    "\n",
    "dfs = [df for _, df in group][:3]\n",
    "dfs = [df.with_columns(\n",
    "    test_flag=(pl.int_range(pl.len()) > 12).cast(pl.UInt8)\n",
    ").select(pl.exclude('index')) for df in dfs]\n",
    "\n",
    "dfs"
   ]
  },
  {
   "cell_type": "markdown",
   "metadata": {},
   "source": [
    "## 演習問題 091~100"
   ]
  },
  {
   "cell_type": "markdown",
   "metadata": {},
   "source": [
    "### P-091\n",
    "\n",
    "顧客データ（df_customer）の各顧客に対し、売上実績がある顧客数と売上実績がない顧客数が1:1となるようにアンダーサンプリングで抽出せよ。"
   ]
  },
  {
   "cell_type": "code",
   "execution_count": 53,
   "metadata": {},
   "outputs": [
    {
     "data": {
      "text/html": [
       "<div><style>\n",
       ".dataframe > thead > tr,\n",
       ".dataframe > tbody > tr {\n",
       "  text-align: right;\n",
       "  white-space: pre-wrap;\n",
       "}\n",
       "</style>\n",
       "<small>shape: (2, 2)</small><table border=\"1\" class=\"dataframe\"><thead><tr><th>sum_amount</th><th>count</th></tr><tr><td>u8</td><td>u32</td></tr></thead><tbody><tr><td>0</td><td>8306</td></tr><tr><td>1</td><td>8306</td></tr></tbody></table></div>"
      ],
      "text/plain": [
       "shape: (2, 2)\n",
       "┌────────────┬───────┐\n",
       "│ sum_amount ┆ count │\n",
       "│ ---        ┆ ---   │\n",
       "│ u8         ┆ u32   │\n",
       "╞════════════╪═══════╡\n",
       "│ 0          ┆ 8306  │\n",
       "│ 1          ┆ 8306  │\n",
       "└────────────┴───────┘"
      ]
     },
     "execution_count": 53,
     "metadata": {},
     "output_type": "execute_result"
    }
   ],
   "source": [
    "df_tmp = df_customer.join(\n",
    "    df_receipt.group_by(\n",
    "        pl.col.customer_id\n",
    "    ).agg(\n",
    "        sum_amount=pl.col.amount.sum()\n",
    "    ),\n",
    "    on='customer_id',\n",
    "    how='left'\n",
    ")\n",
    "\n",
    "flag = pl.col.sum_amount.is_null().cast(pl.UInt8)\n",
    "\n",
    "df_result = df_tmp.filter(\n",
    "    pl.int_range(pl.len()).shuffle().over(flag) < pl.len().over(flag).min()\n",
    ")\n",
    "\n",
    "df_result.group_by(\n",
    "    flag\n",
    ").agg(\n",
    "    count=pl.col.customer_id.count()\n",
    ")"
   ]
  },
  {
   "cell_type": "markdown",
   "metadata": {},
   "source": [
    "### P-092\n",
    "\n",
    "顧客データ（df_customer）の性別について、第三正規形へと正規化せよ。"
   ]
  },
  {
   "cell_type": "code",
   "execution_count": 57,
   "metadata": {},
   "outputs": [
    {
     "data": {
      "text/html": [
       "<div><style>\n",
       ".dataframe > thead > tr,\n",
       ".dataframe > tbody > tr {\n",
       "  text-align: right;\n",
       "  white-space: pre-wrap;\n",
       "}\n",
       "</style>\n",
       "<small>shape: (3, 2)</small><table border=\"1\" class=\"dataframe\"><thead><tr><th>gender_cd</th><th>gender</th></tr><tr><td>str</td><td>str</td></tr></thead><tbody><tr><td>&quot;9&quot;</td><td>&quot;不明&quot;</td></tr><tr><td>&quot;0&quot;</td><td>&quot;男性&quot;</td></tr><tr><td>&quot;1&quot;</td><td>&quot;女性&quot;</td></tr></tbody></table></div>"
      ],
      "text/plain": [
       "shape: (3, 2)\n",
       "┌───────────┬────────┐\n",
       "│ gender_cd ┆ gender │\n",
       "│ ---       ┆ ---    │\n",
       "│ str       ┆ str    │\n",
       "╞═══════════╪════════╡\n",
       "│ 9         ┆ 不明   │\n",
       "│ 0         ┆ 男性   │\n",
       "│ 1         ┆ 女性   │\n",
       "└───────────┴────────┘"
      ]
     },
     "execution_count": 57,
     "metadata": {},
     "output_type": "execute_result"
    }
   ],
   "source": [
    "df_gender_std = df_customer.select('gender_cd', 'gender').unique()\n",
    "df_gender_std"
   ]
  },
  {
   "cell_type": "code",
   "execution_count": 59,
   "metadata": {},
   "outputs": [
    {
     "data": {
      "text/html": [
       "<div><style>\n",
       ".dataframe > thead > tr,\n",
       ".dataframe > tbody > tr {\n",
       "  text-align: right;\n",
       "  white-space: pre-wrap;\n",
       "}\n",
       "</style>\n",
       "<small>shape: (5, 9)</small><table border=\"1\" class=\"dataframe\"><thead><tr><th>customer_id</th><th>customer_name</th><th>gender_cd</th><th>birth_day</th><th>age</th><th>postal_cd</th><th>application_store_cd</th><th>application_date</th><th>status_cd</th></tr><tr><td>str</td><td>str</td><td>str</td><td>str</td><td>i64</td><td>str</td><td>str</td><td>i64</td><td>str</td></tr></thead><tbody><tr><td>&quot;CS021313000114&quot;</td><td>&quot;大野 あや子&quot;</td><td>&quot;1&quot;</td><td>&quot;1981-04-29&quot;</td><td>37</td><td>&quot;259-1113&quot;</td><td>&quot;S14021&quot;</td><td>20150905</td><td>&quot;0-00000000-0&quot;</td></tr><tr><td>&quot;CS037613000071&quot;</td><td>&quot;六角 雅彦&quot;</td><td>&quot;9&quot;</td><td>&quot;1952-04-01&quot;</td><td>66</td><td>&quot;136-0076&quot;</td><td>&quot;S13037&quot;</td><td>20150414</td><td>&quot;0-00000000-0&quot;</td></tr><tr><td>&quot;CS031415000172&quot;</td><td>&quot;宇多田 貴美子&quot;</td><td>&quot;1&quot;</td><td>&quot;1976-10-04&quot;</td><td>42</td><td>&quot;151-0053&quot;</td><td>&quot;S13031&quot;</td><td>20150529</td><td>&quot;D-20100325-C&quot;</td></tr><tr><td>&quot;CS028811000001&quot;</td><td>&quot;堀井 かおり&quot;</td><td>&quot;1&quot;</td><td>&quot;1933-03-27&quot;</td><td>86</td><td>&quot;245-0016&quot;</td><td>&quot;S14028&quot;</td><td>20160115</td><td>&quot;0-00000000-0&quot;</td></tr><tr><td>&quot;CS001215000145&quot;</td><td>&quot;田崎 美紀&quot;</td><td>&quot;1&quot;</td><td>&quot;1995-03-29&quot;</td><td>24</td><td>&quot;144-0055&quot;</td><td>&quot;S13001&quot;</td><td>20170605</td><td>&quot;6-20090929-2&quot;</td></tr></tbody></table></div>"
      ],
      "text/plain": [
       "shape: (5, 9)\n",
       "┌───────────────┬───────────────┬───────────┬────────────┬───┬───────────┬───────────────┬──────────────┬──────────────┐\n",
       "│ customer_id   ┆ customer_name ┆ gender_cd ┆ birth_day  ┆ … ┆ postal_cd ┆ application_s ┆ application_ ┆ status_cd    │\n",
       "│ ---           ┆ ---           ┆ ---       ┆ ---        ┆   ┆ ---       ┆ tore_cd       ┆ date         ┆ ---          │\n",
       "│ str           ┆ str           ┆ str       ┆ str        ┆   ┆ str       ┆ ---           ┆ ---          ┆ str          │\n",
       "│               ┆               ┆           ┆            ┆   ┆           ┆ str           ┆ i64          ┆              │\n",
       "╞═══════════════╪═══════════════╪═══════════╪════════════╪═══╪═══════════╪═══════════════╪══════════════╪══════════════╡\n",
       "│ CS02131300011 ┆ 大野 あや子   ┆ 1         ┆ 1981-04-29 ┆ … ┆ 259-1113  ┆ S14021        ┆ 20150905     ┆ 0-00000000-0 │\n",
       "│ 4             ┆               ┆           ┆            ┆   ┆           ┆               ┆              ┆              │\n",
       "│ CS03761300007 ┆ 六角 雅彦     ┆ 9         ┆ 1952-04-01 ┆ … ┆ 136-0076  ┆ S13037        ┆ 20150414     ┆ 0-00000000-0 │\n",
       "│ 1             ┆               ┆           ┆            ┆   ┆           ┆               ┆              ┆              │\n",
       "│ CS03141500017 ┆ 宇多田 貴美子 ┆ 1         ┆ 1976-10-04 ┆ … ┆ 151-0053  ┆ S13031        ┆ 20150529     ┆ D-20100325-C │\n",
       "│ 2             ┆               ┆           ┆            ┆   ┆           ┆               ┆              ┆              │\n",
       "│ CS02881100000 ┆ 堀井 かおり   ┆ 1         ┆ 1933-03-27 ┆ … ┆ 245-0016  ┆ S14028        ┆ 20160115     ┆ 0-00000000-0 │\n",
       "│ 1             ┆               ┆           ┆            ┆   ┆           ┆               ┆              ┆              │\n",
       "│ CS00121500014 ┆ 田崎 美紀     ┆ 1         ┆ 1995-03-29 ┆ … ┆ 144-0055  ┆ S13001        ┆ 20170605     ┆ 6-20090929-2 │\n",
       "│ 5             ┆               ┆           ┆            ┆   ┆           ┆               ┆              ┆              │\n",
       "└───────────────┴───────────────┴───────────┴────────────┴───┴───────────┴───────────────┴──────────────┴──────────────┘"
      ]
     },
     "execution_count": 59,
     "metadata": {},
     "output_type": "execute_result"
    }
   ],
   "source": [
    "df_customer_std = df_customer.select(\n",
    "    'customer_id',\n",
    "    'customer_name',\n",
    "    'gender_cd',\n",
    "    'birth_day',\n",
    "    'age',\n",
    "    'postal_cd',\n",
    "    'application_store_cd',\n",
    "    'application_date',\n",
    "    'status_cd'\n",
    ")\n",
    "df_customer_std.head()"
   ]
  },
  {
   "cell_type": "markdown",
   "metadata": {},
   "source": [
    "### P-093\n",
    "\n",
    "商品データ（df_product）では各カテゴリのコード値だけを保有し、カテゴリ名は保有していない。カテゴリデータ（df_category）と組み合わせて非正規化し、カテゴリ名を保有した新たな商品データを作成せよ。"
   ]
  },
  {
   "cell_type": "code",
   "execution_count": 67,
   "metadata": {},
   "outputs": [
    {
     "data": {
      "text/html": [
       "<div><style>\n",
       ".dataframe > thead > tr,\n",
       ".dataframe > tbody > tr {\n",
       "  text-align: right;\n",
       "  white-space: pre-wrap;\n",
       "}\n",
       "</style>\n",
       "<small>shape: (5, 9)</small><table border=\"1\" class=\"dataframe\"><thead><tr><th>product_cd</th><th>category_major_cd</th><th>category_major_name</th><th>category_medium_cd</th><th>category_medium_name</th><th>category_small_cd</th><th>category_small_name</th><th>unit_price</th><th>unit_cost</th></tr><tr><td>str</td><td>str</td><td>str</td><td>str</td><td>str</td><td>str</td><td>str</td><td>i64</td><td>i64</td></tr></thead><tbody><tr><td>&quot;P040101001&quot;</td><td>&quot;04&quot;</td><td>&quot;惣菜&quot;</td><td>&quot;0401&quot;</td><td>&quot;御飯類&quot;</td><td>&quot;040101&quot;</td><td>&quot;弁当類&quot;</td><td>198</td><td>149</td></tr><tr><td>&quot;P040101002&quot;</td><td>&quot;04&quot;</td><td>&quot;惣菜&quot;</td><td>&quot;0401&quot;</td><td>&quot;御飯類&quot;</td><td>&quot;040101&quot;</td><td>&quot;弁当類&quot;</td><td>218</td><td>164</td></tr><tr><td>&quot;P040101003&quot;</td><td>&quot;04&quot;</td><td>&quot;惣菜&quot;</td><td>&quot;0401&quot;</td><td>&quot;御飯類&quot;</td><td>&quot;040101&quot;</td><td>&quot;弁当類&quot;</td><td>230</td><td>173</td></tr><tr><td>&quot;P040101004&quot;</td><td>&quot;04&quot;</td><td>&quot;惣菜&quot;</td><td>&quot;0401&quot;</td><td>&quot;御飯類&quot;</td><td>&quot;040101&quot;</td><td>&quot;弁当類&quot;</td><td>248</td><td>186</td></tr><tr><td>&quot;P040101005&quot;</td><td>&quot;04&quot;</td><td>&quot;惣菜&quot;</td><td>&quot;0401&quot;</td><td>&quot;御飯類&quot;</td><td>&quot;040101&quot;</td><td>&quot;弁当類&quot;</td><td>268</td><td>201</td></tr></tbody></table></div>"
      ],
      "text/plain": [
       "shape: (5, 9)\n",
       "┌────────────┬───────────────┬───────────────┬──────────────┬───┬──────────────┬──────────────┬────────────┬───────────┐\n",
       "│ product_cd ┆ category_majo ┆ category_majo ┆ category_med ┆ … ┆ category_sma ┆ category_sma ┆ unit_price ┆ unit_cost │\n",
       "│ ---        ┆ r_cd          ┆ r_name        ┆ ium_cd       ┆   ┆ ll_cd        ┆ ll_name      ┆ ---        ┆ ---       │\n",
       "│ str        ┆ ---           ┆ ---           ┆ ---          ┆   ┆ ---          ┆ ---          ┆ i64        ┆ i64       │\n",
       "│            ┆ str           ┆ str           ┆ str          ┆   ┆ str          ┆ str          ┆            ┆           │\n",
       "╞════════════╪═══════════════╪═══════════════╪══════════════╪═══╪══════════════╪══════════════╪════════════╪═══════════╡\n",
       "│ P040101001 ┆ 04            ┆ 惣菜          ┆ 0401         ┆ … ┆ 040101       ┆ 弁当類       ┆ 198        ┆ 149       │\n",
       "│ P040101002 ┆ 04            ┆ 惣菜          ┆ 0401         ┆ … ┆ 040101       ┆ 弁当類       ┆ 218        ┆ 164       │\n",
       "│ P040101003 ┆ 04            ┆ 惣菜          ┆ 0401         ┆ … ┆ 040101       ┆ 弁当類       ┆ 230        ┆ 173       │\n",
       "│ P040101004 ┆ 04            ┆ 惣菜          ┆ 0401         ┆ … ┆ 040101       ┆ 弁当類       ┆ 248        ┆ 186       │\n",
       "│ P040101005 ┆ 04            ┆ 惣菜          ┆ 0401         ┆ … ┆ 040101       ┆ 弁当類       ┆ 268        ┆ 201       │\n",
       "└────────────┴───────────────┴───────────────┴──────────────┴───┴──────────────┴──────────────┴────────────┴───────────┘"
      ]
     },
     "execution_count": 67,
     "metadata": {},
     "output_type": "execute_result"
    }
   ],
   "source": [
    "df_product_full = df_product.join(\n",
    "    df_category,\n",
    "    on='category_small_cd',\n",
    "    how='inner'\n",
    ").select(\n",
    "    'product_cd',\n",
    "    'category_major_cd',\n",
    "    'category_major_name',\n",
    "    'category_medium_cd',\n",
    "    'category_medium_name',\n",
    "    'category_small_cd',\n",
    "    'category_small_name',\n",
    "    'unit_price',\n",
    "    'unit_cost'\n",
    ")\n",
    "df_product_full.head()"
   ]
  },
  {
   "cell_type": "markdown",
   "metadata": {},
   "source": [
    "### P-094\n",
    "\n",
    "093で作成したカテゴリ名付き商品データを以下の仕様でファイル出力せよ。\n",
    ">\n",
    "> |ファイル形式|ヘッダ有無|文字エンコーディング|\n",
    "> |:--:|:--:|:--:|\n",
    "> |CSV（カンマ区切り）|有り|UTF-8|\n",
    "> \n",
    "> ファイル出力先のパスは以下のようにすること\n",
    "> \n",
    "> |出力先|\n",
    "> |:--:|\n",
    "> |./data|"
   ]
  },
  {
   "cell_type": "code",
   "execution_count": 68,
   "metadata": {},
   "outputs": [],
   "source": [
    "df_product_full.write_csv('./data/product_full.csv')"
   ]
  },
  {
   "cell_type": "markdown",
   "metadata": {},
   "source": [
    "### P-095\n",
    "\n",
    "093で作成したカテゴリ名付き商品データを以下の仕様でファイル出力せよ。\n",
    ">\n",
    "> |ファイル形式|ヘッダ有無|文字エンコーディング|\n",
    "> |:--:|:--:|:--:|\n",
    "> |CSV（カンマ区切り）|有り|CP932|\n",
    "> \n",
    "> ファイル出力先のパスは以下のようにすること。\n",
    "> \n",
    "> |出力先|\n",
    "> |:--:|\n",
    "> |./data|"
   ]
  },
  {
   "cell_type": "code",
   "execution_count": 72,
   "metadata": {},
   "outputs": [],
   "source": [
    "import io\n",
    "buf = io.BytesIO()\n",
    "df_product_full.write_csv(buf)\n",
    "with open('./data/product_full_cp932.csv', 'wb') as f:\n",
    "    f.write(buf.getvalue().decode('utf-8').encode('cp932'))"
   ]
  },
  {
   "cell_type": "markdown",
   "metadata": {},
   "source": [
    "### P-096\n",
    "\n",
    "093で作成したカテゴリ名付き商品データを以下の仕様でファイル出力せよ。\n",
    ">\n",
    "> |ファイル形式|ヘッダ有無|文字エンコーディング|\n",
    "> |:--:|:--:|:--:|\n",
    "> |CSV（カンマ区切り）|無し|UTF-8|\n",
    "> \n",
    "> ファイル出力先のパスは以下のようにすること。\n",
    "> \n",
    "> |出力先|\n",
    "> |:--:|\n",
    "> |./data|"
   ]
  },
  {
   "cell_type": "code",
   "execution_count": 73,
   "metadata": {},
   "outputs": [],
   "source": [
    "df_product_full.write_csv('./data/product_full_nohead.csv', include_header=False)"
   ]
  },
  {
   "cell_type": "markdown",
   "metadata": {},
   "source": [
    "### P-097\n",
    "\n",
    "094で作成した以下形式のファイルを読み込み、データを3件を表示させて正しく取り込まれていることを確認せよ。\n",
    "> \n",
    "> |ファイル形式|ヘッダ有無|文字エンコーディング|\n",
    "> |:--:|:--:|:--:|\n",
    "> |CSV（カンマ区切り）|有り|UTF-8|"
   ]
  },
  {
   "cell_type": "code",
   "execution_count": 75,
   "metadata": {},
   "outputs": [
    {
     "data": {
      "text/html": [
       "<div><style>\n",
       ".dataframe > thead > tr,\n",
       ".dataframe > tbody > tr {\n",
       "  text-align: right;\n",
       "  white-space: pre-wrap;\n",
       "}\n",
       "</style>\n",
       "<small>shape: (5, 9)</small><table border=\"1\" class=\"dataframe\"><thead><tr><th>product_cd</th><th>category_major_cd</th><th>category_major_name</th><th>category_medium_cd</th><th>category_medium_name</th><th>category_small_cd</th><th>category_small_name</th><th>unit_price</th><th>unit_cost</th></tr><tr><td>str</td><td>i64</td><td>str</td><td>i64</td><td>str</td><td>i64</td><td>str</td><td>i64</td><td>i64</td></tr></thead><tbody><tr><td>&quot;P040101001&quot;</td><td>4</td><td>&quot;惣菜&quot;</td><td>401</td><td>&quot;御飯類&quot;</td><td>40101</td><td>&quot;弁当類&quot;</td><td>198</td><td>149</td></tr><tr><td>&quot;P040101002&quot;</td><td>4</td><td>&quot;惣菜&quot;</td><td>401</td><td>&quot;御飯類&quot;</td><td>40101</td><td>&quot;弁当類&quot;</td><td>218</td><td>164</td></tr><tr><td>&quot;P040101003&quot;</td><td>4</td><td>&quot;惣菜&quot;</td><td>401</td><td>&quot;御飯類&quot;</td><td>40101</td><td>&quot;弁当類&quot;</td><td>230</td><td>173</td></tr><tr><td>&quot;P040101004&quot;</td><td>4</td><td>&quot;惣菜&quot;</td><td>401</td><td>&quot;御飯類&quot;</td><td>40101</td><td>&quot;弁当類&quot;</td><td>248</td><td>186</td></tr><tr><td>&quot;P040101005&quot;</td><td>4</td><td>&quot;惣菜&quot;</td><td>401</td><td>&quot;御飯類&quot;</td><td>40101</td><td>&quot;弁当類&quot;</td><td>268</td><td>201</td></tr></tbody></table></div>"
      ],
      "text/plain": [
       "shape: (5, 9)\n",
       "┌────────────┬───────────────┬───────────────┬──────────────┬───┬──────────────┬──────────────┬────────────┬───────────┐\n",
       "│ product_cd ┆ category_majo ┆ category_majo ┆ category_med ┆ … ┆ category_sma ┆ category_sma ┆ unit_price ┆ unit_cost │\n",
       "│ ---        ┆ r_cd          ┆ r_name        ┆ ium_cd       ┆   ┆ ll_cd        ┆ ll_name      ┆ ---        ┆ ---       │\n",
       "│ str        ┆ ---           ┆ ---           ┆ ---          ┆   ┆ ---          ┆ ---          ┆ i64        ┆ i64       │\n",
       "│            ┆ i64           ┆ str           ┆ i64          ┆   ┆ i64          ┆ str          ┆            ┆           │\n",
       "╞════════════╪═══════════════╪═══════════════╪══════════════╪═══╪══════════════╪══════════════╪════════════╪═══════════╡\n",
       "│ P040101001 ┆ 4             ┆ 惣菜          ┆ 401          ┆ … ┆ 40101        ┆ 弁当類       ┆ 198        ┆ 149       │\n",
       "│ P040101002 ┆ 4             ┆ 惣菜          ┆ 401          ┆ … ┆ 40101        ┆ 弁当類       ┆ 218        ┆ 164       │\n",
       "│ P040101003 ┆ 4             ┆ 惣菜          ┆ 401          ┆ … ┆ 40101        ┆ 弁当類       ┆ 230        ┆ 173       │\n",
       "│ P040101004 ┆ 4             ┆ 惣菜          ┆ 401          ┆ … ┆ 40101        ┆ 弁当類       ┆ 248        ┆ 186       │\n",
       "│ P040101005 ┆ 4             ┆ 惣菜          ┆ 401          ┆ … ┆ 40101        ┆ 弁当類       ┆ 268        ┆ 201       │\n",
       "└────────────┴───────────────┴───────────────┴──────────────┴───┴──────────────┴──────────────┴────────────┴───────────┘"
      ]
     },
     "execution_count": 75,
     "metadata": {},
     "output_type": "execute_result"
    }
   ],
   "source": [
    "pl.read_csv('./data/product_full.csv').head()"
   ]
  },
  {
   "cell_type": "markdown",
   "metadata": {},
   "source": [
    "### P-098\n",
    "\n",
    "096で作成した以下形式のファイルを読み込み、データを3件を表示させて正しく取り込まれていることを確認せよ。\n",
    "> \n",
    "> |ファイル形式|ヘッダ有無|文字エンコーディング|\n",
    "> |:--:|:--:|:--:|\n",
    "> |CSV（カンマ区切り）|ヘッダ無し|UTF-8|"
   ]
  },
  {
   "cell_type": "code",
   "execution_count": 77,
   "metadata": {},
   "outputs": [
    {
     "data": {
      "text/plain": [
       "['product_cd',\n",
       " 'category_major_cd',\n",
       " 'category_major_name',\n",
       " 'category_medium_cd',\n",
       " 'category_medium_name',\n",
       " 'category_small_cd',\n",
       " 'category_small_name',\n",
       " 'unit_price',\n",
       " 'unit_cost']"
      ]
     },
     "execution_count": 77,
     "metadata": {},
     "output_type": "execute_result"
    }
   ],
   "source": [
    "df_product_full.columns"
   ]
  },
  {
   "cell_type": "code",
   "execution_count": 81,
   "metadata": {},
   "outputs": [
    {
     "data": {
      "text/html": [
       "<div><style>\n",
       ".dataframe > thead > tr,\n",
       ".dataframe > tbody > tr {\n",
       "  text-align: right;\n",
       "  white-space: pre-wrap;\n",
       "}\n",
       "</style>\n",
       "<small>shape: (5, 9)</small><table border=\"1\" class=\"dataframe\"><thead><tr><th>product_cd</th><th>category_major_cd</th><th>category_major_name</th><th>category_medium_cd</th><th>category_medium_name</th><th>category_small_cd</th><th>category_small_name</th><th>unit_price</th><th>unit_cost</th></tr><tr><td>str</td><td>i64</td><td>str</td><td>i64</td><td>str</td><td>i64</td><td>str</td><td>i64</td><td>i64</td></tr></thead><tbody><tr><td>&quot;P040101001&quot;</td><td>4</td><td>&quot;惣菜&quot;</td><td>401</td><td>&quot;御飯類&quot;</td><td>40101</td><td>&quot;弁当類&quot;</td><td>198</td><td>149</td></tr><tr><td>&quot;P040101002&quot;</td><td>4</td><td>&quot;惣菜&quot;</td><td>401</td><td>&quot;御飯類&quot;</td><td>40101</td><td>&quot;弁当類&quot;</td><td>218</td><td>164</td></tr><tr><td>&quot;P040101003&quot;</td><td>4</td><td>&quot;惣菜&quot;</td><td>401</td><td>&quot;御飯類&quot;</td><td>40101</td><td>&quot;弁当類&quot;</td><td>230</td><td>173</td></tr><tr><td>&quot;P040101004&quot;</td><td>4</td><td>&quot;惣菜&quot;</td><td>401</td><td>&quot;御飯類&quot;</td><td>40101</td><td>&quot;弁当類&quot;</td><td>248</td><td>186</td></tr><tr><td>&quot;P040101005&quot;</td><td>4</td><td>&quot;惣菜&quot;</td><td>401</td><td>&quot;御飯類&quot;</td><td>40101</td><td>&quot;弁当類&quot;</td><td>268</td><td>201</td></tr></tbody></table></div>"
      ],
      "text/plain": [
       "shape: (5, 9)\n",
       "┌────────────┬───────────────┬───────────────┬──────────────┬───┬──────────────┬──────────────┬────────────┬───────────┐\n",
       "│ product_cd ┆ category_majo ┆ category_majo ┆ category_med ┆ … ┆ category_sma ┆ category_sma ┆ unit_price ┆ unit_cost │\n",
       "│ ---        ┆ r_cd          ┆ r_name        ┆ ium_cd       ┆   ┆ ll_cd        ┆ ll_name      ┆ ---        ┆ ---       │\n",
       "│ str        ┆ ---           ┆ ---           ┆ ---          ┆   ┆ ---          ┆ ---          ┆ i64        ┆ i64       │\n",
       "│            ┆ i64           ┆ str           ┆ i64          ┆   ┆ i64          ┆ str          ┆            ┆           │\n",
       "╞════════════╪═══════════════╪═══════════════╪══════════════╪═══╪══════════════╪══════════════╪════════════╪═══════════╡\n",
       "│ P040101001 ┆ 4             ┆ 惣菜          ┆ 401          ┆ … ┆ 40101        ┆ 弁当類       ┆ 198        ┆ 149       │\n",
       "│ P040101002 ┆ 4             ┆ 惣菜          ┆ 401          ┆ … ┆ 40101        ┆ 弁当類       ┆ 218        ┆ 164       │\n",
       "│ P040101003 ┆ 4             ┆ 惣菜          ┆ 401          ┆ … ┆ 40101        ┆ 弁当類       ┆ 230        ┆ 173       │\n",
       "│ P040101004 ┆ 4             ┆ 惣菜          ┆ 401          ┆ … ┆ 40101        ┆ 弁当類       ┆ 248        ┆ 186       │\n",
       "│ P040101005 ┆ 4             ┆ 惣菜          ┆ 401          ┆ … ┆ 40101        ┆ 弁当類       ┆ 268        ┆ 201       │\n",
       "└────────────┴───────────────┴───────────────┴──────────────┴───┴──────────────┴──────────────┴────────────┴───────────┘"
      ]
     },
     "execution_count": 81,
     "metadata": {},
     "output_type": "execute_result"
    }
   ],
   "source": [
    "cols = ['product_cd',\n",
    " 'category_major_cd',\n",
    " 'category_major_name',\n",
    " 'category_medium_cd',\n",
    " 'category_medium_name',\n",
    " 'category_small_cd',\n",
    " 'category_small_name',\n",
    " 'unit_price',\n",
    " 'unit_cost']\n",
    "\n",
    "pl.read_csv('./data/product_full_nohead.csv', has_header=False, new_columns=cols).head()"
   ]
  },
  {
   "cell_type": "markdown",
   "metadata": {},
   "source": [
    "### P-099\n",
    "\n",
    "093で作成したカテゴリ名付き商品データを以下の仕様でファイル出力せよ。\n",
    ">\n",
    "> |ファイル形式|ヘッダ有無|文字エンコーディング|\n",
    "> |:--:|:--:|:--:|\n",
    "> |TSV（タブ区切り）|有り|UTF-8|\n",
    "> \n",
    "> ファイル出力先のパスは以下のようにすること\n",
    "> \n",
    "> |出力先|\n",
    "> |:--:|\n",
    "> |./data|"
   ]
  },
  {
   "cell_type": "code",
   "execution_count": 82,
   "metadata": {},
   "outputs": [],
   "source": [
    "df_product_full.write_csv('./data/product_full.tsv', separator='\\t')"
   ]
  },
  {
   "cell_type": "markdown",
   "metadata": {},
   "source": [
    "### P-100\n",
    "\n",
    "099で作成した以下形式のファイルを読み込み、データを3件を表示させて正しく取り込まれていることを確認せよ。\n",
    "\n",
    "> \n",
    "> |ファイル形式|ヘッダ有無|文字エンコーディング|\n",
    "> |:--:|:--:|:--:|\n",
    "> |TSV（タブ区切り）|有り|UTF-8|"
   ]
  },
  {
   "cell_type": "code",
   "execution_count": 85,
   "metadata": {},
   "outputs": [
    {
     "data": {
      "text/html": [
       "<div><style>\n",
       ".dataframe > thead > tr,\n",
       ".dataframe > tbody > tr {\n",
       "  text-align: right;\n",
       "  white-space: pre-wrap;\n",
       "}\n",
       "</style>\n",
       "<small>shape: (5, 9)</small><table border=\"1\" class=\"dataframe\"><thead><tr><th>product_cd</th><th>category_major_cd</th><th>category_major_name</th><th>category_medium_cd</th><th>category_medium_name</th><th>category_small_cd</th><th>category_small_name</th><th>unit_price</th><th>unit_cost</th></tr><tr><td>str</td><td>i64</td><td>str</td><td>i64</td><td>str</td><td>i64</td><td>str</td><td>i64</td><td>i64</td></tr></thead><tbody><tr><td>&quot;P040101001&quot;</td><td>4</td><td>&quot;惣菜&quot;</td><td>401</td><td>&quot;御飯類&quot;</td><td>40101</td><td>&quot;弁当類&quot;</td><td>198</td><td>149</td></tr><tr><td>&quot;P040101002&quot;</td><td>4</td><td>&quot;惣菜&quot;</td><td>401</td><td>&quot;御飯類&quot;</td><td>40101</td><td>&quot;弁当類&quot;</td><td>218</td><td>164</td></tr><tr><td>&quot;P040101003&quot;</td><td>4</td><td>&quot;惣菜&quot;</td><td>401</td><td>&quot;御飯類&quot;</td><td>40101</td><td>&quot;弁当類&quot;</td><td>230</td><td>173</td></tr><tr><td>&quot;P040101004&quot;</td><td>4</td><td>&quot;惣菜&quot;</td><td>401</td><td>&quot;御飯類&quot;</td><td>40101</td><td>&quot;弁当類&quot;</td><td>248</td><td>186</td></tr><tr><td>&quot;P040101005&quot;</td><td>4</td><td>&quot;惣菜&quot;</td><td>401</td><td>&quot;御飯類&quot;</td><td>40101</td><td>&quot;弁当類&quot;</td><td>268</td><td>201</td></tr></tbody></table></div>"
      ],
      "text/plain": [
       "shape: (5, 9)\n",
       "┌────────────┬───────────────┬───────────────┬──────────────┬───┬──────────────┬──────────────┬────────────┬───────────┐\n",
       "│ product_cd ┆ category_majo ┆ category_majo ┆ category_med ┆ … ┆ category_sma ┆ category_sma ┆ unit_price ┆ unit_cost │\n",
       "│ ---        ┆ r_cd          ┆ r_name        ┆ ium_cd       ┆   ┆ ll_cd        ┆ ll_name      ┆ ---        ┆ ---       │\n",
       "│ str        ┆ ---           ┆ ---           ┆ ---          ┆   ┆ ---          ┆ ---          ┆ i64        ┆ i64       │\n",
       "│            ┆ i64           ┆ str           ┆ i64          ┆   ┆ i64          ┆ str          ┆            ┆           │\n",
       "╞════════════╪═══════════════╪═══════════════╪══════════════╪═══╪══════════════╪══════════════╪════════════╪═══════════╡\n",
       "│ P040101001 ┆ 4             ┆ 惣菜          ┆ 401          ┆ … ┆ 40101        ┆ 弁当類       ┆ 198        ┆ 149       │\n",
       "│ P040101002 ┆ 4             ┆ 惣菜          ┆ 401          ┆ … ┆ 40101        ┆ 弁当類       ┆ 218        ┆ 164       │\n",
       "│ P040101003 ┆ 4             ┆ 惣菜          ┆ 401          ┆ … ┆ 40101        ┆ 弁当類       ┆ 230        ┆ 173       │\n",
       "│ P040101004 ┆ 4             ┆ 惣菜          ┆ 401          ┆ … ┆ 40101        ┆ 弁当類       ┆ 248        ┆ 186       │\n",
       "│ P040101005 ┆ 4             ┆ 惣菜          ┆ 401          ┆ … ┆ 40101        ┆ 弁当類       ┆ 268        ┆ 201       │\n",
       "└────────────┴───────────────┴───────────────┴──────────────┴───┴──────────────┴──────────────┴────────────┴───────────┘"
      ]
     },
     "execution_count": 85,
     "metadata": {},
     "output_type": "execute_result"
    }
   ],
   "source": [
    "pl.read_csv('./data/product_full.tsv', separator='\\t').head()"
   ]
  }
 ],
 "metadata": {
  "kernelspec": {
   "display_name": "Python 3 (ipykernel)",
   "language": "python",
   "name": "python3"
  },
  "language_info": {
   "codemirror_mode": {
    "name": "ipython",
    "version": 3
   },
   "file_extension": ".py",
   "mimetype": "text/x-python",
   "name": "python",
   "nbconvert_exporter": "python",
   "pygments_lexer": "ipython3",
   "version": "3.11.6"
  }
 },
 "nbformat": 4,
 "nbformat_minor": 4
}
